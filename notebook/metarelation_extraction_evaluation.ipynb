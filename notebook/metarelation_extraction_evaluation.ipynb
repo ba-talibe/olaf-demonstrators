{
 "cells": [
  {
   "cell_type": "markdown",
   "metadata": {},
   "source": [
    "In  this notebook , we will procede to metarelation extraction base on a lllm pipeline"
   ]
  },
  {
   "cell_type": "markdown",
   "metadata": {},
   "source": [
    "prompt used :\n",
    "\n",
    "You are an helpful assistant helping building an ontology from technical documentation.\n",
    "\n",
    "Extract the most meaningful keywords of the following text. Keep only keywords that could be concepts and not relations. Write them as a python list of string with double quotes.\n",
    "\n",
    "Here is an example. Text: This python package is about ontology learning. I do not know a lot about this field. [\"python package\", \"ontology learning\", \"field\"]\n",
    "\n",
    "Text: {corpus}"
   ]
  },
  {
   "cell_type": "code",
   "execution_count": 1,
   "metadata": {},
   "outputs": [
    {
     "name": "stderr",
     "output_type": "stream",
     "text": [
      "/home/oumar/Bureau/ontology-learning/env/lib/python3.10/site-packages/sentence_transformers/cross_encoder/CrossEncoder.py:11: TqdmWarning: IProgress not found. Please update jupyter and ipywidgets. See https://ipywidgets.readthedocs.io/en/stable/user_install.html\n",
      "  from tqdm.autonotebook import tqdm, trange\n"
     ]
    }
   ],
   "source": [
    "import spacy\n",
    "from typing import Set, List\n",
    "import pandas as pd\n",
    "from olaf import Pipeline\n",
    "from olaf.commons.logging_config import logger\n",
    "from olaf.data_container import CandidateTerm, Relation, Concept\n",
    "from olaf.data_container.knowledge_representation_schema import KnowledgeRepresentation\n",
    "from olaf.pipeline.pipeline_component.term_extraction import (\n",
    "    POSTermExtraction,\n",
    "    TFIDFTermExtraction,\n",
    "    ManualCandidateTermExtraction\n",
    "    )\n",
    "from olaf.pipeline.pipeline_component.concept_relation_extraction import (\n",
    "    CTsToConceptExtraction,\n",
    "    CTsToRelationExtraction,\n",
    "    SynonymRelationExtraction,\n",
    "    SynonymConceptExtraction,\n",
    "    AgglomerativeClusteringRelationExtraction,\n",
    "    AgglomerativeClusteringConceptExtraction\n",
    ")\n",
    "from olaf.commons.spacy_processing_tools import is_not_punct, is_not_stopword, select_on_pos\n",
    "\n",
    "from olaf.pipeline.pipeline_component.candidate_term_enrichment import SemanticBasedEnrichment\n",
    "\n",
    "from olaf.repository.corpus_loader.text_corpus_loader import TextCorpusLoader"
   ]
  },
  {
   "cell_type": "code",
   "execution_count": 2,
   "metadata": {},
   "outputs": [],
   "source": [
    "import numpy as np\n",
    "import matplotlib.pyplot as plt\n",
    "import plotly.express as px\n",
    "import plotly.graph_objects as go\n",
    "from matplotlib_venn import venn2, venn3"
   ]
  },
  {
   "cell_type": "code",
   "execution_count": 3,
   "metadata": {},
   "outputs": [],
   "source": [
    "nlp = spacy.load(\"en_core_web_lg\")"
   ]
  },
  {
   "cell_type": "code",
   "execution_count": 11,
   "metadata": {},
   "outputs": [],
   "source": [
    "import torch, gc\n",
    "def free_gpu():\n",
    "    \"\"\"\n",
    "    frees up the GPU cache for other calculations. \n",
    "    \"\"\"\n",
    "    gc.collect()\n",
    "    torch.cuda.empty_cache()\n",
    "\n",
    "free_gpu()"
   ]
  },
  {
   "cell_type": "markdown",
   "metadata": {},
   "source": [
    "# Select and create relevent concepts from the corpus.\n"
   ]
  },
  {
   "cell_type": "code",
   "execution_count": 5,
   "metadata": {},
   "outputs": [
    {
     "name": "stdout",
     "output_type": "stream",
     "text": [
      "[Punching, Welding line, Crescent Gap, Water spot, Oil spot, Silk spot, Inclusion, Rolled pit, Crease, Waist folding, metal surface defect, mechanical failure, drying, mechanical lubricant, temperature, pressure, work roll damage, tension roll damage, local yield, low-carbon, steel strip, folds, rough pockmarked surfaces, metal surface defect, deformation]\n"
     ]
    }
   ],
   "source": [
    "expected_concepts = []\n",
    "with open(\"../data/concepts_v2.txt\", 'r') as f:\n",
    "    lines = f.readlines()\n",
    "    expected_concepts = [concept.rstrip(\"\\n\") for concept in lines]\n",
    "    expected_concepts = [Concept(concept) for concept in expected_concepts]\n",
    "    f.close()\n",
    "\n",
    "print(expected_concepts)\n"
   ]
  },
  {
   "cell_type": "code",
   "execution_count": 6,
   "metadata": {},
   "outputs": [],
   "source": [
    "corpus_path = \"../data/GC10-DET_doc.txt\"\n",
    "corpus_loader = TextCorpusLoader(corpus_path)"
   ]
  },
  {
   "cell_type": "code",
   "execution_count": 14,
   "metadata": {},
   "outputs": [],
   "source": [
    "free_gpu()\n",
    "\n",
    "from sklearn.metrics.pairwise import cosine_similarity\n",
    "from sentence_transformers import SentenceTransformer, util\n",
    "model = SentenceTransformer(\"sentence-transformers/all-MiniLM-L6-v2\")"
   ]
  },
  {
   "cell_type": "markdown",
   "metadata": {},
   "source": [
    "# Testing concept ratio function"
   ]
  },
  {
   "cell_type": "code",
   "execution_count": 16,
   "metadata": {},
   "outputs": [],
   "source": [
    "\n",
    "\n",
    "def hg_lm_similaritiry(embedding_a : str, embedding_b: str, threshold=.8):\n",
    "    \"\"\"compute the cosine similarity between two vectors\n",
    "    \"\"\"\n",
    "    return util.pytorch_cos_sim(embedding_a, embedding_b) > threshold\n",
    "\n",
    "def create_concepts_embedings(concepts: List[Concept], model=model) -> List[np.ndarray]:\n",
    "    \"\"\"\n",
    "    Create a embedding list of concepts label from a list of Concepts.\n",
    "    \"\"\"\n",
    "    concept_labels = [concept.label for concept in concepts]\n",
    "    concept_embedings = model.encode(concept_labels)\n",
    "    return concept_embedings\n",
    "\n",
    "\n",
    "def get_unexpected_concepts(concepts: List[Concept], expected_concepts : List[Concept]):\n",
    "    \"\"\"\n",
    "    Return all the concepts obtained that do not appear in those expected.\n",
    "    \"\"\"\n",
    "    unexpected_concepts = []\n",
    "    concepts = list(concepts)\n",
    "    concepts_embedings = create_concepts_embedings(concepts)\n",
    "    expected_concepts_embeding = create_concepts_embedings(expected_concepts)\n",
    "    for idc, concept_embeding in enumerate(concepts_embedings):\n",
    "        if not any([hg_lm_similaritiry(concept_embeding, expected_concept_embeding) > 0.7 for expected_concept_embeding in expected_concepts_embeding]):\n",
    "            unexpected_concepts.append(concepts[idc])\n",
    "    return unexpected_concepts\n",
    "\n",
    "def get_concept_ratio(pipeline : Pipeline, expected_concepts : List[Concept], comparator = hg_lm_similaritiry, comparator_args:dict={}, verbose=False) -> tuple:\n",
    "    \"\"\"\n",
    "    Calculate the ratio of expected and unexpected concepts in a given pipeline.\n",
    "\n",
    "    Parameters\n",
    "    ----------\n",
    "    pipeline : Pipeline\n",
    "        The pipeline object containing concepts.\n",
    "    expected_concepts : List[Concept]\n",
    "        A list of expected concepts.kwargs\n",
    "\n",
    "    Returns\n",
    "    -------\n",
    "    Tuple[float, float]: A tuple containing:\n",
    "        The percentage of expected concepts found in the pipeline.\n",
    "        The percentage of unexpected concepts in the pipeline.\n",
    "    \"\"\"\n",
    "    \n",
    "    \n",
    "    found_concepts = list(pipeline.kr.concepts)\n",
    "    if not found_concepts:\n",
    "        pipeline.run()\n",
    "        found_concepts = list(pipeline.kr.concepts)\n",
    "\n",
    "    if not found_concepts:\n",
    "        return (0, 0, 0)\n",
    "    found_concepts_embedings = create_concepts_embedings(found_concepts)\n",
    "    expected_concepts_embeding = create_concepts_embedings(expected_concepts)\n",
    "    expected_concept_occ = 0\n",
    "    for idx, expected_concept_embeding in enumerate(expected_concepts_embeding):\n",
    "        if verbose:\n",
    "            print()\n",
    "            print(f\"{expected_concepts[idx]} : \", end=\"\")\n",
    "        for idc, found_concept_embeding in enumerate(found_concepts_embedings):\n",
    "            if comparator(expected_concept_embeding, found_concept_embeding, **comparator_args):\n",
    "                expected_concept_occ += 1\n",
    "                if verbose:\n",
    "                    print(f\"{found_concepts[idc]} \", end=\"\")\n",
    "                break \n",
    "\n",
    "    recall = expected_concept_occ/len(expected_concepts)\n",
    "    precision = expected_concept_occ/len(found_concepts)\n",
    "    f1 = 2*(precision * recall)/(precision+recall)\n",
    "    return (precision, recall, f1)\n",
    "    \n",
    "comparator_args = {\"threshold\":.7}"
   ]
  },
  {
   "cell_type": "code",
   "execution_count": 18,
   "metadata": {},
   "outputs": [],
   "source": [
    "from olaf.pipeline.pipeline_component.term_extraction.manual_candidate_terms import (\n",
    "    ManualCandidateTermExtraction,\n",
    ")\n",
    "from olaf.pipeline.pipeline_component.concept_relation_extraction.candidate_terms_to_concepts import CTsToConceptExtraction\n",
    "\n",
    "from olaf.pipeline.pipeline_component.concept_relation_extraction.candidate_terms_to_relations import CTsToRelationExtraction\n",
    "\n",
    "\n",
    "# a list of candidate terms by a LLM to create concepts\n",
    "concepts = [\n",
    "    \"defect type\", \n",
    "    \"steel strip surface\", \n",
    "    \"punching\", \n",
    "    \"mechanical failure\", \n",
    "    \"production line\", \n",
    "    \"product specifications\", \n",
    "    \"punching defects\", \n",
    "    \"welding line\", \n",
    "    \"coil\", \n",
    "    \"weld line\", \n",
    "    \"crescent gap\", \n",
    "    \"cutting\", \n",
    "    \"water spot\", \n",
    "    \"drying\", \n",
    "    \"product\", \n",
    "    \"processes\", \n",
    "    \"oil spot\", \n",
    "    \"contamination\", \n",
    "    \"mechanical lubricant\", \n",
    "    \"appearance\", \n",
    "    \"silk spot\", \n",
    "    \"plaque\", \n",
    "    \"strip surface\", \n",
    "    \"density\", \n",
    "    \"temperature\", \n",
    "    \"roller\", \n",
    "    \"pressure\", \n",
    "    \"inclusion\", \n",
    "    \"metal surface\", \n",
    "    \"spots\", \n",
    "    \"fish scale shape\", \n",
    "    \"strip shape\", \n",
    "    \"block irregular distribution\", \n",
    "    \"rough pockmarked surfaces\", \n",
    "    \"plate\", \n",
    "    \"rolled pit\", \n",
    "    \"bulges\", \n",
    "    \"pits\", \n",
    "    \"steel plate\", \n",
    "    \"work roll\", \n",
    "    \"tension roll\", \n",
    "    \"damage\", \n",
    "    \"crease\", \n",
    "    \"fold\", \n",
    "    \"spacing\", \n",
    "    \"local yield\", \n",
    "    \"uncoiling process\", \n",
    "    \"waist folding\", \n",
    "    \"wrinkles\", \n",
    "    \"local deformation\", \n",
    "    \"low-carbon\"\n",
    "]\n",
    "\n",
    "# a list of candidate terms by a LLM to create relations\n",
    "relations = [\n",
    "    \"described\",\n",
    "    \"explaining\",\n",
    "    \"appears\",\n",
    "    \"leads\",\n",
    "    \"resulting\",\n",
    "    \"changed\",\n",
    "    \"produced\",\n",
    "    \"drying\",\n",
    "    \"caused\",\n",
    "    \"affect\",\n",
    "    \"appearing\",\n",
    "    \"lies\",\n",
    "    \"distributed\",\n",
    "    \"accompanied\",\n",
    "    \"showing\",\n",
    "    \"pressed\",\n",
    "    \"occurred\",\n",
    "    \"circumvented\",\n",
    "    \"detected\",\n",
    "    \"tracked\",\n",
    "    \"results\",\n",
    "    \"like\",\n",
    "    \"mainly\",\n",
    "    \"uncoiling\"\n",
    "]\n",
    "\n",
    "ct_concept_label = { concept : {concept} for concept in concepts}\n",
    "\n",
    "manuel_concept_extraction = ManualCandidateTermExtraction(\n",
    "    ct_label_strings_map=ct_concept_label\n",
    ")\n"
   ]
  },
  {
   "cell_type": "markdown",
   "metadata": {},
   "source": [
    "# Usefull function"
   ]
  },
  {
   "cell_type": "code",
   "execution_count": 19,
   "metadata": {},
   "outputs": [],
   "source": [
    "def display_concept(kr : KnowledgeRepresentation) -> None:\n",
    "    \"\"\"\n",
    "    Display the concepts contained in a KnowledgeRepresentation\n",
    "\n",
    "    Parameters\n",
    "    ----------\n",
    "    kr : KnowledgeRepresentation\n",
    "        The Knowledge Representation containing the concepts and relations.\n",
    "\n",
    "    Returns\n",
    "    -------\n",
    "    None.\n",
    "    \"\"\"\n",
    "    print(\"Concepts in KR:\")\n",
    "    for concept in kr.concepts:\n",
    "        print(concept.label)\n",
    "\n",
    "\n",
    "def display_relation(kr: KnowledgeRepresentation) -> None:\n",
    "    \"\"\"\n",
    "    Display the relations contained in a KnowledgeRepresentation\n",
    "\n",
    "    Parameters\n",
    "    ----------\n",
    "    kr : KnowledgeRepresentation\n",
    "        The Knowledge Representation containing the concepts and relations.\n",
    "\n",
    "    Returns\n",
    "    -------\n",
    "    None.\n",
    "    \"\"\"\n",
    "    print(\"Relations in KR:\")\n",
    "    for relation in kr.relations:\n",
    "        if (\n",
    "            relation.source_concept is not None\n",
    "            or relation.destination_concept is not None\n",
    "        ):\n",
    "            print(\n",
    "                (\n",
    "                    relation.source_concept.label,\n",
    "                    relation.label,\n",
    "                    relation.destination_concept.label,\n",
    "                )\n",
    "            )\n",
    "\n",
    "def describe_pipeline(pipeline: Pipeline) -> None:\n",
    "    \"\"\"\n",
    "    Display all pipeline components class names\n",
    "\n",
    "    Parameters\n",
    "    ----------\n",
    "    pipeline : Pipeline\n",
    "        the pipeline to describe.\n",
    "\n",
    "    Returns\n",
    "    -------\n",
    "    None.\n",
    "    \"\"\"\n",
    "    print(pipeline.__class__.__name__)\n",
    "    for component in pipeline.pipeline_components:\n",
    "        print(f\"\\t {component.__class__.__name__}\")\n",
    "\n",
    "def display_metarelation(kr: KnowledgeRepresentation) -> None:\n",
    "    \"\"\"\n",
    "    Display the relations contained in a KnowledgeRepresentation\n",
    "\n",
    "    Parameters\n",
    "    ----------\n",
    "    kr : KnowledgeRepresentation\n",
    "        The Knowledge Representation containing the concepts and metarelations.\n",
    "\n",
    "    Returns\n",
    "    -------\n",
    "    None.\n",
    "    \"\"\"\n",
    "    print(f\"{len(kr.metarelations)} MetaRelations in KR:\")\n",
    "    for metarelation in kr.metarelations:\n",
    "        print(metarelation.source_concept,  metarelation, metarelation.destination_concept)\n",
    "\n"
   ]
  },
  {
   "cell_type": "markdown",
   "metadata": {},
   "source": [
    "# Creating pipelines"
   ]
  },
  {
   "cell_type": "code",
   "execution_count": 20,
   "metadata": {},
   "outputs": [],
   "source": [
    "from olaf.pipeline.pipeline_component.term_extraction import (\n",
    "    ManualCandidateTermExtraction,\n",
    "    POSTermExtraction,\n",
    "    TFIDFTermExtraction,\n",
    "    CvalueTermExtraction\n",
    ")\n",
    "\n",
    "from olaf.pipeline.pipeline_component.concept_relation_extraction import (\n",
    "    CTsToConceptExtraction,\n",
    "    SynonymConceptExtraction,\n",
    "    AgglomerativeClusteringConceptExtraction\n",
    ")\n"
   ]
  },
  {
   "cell_type": "code",
   "execution_count": 21,
   "metadata": {},
   "outputs": [
    {
     "data": {
      "text/html": [
       "<div>\n",
       "<style scoped>\n",
       "    .dataframe tbody tr th:only-of-type {\n",
       "        vertical-align: middle;\n",
       "    }\n",
       "\n",
       "    .dataframe tbody tr th {\n",
       "        vertical-align: top;\n",
       "    }\n",
       "\n",
       "    .dataframe thead tr th {\n",
       "        text-align: left;\n",
       "    }\n",
       "</style>\n",
       "<table border=\"1\" class=\"dataframe\">\n",
       "  <thead>\n",
       "    <tr>\n",
       "      <th></th>\n",
       "      <th colspan=\"3\" halign=\"left\">CandidatToConcept</th>\n",
       "      <th colspan=\"3\" halign=\"left\">SynonymToConcept</th>\n",
       "      <th colspan=\"3\" halign=\"left\">AgglomerativeClustering</th>\n",
       "    </tr>\n",
       "    <tr>\n",
       "      <th></th>\n",
       "      <th>Precision</th>\n",
       "      <th>Rappel</th>\n",
       "      <th>F1</th>\n",
       "      <th>Precision</th>\n",
       "      <th>Rappel</th>\n",
       "      <th>F1</th>\n",
       "      <th>Precision</th>\n",
       "      <th>Rappel</th>\n",
       "      <th>F1</th>\n",
       "    </tr>\n",
       "  </thead>\n",
       "  <tbody>\n",
       "    <tr>\n",
       "      <th>LLM Term Extraction</th>\n",
       "      <td>NaN</td>\n",
       "      <td>NaN</td>\n",
       "      <td>NaN</td>\n",
       "      <td>NaN</td>\n",
       "      <td>NaN</td>\n",
       "      <td>NaN</td>\n",
       "      <td>NaN</td>\n",
       "      <td>NaN</td>\n",
       "      <td>NaN</td>\n",
       "    </tr>\n",
       "  </tbody>\n",
       "</table>\n",
       "</div>"
      ],
      "text/plain": [
       "                    CandidatToConcept             SynonymToConcept         \\\n",
       "                            Precision Rappel   F1        Precision Rappel   \n",
       "LLM Term Extraction               NaN    NaN  NaN              NaN    NaN   \n",
       "\n",
       "                         AgglomerativeClustering              \n",
       "                      F1               Precision Rappel   F1  \n",
       "LLM Term Extraction  NaN                     NaN    NaN  NaN  "
      ]
     },
     "execution_count": 21,
     "metadata": {},
     "output_type": "execute_result"
    }
   ],
   "source": [
    "concept_extraction_components = [\"CandidatToConcept\", \"SynonymToConcept\", \"AgglomerativeClustering\"]\n",
    "term_extraction_components = [\"LLM Term Extraction\", ]\n",
    "results = pd.DataFrame(\n",
    "    index=concept_extraction_components,\n",
    "    columns=term_extraction_components\n",
    "    )\n",
    "\n",
    "multi_index = pd.MultiIndex.from_product([\n",
    "   concept_extraction_components, \n",
    "    [\"Precision\", \"Rappel\", \"F1\"]\n",
    "    ])\n",
    "pipelines_scores = pd.DataFrame(index=term_extraction_components, columns=multi_index)\n",
    "\n",
    "pipelines_scores"
   ]
  },
  {
   "cell_type": "markdown",
   "metadata": {},
   "source": [
    "## LLM Term  Extraction"
   ]
  },
  {
   "cell_type": "code",
   "execution_count": 22,
   "metadata": {},
   "outputs": [],
   "source": [
    "llm_pipelines = []\n",
    "llm_results = []"
   ]
  },
  {
   "cell_type": "markdown",
   "metadata": {},
   "source": [
    "### LLM Term  Extraction and Candidat To Concept Extraction"
   ]
  },
  {
   "cell_type": "code",
   "execution_count": 23,
   "metadata": {},
   "outputs": [
    {
     "name": "stdout",
     "output_type": "stream",
     "text": [
      "(0.5, 1.0, 0.6666666666666666)\n"
     ]
    }
   ],
   "source": [
    "\n",
    "\n",
    "ct_concept_label = {concept : {concept} for concept in concepts}\n",
    "\n",
    "\n",
    "llm_pipelines.append(\n",
    "    Pipeline(\n",
    "        spacy_model=nlp,\n",
    "        pipeline_components=[\n",
    "            ManualCandidateTermExtraction(\n",
    "                ct_label_strings_map=ct_concept_label\n",
    "            ),\n",
    "            CTsToConceptExtraction(),\n",
    "        ],\n",
    "        corpus_loader=corpus_loader\n",
    "    )\n",
    ")\n",
    "current_pipeline = llm_pipelines[-1]\n",
    "# current_pipeline.run()\n",
    "\n",
    "\n",
    "llm_results += list( \n",
    "    results:=get_concept_ratio(current_pipeline, expected_concepts, comparator_args=comparator_args)\n",
    "    )\n",
    "print(results)"
   ]
  },
  {
   "cell_type": "markdown",
   "metadata": {},
   "source": [
    "### LLM Term  Extraction and Synonym Concept Extraction"
   ]
  },
  {
   "cell_type": "code",
   "execution_count": null,
   "metadata": {},
   "outputs": [
    {
     "name": "stdout",
     "output_type": "stream",
     "text": [
      "(0.5, 1.0, 0.6666666666666666)\n"
     ]
    }
   ],
   "source": [
    "\n",
    "llm_pipelines.append(\n",
    "    Pipeline(\n",
    "        spacy_model=nlp,\n",
    "        pipeline_components=[\n",
    "            ManualCandidateTermExtraction(\n",
    "                ct_label_strings_map=ct_concept_label\n",
    "            ),\n",
    "            SemanticBasedEnrichment(\n",
    "                threshold=.9\n",
    "            ),\n",
    "            SynonymConceptExtraction(),\n",
    "        ],\n",
    "            corpus_loader=corpus_loader\n",
    "    )\n",
    ")\n",
    "current_pipeline = llm_pipelines[-1]\n",
    "\n",
    "\n",
    "llm_results += list(\n",
    "    results:=get_concept_ratio(current_pipeline, expected_concepts, comparator_args=comparator_args)\n",
    "    )\n",
    "print(results)"
   ]
  },
  {
   "cell_type": "markdown",
   "metadata": {},
   "source": [
    "### LLM Term  Extraction and Agglomerative Clustering Concept Extraction"
   ]
  },
  {
   "cell_type": "code",
   "execution_count": null,
   "metadata": {},
   "outputs": [
    {
     "name": "stderr",
     "output_type": "stream",
     "text": [
      "[2024-07-02 10:38:28,689] [WARNING] [agglomerative_clustering_concept_extraction] [_check_parameters] [No value given for embedding_model parameter, default will be set to all-mpnet-base-v2.]\n",
      "[2024-07-02 10:38:28,690] [WARNING] [agglomerative_clustering_concept_extraction] [_check_parameters] [No value given for metric option, default will be set to cosine.]\n"
     ]
    },
    {
     "name": "stdout",
     "output_type": "stream",
     "text": [
      "(0.5319148936170213, 1.0, 0.6944444444444444)\n"
     ]
    }
   ],
   "source": [
    "\n",
    "llm_pipelines.append(\n",
    "    Pipeline(\n",
    "        spacy_model=nlp,\n",
    "        pipeline_components=[\n",
    "            ManualCandidateTermExtraction(\n",
    "                ct_label_strings_map=ct_concept_label\n",
    "            ),\n",
    "            AgglomerativeClusteringConceptExtraction(\n",
    "                distance_threshold=.3\n",
    "            ),\n",
    "        ],\n",
    "        corpus_loader=corpus_loader\n",
    "    )\n",
    ")\n",
    "current_pipeline = llm_pipelines[-1]\n",
    "\n",
    "\n",
    "\n",
    "llm_results += list(\n",
    "    results:=get_concept_ratio(current_pipeline, expected_concepts, comparator_args=comparator_args)\n",
    "    )\n",
    "print(results)"
   ]
  },
  {
   "cell_type": "code",
   "execution_count": null,
   "metadata": {},
   "outputs": [],
   "source": [
    "free_gpu()"
   ]
  },
  {
   "cell_type": "markdown",
   "metadata": {},
   "source": [
    "## debugging LLMPipeline"
   ]
  },
  {
   "cell_type": "code",
   "execution_count": null,
   "metadata": {},
   "outputs": [
    {
     "name": "stdout",
     "output_type": "stream",
     "text": [
      "\n",
      "Punching : punching \n",
      "Welding line : weld line \n",
      "Crescent Gap : crescent gap \n",
      "Water spot : water spot \n",
      "Oil spot : oil spot \n",
      "Silk spot : silk spot \n",
      "Inclusion : inclusion \n",
      "Rolled pit : rolled pit \n",
      "Crease : crease \n",
      "Waist folding : fold \n",
      "metal surface defect : metal surface \n",
      "mechanical failure : mechanical failure \n",
      "drying : drying \n",
      "mechanical lubricant : mechanical lubricant \n",
      "temperature : temperature \n",
      "pressure : pressure \n",
      "work roll damage : work roll \n",
      "tension roll damage : tension roll \n",
      "local yield : local yield \n",
      "low-carbon : low-carbon \n",
      "steel strip : steel strip surface \n",
      "folds : fold \n",
      "rough pockmarked surfaces : rough pockmarked surfaces \n",
      "metal surface defect : metal surface \n",
      "deformation : local deformation "
     ]
    },
    {
     "data": {
      "text/plain": [
       "(0.5319148936170213, 1.0, 0.6944444444444444)"
      ]
     },
     "execution_count": 22,
     "metadata": {},
     "output_type": "execute_result"
    }
   ],
   "source": [
    "agg_pipeline = llm_pipelines[-1]\n",
    "get_concept_ratio(agg_pipeline, expected_concepts, comparator_args=comparator_args, verbose=True)"
   ]
  },
  {
   "cell_type": "code",
   "execution_count": null,
   "metadata": {},
   "outputs": [
    {
     "name": "stdout",
     "output_type": "stream",
     "text": [
      "\n",
      "Punching : punching \n",
      "Welding line : welding line \n",
      "Crescent Gap : crescent gap \n",
      "Water spot : water spot \n",
      "Oil spot : oil spot \n",
      "Silk spot : silk spot \n",
      "Inclusion : inclusion \n",
      "Rolled pit : rolled pit \n",
      "Crease : crease \n",
      "Waist folding : fold \n",
      "metal surface defect : metal surface \n",
      "mechanical failure : mechanical failure \n",
      "drying : drying \n",
      "mechanical lubricant : mechanical lubricant \n",
      "temperature : temperature \n",
      "pressure : pressure \n",
      "work roll damage : work roll \n",
      "tension roll damage : tension roll \n",
      "local yield : local yield \n",
      "low-carbon : low-carbon \n",
      "steel strip : steel strip surface \n",
      "folds : fold \n",
      "rough pockmarked surfaces : rough pockmarked surfaces \n",
      "metal surface defect : metal surface \n",
      "deformation : local deformation "
     ]
    },
    {
     "data": {
      "text/plain": [
       "(0.5, 1.0, 0.6666666666666666)"
      ]
     },
     "execution_count": 23,
     "metadata": {},
     "output_type": "execute_result"
    }
   ],
   "source": [
    "syn_pipeline = llm_pipelines[1]\n",
    "get_concept_ratio(syn_pipeline, expected_concepts, comparator_args=comparator_args, verbose=True)"
   ]
  },
  {
   "cell_type": "code",
   "execution_count": null,
   "metadata": {},
   "outputs": [],
   "source": [
    "ct_pipeline = llm_pipelines[0]\n",
    "get_concept_ratio(ct_pipeline, expected_concepts, comparator_args=comparator_args, verbose=True)"
   ]
  },
  {
   "cell_type": "markdown",
   "metadata": {},
   "source": [
    "### Score des pipelines"
   ]
  },
  {
   "cell_type": "code",
   "execution_count": null,
   "metadata": {},
   "outputs": [
    {
     "data": {
      "text/html": [
       "<div>\n",
       "<style scoped>\n",
       "    .dataframe tbody tr th:only-of-type {\n",
       "        vertical-align: middle;\n",
       "    }\n",
       "\n",
       "    .dataframe tbody tr th {\n",
       "        vertical-align: top;\n",
       "    }\n",
       "\n",
       "    .dataframe thead tr th {\n",
       "        text-align: left;\n",
       "    }\n",
       "</style>\n",
       "<table border=\"1\" class=\"dataframe\">\n",
       "  <thead>\n",
       "    <tr>\n",
       "      <th></th>\n",
       "      <th colspan=\"3\" halign=\"left\">CandidatToConcept</th>\n",
       "      <th colspan=\"3\" halign=\"left\">SynonymToConcept</th>\n",
       "      <th colspan=\"3\" halign=\"left\">AgglomerativeClustering</th>\n",
       "    </tr>\n",
       "    <tr>\n",
       "      <th></th>\n",
       "      <th>Precision</th>\n",
       "      <th>Rappel</th>\n",
       "      <th>F1</th>\n",
       "      <th>Precision</th>\n",
       "      <th>Rappel</th>\n",
       "      <th>F1</th>\n",
       "      <th>Precision</th>\n",
       "      <th>Rappel</th>\n",
       "      <th>F1</th>\n",
       "    </tr>\n",
       "  </thead>\n",
       "  <tbody>\n",
       "    <tr>\n",
       "      <th>LLM Term Extraction</th>\n",
       "      <td>0.5</td>\n",
       "      <td>1.0</td>\n",
       "      <td>0.666667</td>\n",
       "      <td>0.5</td>\n",
       "      <td>1.0</td>\n",
       "      <td>0.666667</td>\n",
       "      <td>0.531915</td>\n",
       "      <td>1.0</td>\n",
       "      <td>0.694444</td>\n",
       "    </tr>\n",
       "  </tbody>\n",
       "</table>\n",
       "</div>"
      ],
      "text/plain": [
       "                    CandidatToConcept                  SynonymToConcept  \\\n",
       "                            Precision Rappel        F1        Precision   \n",
       "LLM Term Extraction               0.5    1.0  0.666667              0.5   \n",
       "\n",
       "                                     AgglomerativeClustering                   \n",
       "                    Rappel        F1               Precision Rappel        F1  \n",
       "LLM Term Extraction    1.0  0.666667                0.531915    1.0  0.694444  "
      ]
     },
     "execution_count": 27,
     "metadata": {},
     "output_type": "execute_result"
    }
   ],
   "source": [
    "pipelines_scores.loc[term_extraction_components[0]] = llm_results\n",
    "pipelines_scores"
   ]
  },
  {
   "cell_type": "code",
   "execution_count": null,
   "metadata": {},
   "outputs": [
    {
     "data": {
      "application/vnd.plotly.v1+json": {
       "config": {
        "plotlyServerURL": "https://plot.ly"
       },
       "data": [
        {
         "alignmentgroup": "True",
         "hovertemplate": "Métrique=Precision<br>Composant=%{x}<br>Score=%{y}<extra></extra>",
         "legendgroup": "Precision",
         "marker": {
          "color": "#636efa",
          "pattern": {
           "shape": ""
          }
         },
         "name": "Precision",
         "offsetgroup": "Precision",
         "orientation": "v",
         "showlegend": true,
         "textposition": "auto",
         "type": "bar",
         "x": [
          "CandidatToConcept",
          "SynonymToConcept",
          "AgglomerativeClustering"
         ],
         "xaxis": "x",
         "y": [
          0.5,
          0.5,
          0.5319148936170213
         ],
         "yaxis": "y"
        },
        {
         "alignmentgroup": "True",
         "hovertemplate": "Métrique=Rappel<br>Composant=%{x}<br>Score=%{y}<extra></extra>",
         "legendgroup": "Rappel",
         "marker": {
          "color": "#EF553B",
          "pattern": {
           "shape": ""
          }
         },
         "name": "Rappel",
         "offsetgroup": "Rappel",
         "orientation": "v",
         "showlegend": true,
         "textposition": "auto",
         "type": "bar",
         "x": [
          "CandidatToConcept",
          "SynonymToConcept",
          "AgglomerativeClustering"
         ],
         "xaxis": "x",
         "y": [
          1,
          1,
          1
         ],
         "yaxis": "y"
        },
        {
         "alignmentgroup": "True",
         "hovertemplate": "Métrique=F1<br>Composant=%{x}<br>Score=%{y}<extra></extra>",
         "legendgroup": "F1",
         "marker": {
          "color": "#00cc96",
          "pattern": {
           "shape": ""
          }
         },
         "name": "F1",
         "offsetgroup": "F1",
         "orientation": "v",
         "showlegend": true,
         "textposition": "auto",
         "type": "bar",
         "x": [
          "CandidatToConcept",
          "SynonymToConcept",
          "AgglomerativeClustering"
         ],
         "xaxis": "x",
         "y": [
          0.6666666666666666,
          0.6666666666666666,
          0.6944444444444444
         ],
         "yaxis": "y"
        }
       ],
       "layout": {
        "barmode": "group",
        "height": 600,
        "legend": {
         "title": {
          "text": "Métrique"
         },
         "tracegroupgap": 0
        },
        "template": {
         "data": {
          "bar": [
           {
            "error_x": {
             "color": "#2a3f5f"
            },
            "error_y": {
             "color": "#2a3f5f"
            },
            "marker": {
             "line": {
              "color": "#E5ECF6",
              "width": 0.5
             },
             "pattern": {
              "fillmode": "overlay",
              "size": 10,
              "solidity": 0.2
             }
            },
            "type": "bar"
           }
          ],
          "barpolar": [
           {
            "marker": {
             "line": {
              "color": "#E5ECF6",
              "width": 0.5
             },
             "pattern": {
              "fillmode": "overlay",
              "size": 10,
              "solidity": 0.2
             }
            },
            "type": "barpolar"
           }
          ],
          "carpet": [
           {
            "aaxis": {
             "endlinecolor": "#2a3f5f",
             "gridcolor": "white",
             "linecolor": "white",
             "minorgridcolor": "white",
             "startlinecolor": "#2a3f5f"
            },
            "baxis": {
             "endlinecolor": "#2a3f5f",
             "gridcolor": "white",
             "linecolor": "white",
             "minorgridcolor": "white",
             "startlinecolor": "#2a3f5f"
            },
            "type": "carpet"
           }
          ],
          "choropleth": [
           {
            "colorbar": {
             "outlinewidth": 0,
             "ticks": ""
            },
            "type": "choropleth"
           }
          ],
          "contour": [
           {
            "colorbar": {
             "outlinewidth": 0,
             "ticks": ""
            },
            "colorscale": [
             [
              0,
              "#0d0887"
             ],
             [
              0.1111111111111111,
              "#46039f"
             ],
             [
              0.2222222222222222,
              "#7201a8"
             ],
             [
              0.3333333333333333,
              "#9c179e"
             ],
             [
              0.4444444444444444,
              "#bd3786"
             ],
             [
              0.5555555555555556,
              "#d8576b"
             ],
             [
              0.6666666666666666,
              "#ed7953"
             ],
             [
              0.7777777777777778,
              "#fb9f3a"
             ],
             [
              0.8888888888888888,
              "#fdca26"
             ],
             [
              1,
              "#f0f921"
             ]
            ],
            "type": "contour"
           }
          ],
          "contourcarpet": [
           {
            "colorbar": {
             "outlinewidth": 0,
             "ticks": ""
            },
            "type": "contourcarpet"
           }
          ],
          "heatmap": [
           {
            "colorbar": {
             "outlinewidth": 0,
             "ticks": ""
            },
            "colorscale": [
             [
              0,
              "#0d0887"
             ],
             [
              0.1111111111111111,
              "#46039f"
             ],
             [
              0.2222222222222222,
              "#7201a8"
             ],
             [
              0.3333333333333333,
              "#9c179e"
             ],
             [
              0.4444444444444444,
              "#bd3786"
             ],
             [
              0.5555555555555556,
              "#d8576b"
             ],
             [
              0.6666666666666666,
              "#ed7953"
             ],
             [
              0.7777777777777778,
              "#fb9f3a"
             ],
             [
              0.8888888888888888,
              "#fdca26"
             ],
             [
              1,
              "#f0f921"
             ]
            ],
            "type": "heatmap"
           }
          ],
          "heatmapgl": [
           {
            "colorbar": {
             "outlinewidth": 0,
             "ticks": ""
            },
            "colorscale": [
             [
              0,
              "#0d0887"
             ],
             [
              0.1111111111111111,
              "#46039f"
             ],
             [
              0.2222222222222222,
              "#7201a8"
             ],
             [
              0.3333333333333333,
              "#9c179e"
             ],
             [
              0.4444444444444444,
              "#bd3786"
             ],
             [
              0.5555555555555556,
              "#d8576b"
             ],
             [
              0.6666666666666666,
              "#ed7953"
             ],
             [
              0.7777777777777778,
              "#fb9f3a"
             ],
             [
              0.8888888888888888,
              "#fdca26"
             ],
             [
              1,
              "#f0f921"
             ]
            ],
            "type": "heatmapgl"
           }
          ],
          "histogram": [
           {
            "marker": {
             "pattern": {
              "fillmode": "overlay",
              "size": 10,
              "solidity": 0.2
             }
            },
            "type": "histogram"
           }
          ],
          "histogram2d": [
           {
            "colorbar": {
             "outlinewidth": 0,
             "ticks": ""
            },
            "colorscale": [
             [
              0,
              "#0d0887"
             ],
             [
              0.1111111111111111,
              "#46039f"
             ],
             [
              0.2222222222222222,
              "#7201a8"
             ],
             [
              0.3333333333333333,
              "#9c179e"
             ],
             [
              0.4444444444444444,
              "#bd3786"
             ],
             [
              0.5555555555555556,
              "#d8576b"
             ],
             [
              0.6666666666666666,
              "#ed7953"
             ],
             [
              0.7777777777777778,
              "#fb9f3a"
             ],
             [
              0.8888888888888888,
              "#fdca26"
             ],
             [
              1,
              "#f0f921"
             ]
            ],
            "type": "histogram2d"
           }
          ],
          "histogram2dcontour": [
           {
            "colorbar": {
             "outlinewidth": 0,
             "ticks": ""
            },
            "colorscale": [
             [
              0,
              "#0d0887"
             ],
             [
              0.1111111111111111,
              "#46039f"
             ],
             [
              0.2222222222222222,
              "#7201a8"
             ],
             [
              0.3333333333333333,
              "#9c179e"
             ],
             [
              0.4444444444444444,
              "#bd3786"
             ],
             [
              0.5555555555555556,
              "#d8576b"
             ],
             [
              0.6666666666666666,
              "#ed7953"
             ],
             [
              0.7777777777777778,
              "#fb9f3a"
             ],
             [
              0.8888888888888888,
              "#fdca26"
             ],
             [
              1,
              "#f0f921"
             ]
            ],
            "type": "histogram2dcontour"
           }
          ],
          "mesh3d": [
           {
            "colorbar": {
             "outlinewidth": 0,
             "ticks": ""
            },
            "type": "mesh3d"
           }
          ],
          "parcoords": [
           {
            "line": {
             "colorbar": {
              "outlinewidth": 0,
              "ticks": ""
             }
            },
            "type": "parcoords"
           }
          ],
          "pie": [
           {
            "automargin": true,
            "type": "pie"
           }
          ],
          "scatter": [
           {
            "fillpattern": {
             "fillmode": "overlay",
             "size": 10,
             "solidity": 0.2
            },
            "type": "scatter"
           }
          ],
          "scatter3d": [
           {
            "line": {
             "colorbar": {
              "outlinewidth": 0,
              "ticks": ""
             }
            },
            "marker": {
             "colorbar": {
              "outlinewidth": 0,
              "ticks": ""
             }
            },
            "type": "scatter3d"
           }
          ],
          "scattercarpet": [
           {
            "marker": {
             "colorbar": {
              "outlinewidth": 0,
              "ticks": ""
             }
            },
            "type": "scattercarpet"
           }
          ],
          "scattergeo": [
           {
            "marker": {
             "colorbar": {
              "outlinewidth": 0,
              "ticks": ""
             }
            },
            "type": "scattergeo"
           }
          ],
          "scattergl": [
           {
            "marker": {
             "colorbar": {
              "outlinewidth": 0,
              "ticks": ""
             }
            },
            "type": "scattergl"
           }
          ],
          "scattermapbox": [
           {
            "marker": {
             "colorbar": {
              "outlinewidth": 0,
              "ticks": ""
             }
            },
            "type": "scattermapbox"
           }
          ],
          "scatterpolar": [
           {
            "marker": {
             "colorbar": {
              "outlinewidth": 0,
              "ticks": ""
             }
            },
            "type": "scatterpolar"
           }
          ],
          "scatterpolargl": [
           {
            "marker": {
             "colorbar": {
              "outlinewidth": 0,
              "ticks": ""
             }
            },
            "type": "scatterpolargl"
           }
          ],
          "scatterternary": [
           {
            "marker": {
             "colorbar": {
              "outlinewidth": 0,
              "ticks": ""
             }
            },
            "type": "scatterternary"
           }
          ],
          "surface": [
           {
            "colorbar": {
             "outlinewidth": 0,
             "ticks": ""
            },
            "colorscale": [
             [
              0,
              "#0d0887"
             ],
             [
              0.1111111111111111,
              "#46039f"
             ],
             [
              0.2222222222222222,
              "#7201a8"
             ],
             [
              0.3333333333333333,
              "#9c179e"
             ],
             [
              0.4444444444444444,
              "#bd3786"
             ],
             [
              0.5555555555555556,
              "#d8576b"
             ],
             [
              0.6666666666666666,
              "#ed7953"
             ],
             [
              0.7777777777777778,
              "#fb9f3a"
             ],
             [
              0.8888888888888888,
              "#fdca26"
             ],
             [
              1,
              "#f0f921"
             ]
            ],
            "type": "surface"
           }
          ],
          "table": [
           {
            "cells": {
             "fill": {
              "color": "#EBF0F8"
             },
             "line": {
              "color": "white"
             }
            },
            "header": {
             "fill": {
              "color": "#C8D4E3"
             },
             "line": {
              "color": "white"
             }
            },
            "type": "table"
           }
          ]
         },
         "layout": {
          "annotationdefaults": {
           "arrowcolor": "#2a3f5f",
           "arrowhead": 0,
           "arrowwidth": 1
          },
          "autotypenumbers": "strict",
          "coloraxis": {
           "colorbar": {
            "outlinewidth": 0,
            "ticks": ""
           }
          },
          "colorscale": {
           "diverging": [
            [
             0,
             "#8e0152"
            ],
            [
             0.1,
             "#c51b7d"
            ],
            [
             0.2,
             "#de77ae"
            ],
            [
             0.3,
             "#f1b6da"
            ],
            [
             0.4,
             "#fde0ef"
            ],
            [
             0.5,
             "#f7f7f7"
            ],
            [
             0.6,
             "#e6f5d0"
            ],
            [
             0.7,
             "#b8e186"
            ],
            [
             0.8,
             "#7fbc41"
            ],
            [
             0.9,
             "#4d9221"
            ],
            [
             1,
             "#276419"
            ]
           ],
           "sequential": [
            [
             0,
             "#0d0887"
            ],
            [
             0.1111111111111111,
             "#46039f"
            ],
            [
             0.2222222222222222,
             "#7201a8"
            ],
            [
             0.3333333333333333,
             "#9c179e"
            ],
            [
             0.4444444444444444,
             "#bd3786"
            ],
            [
             0.5555555555555556,
             "#d8576b"
            ],
            [
             0.6666666666666666,
             "#ed7953"
            ],
            [
             0.7777777777777778,
             "#fb9f3a"
            ],
            [
             0.8888888888888888,
             "#fdca26"
            ],
            [
             1,
             "#f0f921"
            ]
           ],
           "sequentialminus": [
            [
             0,
             "#0d0887"
            ],
            [
             0.1111111111111111,
             "#46039f"
            ],
            [
             0.2222222222222222,
             "#7201a8"
            ],
            [
             0.3333333333333333,
             "#9c179e"
            ],
            [
             0.4444444444444444,
             "#bd3786"
            ],
            [
             0.5555555555555556,
             "#d8576b"
            ],
            [
             0.6666666666666666,
             "#ed7953"
            ],
            [
             0.7777777777777778,
             "#fb9f3a"
            ],
            [
             0.8888888888888888,
             "#fdca26"
            ],
            [
             1,
             "#f0f921"
            ]
           ]
          },
          "colorway": [
           "#636efa",
           "#EF553B",
           "#00cc96",
           "#ab63fa",
           "#FFA15A",
           "#19d3f3",
           "#FF6692",
           "#B6E880",
           "#FF97FF",
           "#FECB52"
          ],
          "font": {
           "color": "#2a3f5f"
          },
          "geo": {
           "bgcolor": "white",
           "lakecolor": "white",
           "landcolor": "#E5ECF6",
           "showlakes": true,
           "showland": true,
           "subunitcolor": "white"
          },
          "hoverlabel": {
           "align": "left"
          },
          "hovermode": "closest",
          "mapbox": {
           "style": "light"
          },
          "paper_bgcolor": "white",
          "plot_bgcolor": "#E5ECF6",
          "polar": {
           "angularaxis": {
            "gridcolor": "white",
            "linecolor": "white",
            "ticks": ""
           },
           "bgcolor": "#E5ECF6",
           "radialaxis": {
            "gridcolor": "white",
            "linecolor": "white",
            "ticks": ""
           }
          },
          "scene": {
           "xaxis": {
            "backgroundcolor": "#E5ECF6",
            "gridcolor": "white",
            "gridwidth": 2,
            "linecolor": "white",
            "showbackground": true,
            "ticks": "",
            "zerolinecolor": "white"
           },
           "yaxis": {
            "backgroundcolor": "#E5ECF6",
            "gridcolor": "white",
            "gridwidth": 2,
            "linecolor": "white",
            "showbackground": true,
            "ticks": "",
            "zerolinecolor": "white"
           },
           "zaxis": {
            "backgroundcolor": "#E5ECF6",
            "gridcolor": "white",
            "gridwidth": 2,
            "linecolor": "white",
            "showbackground": true,
            "ticks": "",
            "zerolinecolor": "white"
           }
          },
          "shapedefaults": {
           "line": {
            "color": "#2a3f5f"
           }
          },
          "ternary": {
           "aaxis": {
            "gridcolor": "white",
            "linecolor": "white",
            "ticks": ""
           },
           "baxis": {
            "gridcolor": "white",
            "linecolor": "white",
            "ticks": ""
           },
           "bgcolor": "#E5ECF6",
           "caxis": {
            "gridcolor": "white",
            "linecolor": "white",
            "ticks": ""
           }
          },
          "title": {
           "x": 0.05
          },
          "xaxis": {
           "automargin": true,
           "gridcolor": "white",
           "linecolor": "white",
           "ticks": "",
           "title": {
            "standoff": 15
           },
           "zerolinecolor": "white",
           "zerolinewidth": 2
          },
          "yaxis": {
           "automargin": true,
           "gridcolor": "white",
           "linecolor": "white",
           "ticks": "",
           "title": {
            "standoff": 15
           },
           "zerolinecolor": "white",
           "zerolinewidth": 2
          }
         }
        },
        "title": {
         "text": "Scores de Précision, Rappel et F1 pour LLM Term Extraction"
        },
        "width": 1000,
        "xaxis": {
         "anchor": "y",
         "domain": [
          0,
          1
         ],
         "title": {
          "text": "Composants"
         }
        },
        "yaxis": {
         "anchor": "x",
         "domain": [
          0,
          1
         ],
         "title": {
          "text": "Scores"
         }
        }
       }
      }
     },
     "metadata": {},
     "output_type": "display_data"
    }
   ],
   "source": [
    "def create_bar_chart(index_name, data):\n",
    "    precision = data.loc[index_name].xs('Precision', level=1)\n",
    "    rappel = data.loc[index_name].xs('Rappel', level=1)\n",
    "    f1 = data.loc[index_name].xs('F1', level=1)\n",
    "\n",
    "    fig = go.Figure(data=[\n",
    "        go.Bar(name='Précision', x=data.columns.levels[0], y=precision),\n",
    "        go.Bar(name='Rappel', x=data.columns.levels[0], y=rappel),\n",
    "        go.Bar(name='F1', x=data.columns.levels[0], y=f1)\n",
    "    ])\n",
    "    \n",
    "    # Modifier la disposition du graphique\n",
    "    fig.update_layout(\n",
    "        title=f'Scores de Précision, Rappel et F1 pour {index_name}',\n",
    "        xaxis_title='Composants',\n",
    "        yaxis_title='Scores',\n",
    "        barmode='group'\n",
    "    )\n",
    "    \n",
    "    fig.show()\n",
    "\n",
    "data_long = pipelines_scores.reset_index().melt(id_vars='index', var_name=['Composant', 'Métrique'], value_name='Score')\n",
    "data_long.rename(columns={'index': 'Extraction'}, inplace=True)\n",
    "data_long = data_long.dropna()\n",
    "\n",
    "def create_bar_chart(index_name, data):\n",
    "    df = data[data['Extraction'] == index_name]\n",
    "    fig = px.bar(df, x='Composant', y='Score', color='Métrique', barmode='group',\n",
    "                 title=f'Scores de Précision, Rappel et F1 pour {index_name}')\n",
    "    \n",
    "    fig.update_layout(\n",
    "        xaxis_title='Composants',\n",
    "        yaxis_title='Scores'\n",
    "    )\n",
    "    fig.update_layout(width=1000, height=600)\n",
    "    fig.show()\n",
    "\n",
    "# Créer un diagramme en barres pour chaque index\n",
    "for idx in term_extraction_components:\n",
    "    create_bar_chart(idx, data_long)"
   ]
  },
  {
   "cell_type": "markdown",
   "metadata": {},
   "source": [
    "# Hierarchisation"
   ]
  },
  {
   "cell_type": "code",
   "execution_count": 24,
   "metadata": {},
   "outputs": [],
   "source": [
    "from olaf.pipeline.pipeline_component.concept_relation_hierarchy import SubsumptionHierarchisation"
   ]
  },
  {
   "cell_type": "markdown",
   "metadata": {},
   "source": [
    "## usefull fonctions"
   ]
  },
  {
   "cell_type": "code",
   "execution_count": 35,
   "metadata": {},
   "outputs": [
    {
     "data": {
      "text/plain": [
       "{meta : (rough pockmarked surfaces, is_generalised_by, spots),\n",
       " meta : (Punching, is_generalised_by, defect),\n",
       " meta : (Waist folding, is_generalised_by, defect),\n",
       " meta : (work roll damage, is_generalised_by, cause),\n",
       " meta : (tension roll damage, is_generalised_by, cause),\n",
       " meta : (Rolled pit, is_generalised_by, defect),\n",
       " meta : (periodic bulges, is_generalised_by, spots),\n",
       " meta : (temperature, is_generalised_by, cause),\n",
       " meta : (Crease, is_generalised_by, defect),\n",
       " meta : (drying, is_generalised_by, cause),\n",
       " meta : (Welding line, is_generalised_by, defect),\n",
       " meta : (low-carbon, is_generalised_by, cause),\n",
       " meta : (mechanical failure, is_generalised_by, cause),\n",
       " meta : (pits, is_generalised_by, spots),\n",
       " meta : (Inclusion, is_generalised_by, defect),\n",
       " meta : (pressure, is_generalised_by, cause),\n",
       " meta : (Oil spot, is_generalised_by, defect),\n",
       " meta : (mechanical lubricant, is_generalised_by, cause),\n",
       " meta : (Water spot, is_generalised_by, defect),\n",
       " meta : (Silk spot, is_generalised_by, defect),\n",
       " meta : (Crescent Gap, is_generalised_by, defect),\n",
       " meta : (local yield, is_generalised_by, cause)}"
      ]
     },
     "execution_count": 35,
     "metadata": {},
     "output_type": "execute_result"
    }
   ],
   "source": [
    "known_truth = {\n",
    "    \"defect\": [\n",
    "        \"Punching\",\n",
    "\t\t\"Welding line\",\n",
    "\t\t\"Crescent Gap\",\n",
    "\t\t\"Water spot\",\n",
    "\t\t\"Oil spot\",\n",
    "\t\t\"Silk spot\",\n",
    "\t\t\"Inclusion\",\n",
    "\t\t\"Rolled pit\",\n",
    "\t\t\"Crease\",\n",
    "\t\t\"Waist folding\",\n",
    "    ],\n",
    "    \"cause\": [\n",
    "        \"mechanical failure\",\n",
    "\t\t\"drying\",\n",
    "\t\t\"mechanical lubricant\",\n",
    "\t\t\"temperature\",\n",
    "\t\t\"pressure\",\n",
    "\t\t\"work roll damage\",\n",
    "\t\t\"tension roll damage\",\n",
    "\t\t\"local yield\",\n",
    "\t\t\"low-carbon\"\n",
    "    ],\n",
    "    \"spots\": [\n",
    "        \"periodic bulges\",\n",
    "        \"pits\",\n",
    "\t\t\"rough pockmarked surfaces\"\n",
    "\t]\n",
    "}\n",
    "\n",
    "def create_exp_meta(known_truth):\n",
    "\tresult = set()\n",
    "\tfor key, values in known_truth.items():\n",
    "\t\tfor value in values:\n",
    "\t\t\tresult.add(Metarelation(\n",
    "\t\t\t\tConcept(value),\n",
    "\t\t\t\tConcept(key),\n",
    "\t\t\t\t\"is_generalised_by\"\n",
    "\t\t\t))\n",
    "\treturn result\n",
    "\n",
    "expected_metarelations = create_exp_meta(known_truth)\n",
    "expected_metarelations"
   ]
  },
  {
   "cell_type": "code",
   "execution_count": 34,
   "metadata": {},
   "outputs": [],
   "source": [
    "\n",
    "def hg_lm_similaritiry(embedding_a : np.ndarray, embedding_b: np.ndarray, threshold=.6):\n",
    "    return util.pytorch_cos_sim(embedding_a, embedding_b) > threshold\n",
    "\n",
    "\n",
    "def get_metarelation_ratio(metarelations, expected_metarelations):\n",
    "\n",
    "    \"\"\"\n",
    "    Compte le nombre total de cooccurrences basées sur la similarité cosinus des éléments des tuples.\n",
    "\n",
    "    Args:\n",
    "    metarelations (list of tuples): La première liste de tuples contenant des embeddings.\n",
    "    expected_metarelations (list of tuples): La deuxième liste de tuples contenant des embeddings.\n",
    "\n",
    "    Returns:\n",
    "    int: Le nombre total de cooccurrences.\n",
    "    \"\"\"\n",
    "    cooccurrence_count = 0\n",
    "    \n",
    "    for t1 in metarelations:\n",
    "        for t2 in expected_metarelations:\n",
    "            if all(hg_lm_similaritiry(e1, e2) for e1, e2 in zip(t1, t2)):\n",
    "                cooccurrence_count += 1\n",
    "    \n",
    "    recall = cooccurrence_count/len(expected_metarelations)\n",
    "    precision = cooccurrence_count/len(metarelations)\n",
    "    f1 = 2*(precision * recall)/(precision+recall)\n",
    "    return (precision, recall, f1)\n"
   ]
  },
  {
   "cell_type": "markdown",
   "metadata": {},
   "source": [
    "## subsumption hierarchy"
   ]
  },
  {
   "cell_type": "code",
   "execution_count": 25,
   "metadata": {},
   "outputs": [],
   "source": [
    "subsumption_threshold = 0.99"
   ]
  },
  {
   "cell_type": "code",
   "execution_count": 26,
   "metadata": {},
   "outputs": [
    {
     "name": "stderr",
     "output_type": "stream",
     "text": [
      "[2024-07-15 14:05:31,807] [WARNING] [agglomerative_clustering_concept_extraction] [_check_parameters] [No value given for embedding_model parameter, default will be set to all-mpnet-base-v2.]\n",
      "[2024-07-15 14:05:31,808] [WARNING] [agglomerative_clustering_concept_extraction] [_check_parameters] [No value given for metric option, default will be set to cosine.]\n",
      "100%|██████████| 1225/1225 [00:00<00:00, 59405.97it/s]\n",
      "100%|██████████| 1225/1225 [00:00<00:00, 32958.01it/s]\n",
      "100%|██████████| 1081/1081 [00:00<00:00, 36539.52it/s]\n"
     ]
    }
   ],
   "source": [
    "llm_pipelines = [\n",
    "    Pipeline(\n",
    "        spacy_model=nlp,\n",
    "        pipeline_components=[\n",
    "            ManualCandidateTermExtraction(\n",
    "                ct_label_strings_map=ct_concept_label\n",
    "            ),\n",
    "            CTsToConceptExtraction(),\n",
    "            SubsumptionHierarchisation(threshold=subsumption_threshold)\n",
    "        ],\n",
    "        corpus_loader=corpus_loader\n",
    "    ),\n",
    "    Pipeline(\n",
    "        spacy_model=nlp,\n",
    "        pipeline_components=[\n",
    "            ManualCandidateTermExtraction(\n",
    "                ct_label_strings_map=ct_concept_label\n",
    "            ),\n",
    "            SemanticBasedEnrichment(\n",
    "                threshold=.9\n",
    "            ),\n",
    "            SynonymConceptExtraction(),\n",
    "            SubsumptionHierarchisation(threshold=subsumption_threshold)\n",
    "        ],\n",
    "            corpus_loader=corpus_loader\n",
    "    ),\n",
    "    Pipeline(\n",
    "        spacy_model=nlp,\n",
    "        pipeline_components=[\n",
    "            ManualCandidateTermExtraction(\n",
    "                ct_label_strings_map=ct_concept_label\n",
    "            ),\n",
    "            AgglomerativeClusteringConceptExtraction(\n",
    "                distance_threshold=.3\n",
    "            ),\n",
    "            SubsumptionHierarchisation(threshold=subsumption_threshold)\n",
    "        ],\n",
    "        corpus_loader=corpus_loader\n",
    "    )\n",
    "]\n",
    "\n",
    "for pipeline in llm_pipelines:\n",
    "    free_gpu()\n",
    "    pipeline.run()\n",
    "\n",
    "ct_pipeline, syn_pipeline, agg_pipeline = llm_pipelines\n"
   ]
  },
  {
   "cell_type": "code",
   "execution_count": 38,
   "metadata": {},
   "outputs": [
    {
     "data": {
      "text/plain": [
       "(0.02857142857142857, 0.045454545454545456, 0.03508771929824561)"
      ]
     },
     "execution_count": 38,
     "metadata": {},
     "output_type": "execute_result"
    }
   ],
   "source": [
    "found_metarelations = pipeline.kr.metarelations\n",
    "\n",
    "metarelations_embeding = [(model.encode(metarelation.source_concept.label), model.encode(metarelation.destination_concept.label)) for metarelation in found_metarelations]\n",
    "expected_metarelation_embeding = [(model.encode(metarelation.source_concept.label), model.encode(metarelation.destination_concept.label)) for metarelation in expected_metarelations]\n",
    "\n",
    "\n",
    "get_metarelation_ratio(metarelations_embeding, expected_metarelation_embeding)"
   ]
  },
  {
   "cell_type": "code",
   "execution_count": null,
   "metadata": {},
   "outputs": [
    {
     "name": "stdout",
     "output_type": "stream",
     "text": [
      "35 MetaRelations in KR:\n",
      "bulges is_generalised_by steel plate\n",
      "bulges is_generalised_by pits\n",
      "block irregular distribution is_generalised_by inclusion\n",
      "metal surface is_generalised_by inclusion\n",
      "fish scale shape is_generalised_by inclusion\n",
      "strip shape is_generalised_by inclusion\n",
      "mechanical lubricant is_generalised_by oil spot\n",
      "block irregular distribution is_generalised_by spots\n",
      "punching defects is_generalised_by punching\n",
      "punching defects is_generalised_by product\n",
      "fold is_generalised_by crease\n",
      "mechanical lubricant is_generalised_by product\n",
      "metal surface is_generalised_by spots\n",
      "fish scale shape is_generalised_by spots\n",
      "plaque is_generalised_by strip surface\n",
      "strip shape is_generalised_by spots\n",
      "drying is_generalised_by water spot\n",
      "mechanical failure is_generalised_by punching\n",
      "mechanical failure is_generalised_by product\n",
      "silk spot is_generalised_by strip surface\n",
      "density is_generalised_by strip surface\n",
      "defect type is_generalised_by strip surface\n",
      "contamination is_generalised_by oil spot\n",
      "contamination is_generalised_by product\n",
      "appearance is_generalised_by oil spot\n",
      "appearance is_generalised_by product\n",
      "production line is_generalised_by punching\n",
      "production line is_generalised_by product\n",
      "product specifications is_generalised_by punching\n",
      "product specifications is_generalised_by product\n",
      "rolled pit is_generalised_by steel plate\n",
      "rolled pit is_generalised_by pits\n",
      "spacing is_generalised_by crease\n",
      "rough pockmarked surfaces is_generalised_by inclusion\n",
      "rough pockmarked surfaces is_generalised_by spots\n"
     ]
    }
   ],
   "source": [
    "display_metarelation(agg_pipeline.kr)"
   ]
  },
  {
   "cell_type": "markdown",
   "metadata": {},
   "source": [
    "## llm hierarchisation"
   ]
  },
  {
   "cell_type": "code",
   "execution_count": 27,
   "metadata": {},
   "outputs": [],
   "source": [
    "from spacy.tokens import Doc\n",
    "\n",
    "from olaf.data_container.metarelation_schema import Metarelation\n",
    "\n",
    "doc_context_max_len = 4000\n",
    "\n",
    "def find_concept_by_label( label: str, concepts: Set[Concept]) -> Concept:\n",
    "    \"\"\"Find a concept based on its label.\n",
    "\n",
    "    Parameters\n",
    "    ----------\n",
    "    label: str\n",
    "        The label of the wanted concept.\n",
    "    concepts: Set[Concept]\n",
    "        The set of concepts to be searched.\n",
    "\n",
    "    Returns\n",
    "    -------\n",
    "    Concept\n",
    "        The concept with the wanted label.\n",
    "    \"\"\"\n",
    "    selected_concept = None\n",
    "    for concept in concepts:\n",
    "        if concept.label == label:\n",
    "            selected_concept = concept\n",
    "            break\n",
    "    return selected_concept\n",
    "\n",
    "def create_concepts_description(concepts: Set[Concept]) -> str:\n",
    "        \"\"\"Create concepts textual description.\n",
    "\n",
    "        Parameters\n",
    "        ----------\n",
    "        concepts: Set[Concept]\n",
    "            Concepts to describe.\n",
    "\n",
    "        Returns\n",
    "        -------\n",
    "        str\n",
    "            Textual description of the concepts.\n",
    "        \"\"\"\n",
    "        concepts_description = \"Concepts:\\n\"\n",
    "        for concept in concepts:\n",
    "            lrs = [\n",
    "                lr.label\n",
    "                for lr in concept.linguistic_realisations\n",
    "                if not (lr.label == concept.label)\n",
    "            ]\n",
    "            if len(lrs):\n",
    "                concepts_description += f\"{concept.label} ({', '.join(lrs)})\\n\"\n",
    "            else:\n",
    "                concepts_description += f\"{concept.label}\\n\"\n",
    "        return concepts_description\n",
    "\n",
    "def generate_doc_context( popular_docs: Set[Doc]) -> str:\n",
    "        \"\"\"Create context from documents with a fix size.\n",
    "\n",
    "        Parameters\n",
    "        ----------\n",
    "        popular_docs: Set[Doc]\n",
    "            spaCy docs to fill the context with.\n",
    "\n",
    "        Returns\n",
    "        -------\n",
    "        str\n",
    "            Concatenation of document contents up to a fixed size.\n",
    "        \"\"\"\n",
    "        context = \"\"\n",
    "        for doc in popular_docs:\n",
    "            if len(doc.text) < doc_context_max_len - len(context):\n",
    "                context += doc.text\n",
    "                context += \" \"\n",
    "            else:\n",
    "                context += doc.text[: doc_context_max_len - len(context)]\n",
    "                break\n",
    "        return context\n",
    "\n",
    "def create_hierarchisation_prompt(agg_pipeline, domain=\"\"):\n",
    "    popular_docs = set(agg_pipeline.corpus)\n",
    "    context = generate_doc_context(popular_docs)\n",
    "    concepts_description = create_concepts_description(pipeline.kr.concepts)\n",
    "    domain = f\"of {domain}\" if len(domain)  else \"\"\n",
    "\n",
    "    prompt = \"\"\"You are an helpful assistant helping building an ontology {domain}.\n",
    "        Based on the context given, define if there is a hierarchy between the listed concepts.\n",
    "        The result should be given as a python list of list of string with double quotes.\n",
    "\n",
    "        Here is an example. Concepts: animal, mammal, dog(canine), flower\n",
    "        [[\"mammal\",\"is_generalised_by\",\"animal\"], [\"dog\",\"is_generalised_by\",\"mammal\"], [\"dog\",\"is_generalised_by\",\"animal\"]]\n",
    "    \n",
    "        Context: {doc_context}\n",
    "        {concepts_description}\"\"\".format(domain=domain, doc_context=context, concepts_description=concepts_description)\n",
    "    return prompt\n",
    "\n",
    "def create_metarelations(\n",
    "     llm_output: str, concepts: Set[Concept]\n",
    ") -> Set[Metarelation]:\n",
    "    \"\"\"Create metarelations based on the LLM output.\n",
    "\n",
    "    Parameters\n",
    "    ----------\n",
    "    llm_output: str\n",
    "        Answer of the LLM for the hierarchy.\n",
    "    concepts: Set[Concept]\n",
    "        The set of existing concepts.\n",
    "\n",
    "    Returns\n",
    "    -------\n",
    "    Set[Metarelation]\n",
    "        The metarelations created.\n",
    "    \"\"\"\n",
    "    metarelations = set()\n",
    "    try:\n",
    "        for meta_tuple in llm_output:\n",
    "            source_concept = find_concept_by_label(meta_tuple[0], concepts)\n",
    "            destination_concept = find_concept_by_label(\n",
    "                meta_tuple[2], concepts\n",
    "            )\n",
    "            if source_concept is not None and destination_concept is not None and meta_tuple[1] == \"is_generalised_by\":\n",
    "                new_metarelation = Metarelation(\n",
    "                    source_concept, destination_concept, \"is_generalised_by\"\n",
    "                )\n",
    "                metarelations.add(new_metarelation)\n",
    "    except (SyntaxError, ValueError):\n",
    "        logger.error(\n",
    "            \"\"\"LLM generator output is not in the expected format. \n",
    "            The metarelations can not be extracted.\"\"\"\n",
    "        )\n",
    "    return metarelations"
   ]
  },
  {
   "cell_type": "code",
   "execution_count": 28,
   "metadata": {},
   "outputs": [
    {
     "name": "stdout",
     "output_type": "stream",
     "text": [
      "You are an helpful assistant helping building an ontology .\n",
      "        Based on the context given, define if there is a hierarchy between the listed concepts.\n",
      "        The result should be given as a python list of list of string with double quotes.\n",
      "\n",
      "        Here is an example. Concepts: animal, mammal, dog(canine), flower\n",
      "        [[\"mammal\",\"is_generalised_by\",\"animal\"], [\"dog\",\"is_generalised_by\",\"mammal\"], [\"dog\",\"is_generalised_by\",\"animal\"]]\n",
      "    \n",
      "        Context:     Oil spot: An oil spot is usually caused by the contamination of mechanical lubricant, which will affect the appearance of the product.\n",
      " Each defect type is described in detail, explaining how it appears on the steel strip surface and the reasons behind its occurrence:\n",
      "     Inclusion: Inclusion is a typical defect of metal surface defects, usually showing small spots, fish scale shape, strip shape, block irregular distribution in the strip of the upper and lower surface (global or local), and is often accompanied by rough pockmarked surfaces. Some inclusions are loose and easy to fall off and some are pressed into the plate.\n",
      "     Rolled pit: Rolled pits are periodic bulges or pits on the surface of a steel plate that are punctate, flaky, or strip-like. They are distributed throughout the strip length or section, mainly caused by work roll or tension roll damage.\n",
      "     Crescent gap: In the production of steel strip, cutting sometimes results in defects, just like half a circle.\n",
      "     Welding line: When the strip is changed, it is necessary to weld the two coils of the strip, and the weld line is produced. Strictly speaking, this is not a defect, but it needs to be automatically detected and tracked to be circumvented in subsequent cuts.\n",
      "     Silk spot: A local or continuous wave-like plaque on a strip surface that may appear on the upper and lower surfaces, and the density is uneven in the whole strip length direction. Generally, the main reason lies in the uneven temperature of the roller and uneven pressure.\n",
      "     Crease: A crease is a vertical transverse fold, with regular or irregular spacing across the strip, or at the edge of the strip. The main reason is the local yield along the moving direction of the strip in the uncoiling process.\n",
      "     Water spot: A water spot is produced by drying in production. Under different products and processes, the requirements for this defect are different. However, because the water spots are generally with low contrast, and are similar to other defects such as oil spots, they are usually detected by mistake.\n",
      "     Punching: In the production line of the strip, the steel strip needs to be punched according to the product specifications; mechanical failure may lead to unwanted punching, resulting in punching defects.\n",
      "     Waist folding: There are obvious folds in the defect parts, a little more popular, a little like wrinkles, indicating that the local deformation of the defect is too large. The reason is due to low-carbon.\n",
      " \n",
      "        Concepts:\n",
      "crease\n",
      "spacing\n",
      "production line\n",
      "pressure\n",
      "waist folding\n",
      "oil spot\n",
      "rolled pit\n",
      "appearance\n",
      "mechanical failure\n",
      "rough pockmarked surfaces\n",
      "temperature\n",
      "crescent gap\n",
      "weld line (welding line)\n",
      "uncoiling process\n",
      "bulges\n",
      "strip surface (steel strip surface)\n",
      "cutting\n",
      "mechanical lubricant\n",
      "local yield\n",
      "work roll\n",
      "block irregular distribution\n",
      "contamination\n",
      "damage\n",
      "punching\n",
      "density\n",
      "processes\n",
      "spots\n",
      "punching defects\n",
      "tension roll\n",
      "metal surface\n",
      "fish scale shape\n",
      "silk spot\n",
      "water spot\n",
      "drying\n",
      "local deformation\n",
      "product\n",
      "fold\n",
      "low-carbon\n",
      "pits\n",
      "product specifications\n",
      "inclusion\n",
      "strip shape\n",
      "wrinkles\n",
      "roller\n",
      "defect type\n",
      "plaque\n",
      "steel plate (plate)\n",
      "\n"
     ]
    }
   ],
   "source": [
    "domain1 = \"\"\n",
    "ct_prompt1 = create_hierarchisation_prompt(ct_pipeline, domain=domain1)\n",
    "print(ct_prompt1)"
   ]
  },
  {
   "cell_type": "code",
   "execution_count": 29,
   "metadata": {},
   "outputs": [
    {
     "data": {
      "text/plain": [
       "{meta : (weld line, is_generalised_by, welding line)}"
      ]
     },
     "execution_count": 29,
     "metadata": {},
     "output_type": "execute_result"
    }
   ],
   "source": [
    "import ast\n",
    "\n",
    "\n",
    "\n",
    "llm_output1 = [\n",
    "    [\"weld line\", \"is_generalised_by\", \"welding line\"],\n",
    "    [\"crease\", \"is_generalised_by\", \"defect\"],\n",
    "    [\"mechanical lubricant\", \"is_part_of\", \"mechanical system\"],\n",
    "    [\"roller\", \"is_part_of\", \"production line\"],\n",
    "    [\"pressure\", \"is_related_to\", \"roller\"],\n",
    "    [\"product specifications\", \"is_part_of\", \"product\"],\n",
    "    [\"damage\", \"is_generalised_by\", \"defect\"],\n",
    "    [\"weld line\", \"is_part_of\", \"welding process\"],\n",
    "    [\"drying\", \"is_part_of\", \"production process\"],\n",
    "    [\"product\", \"is_related_to\", \"production line\"]\n",
    "]\n",
    "\n",
    "create_metarelations(llm_output1, ct_pipeline.kr.concepts)"
   ]
  },
  {
   "cell_type": "code",
   "execution_count": 30,
   "metadata": {},
   "outputs": [
    {
     "name": "stdout",
     "output_type": "stream",
     "text": [
      "You are an helpful assistant helping building an ontology of technical documentation of quality defects.\n",
      "        Based on the context given, define if there is a hierarchy between the listed concepts.\n",
      "        The result should be given as a python list of list of string with double quotes.\n",
      "\n",
      "        Here is an example. Concepts: animal, mammal, dog(canine), flower\n",
      "        [[\"mammal\",\"is_generalised_by\",\"animal\"], [\"dog\",\"is_generalised_by\",\"mammal\"], [\"dog\",\"is_generalised_by\",\"animal\"]]\n",
      "    \n",
      "        Context:     Oil spot: An oil spot is usually caused by the contamination of mechanical lubricant, which will affect the appearance of the product.\n",
      " Each defect type is described in detail, explaining how it appears on the steel strip surface and the reasons behind its occurrence:\n",
      "     Inclusion: Inclusion is a typical defect of metal surface defects, usually showing small spots, fish scale shape, strip shape, block irregular distribution in the strip of the upper and lower surface (global or local), and is often accompanied by rough pockmarked surfaces. Some inclusions are loose and easy to fall off and some are pressed into the plate.\n",
      "     Rolled pit: Rolled pits are periodic bulges or pits on the surface of a steel plate that are punctate, flaky, or strip-like. They are distributed throughout the strip length or section, mainly caused by work roll or tension roll damage.\n",
      "     Crescent gap: In the production of steel strip, cutting sometimes results in defects, just like half a circle.\n",
      "     Welding line: When the strip is changed, it is necessary to weld the two coils of the strip, and the weld line is produced. Strictly speaking, this is not a defect, but it needs to be automatically detected and tracked to be circumvented in subsequent cuts.\n",
      "     Silk spot: A local or continuous wave-like plaque on a strip surface that may appear on the upper and lower surfaces, and the density is uneven in the whole strip length direction. Generally, the main reason lies in the uneven temperature of the roller and uneven pressure.\n",
      "     Crease: A crease is a vertical transverse fold, with regular or irregular spacing across the strip, or at the edge of the strip. The main reason is the local yield along the moving direction of the strip in the uncoiling process.\n",
      "     Water spot: A water spot is produced by drying in production. Under different products and processes, the requirements for this defect are different. However, because the water spots are generally with low contrast, and are similar to other defects such as oil spots, they are usually detected by mistake.\n",
      "     Punching: In the production line of the strip, the steel strip needs to be punched according to the product specifications; mechanical failure may lead to unwanted punching, resulting in punching defects.\n",
      "     Waist folding: There are obvious folds in the defect parts, a little more popular, a little like wrinkles, indicating that the local deformation of the defect is too large. The reason is due to low-carbon.\n",
      " \n",
      "        Concepts:\n",
      "crease\n",
      "spacing\n",
      "production line\n",
      "pressure\n",
      "waist folding\n",
      "oil spot\n",
      "rolled pit\n",
      "appearance\n",
      "mechanical failure\n",
      "rough pockmarked surfaces\n",
      "temperature\n",
      "crescent gap\n",
      "weld line (welding line)\n",
      "uncoiling process\n",
      "bulges\n",
      "strip surface (steel strip surface)\n",
      "cutting\n",
      "mechanical lubricant\n",
      "local yield\n",
      "work roll\n",
      "block irregular distribution\n",
      "contamination\n",
      "damage\n",
      "punching\n",
      "density\n",
      "processes\n",
      "spots\n",
      "punching defects\n",
      "tension roll\n",
      "metal surface\n",
      "fish scale shape\n",
      "silk spot\n",
      "water spot\n",
      "drying\n",
      "local deformation\n",
      "product\n",
      "fold\n",
      "low-carbon\n",
      "pits\n",
      "product specifications\n",
      "inclusion\n",
      "strip shape\n",
      "wrinkles\n",
      "roller\n",
      "defect type\n",
      "plaque\n",
      "steel plate (plate)\n",
      "\n"
     ]
    }
   ],
   "source": [
    "domain2 = \"technical documentation of quality defects\"\n",
    "ct_prompt2 = create_hierarchisation_prompt(ct_pipeline, domain=domain2)\n",
    "print(ct_prompt2)"
   ]
  },
  {
   "cell_type": "code",
   "execution_count": 31,
   "metadata": {},
   "outputs": [],
   "source": [
    "llm_output2 = [\n",
    "    [\"fish scale shape\", \"is_generalised_by\", \"inclusion\"],\n",
    "    [\"plaque\", \"is_generalised_by\", \"silk spot\"],\n",
    "    [\"rolled pit\", \"is_generalised_by\", \"defect type\"],\n",
    "    [\"pits\", \"is_generalised_by\", \"rolled pit\"],\n",
    "    [\"bulges\", \"is_generalised_by\", \"rolled pit\"],\n",
    "    [\"silk spot\", \"is_generalised_by\", \"defect type\"],\n",
    "    [\"spacing\", \"is_generalised_by\", \"crease\"],\n",
    "    [\"punching defects\", \"is_generalised_by\", \"defect type\"],\n",
    "    [\"punching defects\", \"is_generalised_by\", \"punching\"],\n",
    "    [\"oil spot\", \"is_generalised_by\", \"defect type\"],\n",
    "    [\"contamination\", \"is_generalised_by\", \"oil spot\"],\n",
    "    [\"rolled pit\", \"is_generalised_by\", \"work roll\"],\n",
    "    [\"rolled pit\", \"is_generalised_by\", \"tension roll\"],\n",
    "    [\"crescent gap\", \"is_generalised_by\", \"defect type\"],\n",
    "    [\"weld line (welding line)\", \"is_generalised_by\", \"production line\"],\n",
    "    [\"weld line (welding line)\", \"is_generalised_by\", \"cutting\"],\n",
    "    [\"waist folding\", \"is_generalised_by\", \"defect type\"],\n",
    "    [\"waist folding\", \"is_generalised_by\", \"fold\"],\n",
    "    [\"waist folding\", \"is_generalised_by\", \"local deformation\"],\n",
    "    [\"creasing\", \"is_generalised_by\", \"defect type\"],\n",
    "    [\"creasing\", \"is_generalised_by\", \"fold\"],\n",
    "    [\"creasing\", \"is_generalised_by\", \"local yield\"],\n",
    "    [\"water spot\", \"is_generalised_by\", \"defect type\"],\n",
    "    [\"water spot\", \"is_generalised_by\", \"drying\"],\n",
    "    [\"water spot\", \"is_generalised_by\", \"oil spot\"],\n",
    "    [\"inclusion\", \"is_generalised_by\", \"defect type\"],\n",
    "    [\"inclusion\", \"is_generalised_by\", \"spots\"],\n",
    "    [\"inclusion\", \"is_generalised_by\", \"block irregular distribution\"],\n",
    "    [\"mechanical failure\", \"is_generalised_by\", \"punching defects\"],\n",
    "    [\"mechanical lubricant\", \"is_generalised_by\", \"oil spot\"],\n",
    "    [\"strip surface (steel strip surface)\", \"is_generalised_by\", \"metal surface\"],\n",
    "    [\"appearance\", \"is_generalised_by\", \"product\"],\n",
    "    [\"work roll\", \"is_generalised_by\", \"production line\"],\n",
    "    [\"tension roll\", \"is_generalised_by\", \"production line\"],\n",
    "    [\"strip shape\", \"is_generalised_by\", \"inclusion\"],\n",
    "    [\"spots\", \"is_generalised_by\", \"inclusion\"],\n",
    "    [\"pressure\", \"is_generalised_by\", \"roller\"],\n",
    "    [\"density\", \"is_generalised_by\", \"silk spot\"],\n",
    "    [\"temperature\", \"is_generalised_by\", \"roller\"],\n",
    "    [\"fold\", \"is_generalised_by\", \"waist folding\"],\n",
    "    [\"fold\", \"is_generalised_by\", \"crease\"],\n",
    "    [\"crease\", \"is_generalised_by\", \"defect type\"],\n",
    "    [\"creasing\", \"is_generalised_by\", \"strip surface (steel strip surface)\"],\n",
    "    [\"uncoiling process\", \"is_generalised_by\", \"crease\"],\n",
    "    [\"block irregular distribution\", \"is_generalised_by\", \"inclusion\"],\n",
    "    [\"local deformation\", \"is_generalised_by\", \"waist folding\"],\n",
    "    [\"local yield\", \"is_generalised_by\", \"crease\"],\n",
    "    [\"mechanical failure\", \"is_generalised_by\", \"production line\"],\n",
    "    [\"product specifications\", \"is_generalised_by\", \"product\"],\n",
    "    [\"processes\", \"is_generalised_by\", \"production line\"],\n",
    "    [\"product\", \"is_generalised_by\", \"production line\"],\n",
    "    [\"plate (steel plate)\", \"is_generalised_by\", \"metal surface\"],\n",
    "    [\"damage\", \"is_generalised_by\", \"rolled pit\"],\n",
    "    [\"defect type\", \"is_generalised_by\", \"metal surface\"],\n",
    "    [\"rough pockmarked surfaces\", \"is_generalised_by\", \"inclusion\"],\n",
    "    [\"wrinkles\", \"is_generalised_by\", \"waist folding\"],\n",
    "    [\"low-carbon\", \"is_generalised_by\", \"waist folding\"]\n",
    "]\n",
    "\n",
    "\n",
    "metarelations = create_metarelations(llm_output2, ct_pipeline.kr.concepts)"
   ]
  },
  {
   "cell_type": "markdown",
   "metadata": {},
   "source": [
    "# Add metric to hierarchy metarelation"
   ]
  },
  {
   "cell_type": "code",
   "execution_count": 33,
   "metadata": {},
   "outputs": [
    {
     "data": {
      "text/plain": [
       "(0.22448979591836735, 0.5, 0.30985915492957744)"
      ]
     },
     "execution_count": 33,
     "metadata": {},
     "output_type": "execute_result"
    }
   ],
   "source": [
    "\n",
    "\n",
    "\n",
    "\n",
    "metarelations_embeding = [(model.encode(metarelation.source_concept.label), model.encode(metarelation.destination_concept.label)) for metarelation in metarelations]\n",
    "expected_metarelation_embeding = [(model.encode(metarelation.source_concept.label), model.encode(metarelation.destination_concept.label)) for metarelation in expected_metarelations]\n",
    "\n",
    "\n",
    "get_metarelation_ratio(metarelations_embeding, expected_metarelation_embeding)"
   ]
  }
 ],
 "metadata": {
  "kernelspec": {
   "display_name": "env",
   "language": "python",
   "name": "python3"
  },
  "language_info": {
   "codemirror_mode": {
    "name": "ipython",
    "version": 3
   },
   "file_extension": ".py",
   "mimetype": "text/x-python",
   "name": "python",
   "nbconvert_exporter": "python",
   "pygments_lexer": "ipython3",
   "version": "3.10.12"
  }
 },
 "nbformat": 4,
 "nbformat_minor": 2
}
