{
 "cells": [
  {
   "cell_type": "markdown",
   "metadata": {},
   "source": [
    "In this notebook we aim to develop a protocole to evaluate OLAF relation extraction  components:\n",
    "\n",
    "\n",
    "To achieve this task , we will follow this steps:\n",
    "\n",
    "- Select a corpus.\n",
    "- Select and create relevent concepts from the corpus.\n",
    "- Create several pipelines with different components and parameters.\n",
    "- Run all the pipelines.\n",
    "- Find concepts involved in complete triples (relation with no null source and destination concepts) for each pipeline.\n",
    "- Etablish the matching percentage of found concepts compared to selected concepts on step 2.\n"
   ]
  },
  {
   "cell_type": "code",
   "execution_count": 1,
   "metadata": {},
   "outputs": [
    {
     "name": "stderr",
     "output_type": "stream",
     "text": [
      "/home/oumar/Bureau/ontology-learning/env/lib/python3.10/site-packages/sentence_transformers/cross_encoder/CrossEncoder.py:11: TqdmWarning: IProgress not found. Please update jupyter and ipywidgets. See https://ipywidgets.readthedocs.io/en/stable/user_install.html\n",
      "  from tqdm.autonotebook import tqdm, trange\n"
     ]
    }
   ],
   "source": [
    "import spacy\n",
    "from typing import Set, List\n",
    "import pandas as pd\n",
    "from olaf import Pipeline\n",
    "from olaf.commons.logging_config import logger\n",
    "from olaf.data_container import CandidateTerm, Relation, Concept\n",
    "from olaf.data_container.knowledge_representation_schema import KnowledgeRepresentation\n",
    "from olaf.pipeline.pipeline_component.term_extraction import (\n",
    "    POSTermExtraction,\n",
    "    TFIDFTermExtraction,\n",
    "    ManualCandidateTermExtraction\n",
    "    )\n",
    "from olaf.pipeline.pipeline_component.concept_relation_extraction import (\n",
    "    CTsToConceptExtraction,\n",
    "    CTsToRelationExtraction,\n",
    "    SynonymRelationExtraction,\n",
    "    SynonymConceptExtraction,\n",
    "    AgglomerativeClusteringRelationExtraction,\n",
    "    AgglomerativeClusteringConceptExtraction,\n",
    "    LLMBasedRelationExtraction\n",
    ")\n",
    "from olaf.commons.spacy_processing_tools import is_not_punct, is_not_stopword, select_on_pos\n",
    "\n",
    "from olaf.pipeline.pipeline_component.candidate_term_enrichment import SemanticBasedEnrichment\n",
    "\n",
    "from olaf.repository.corpus_loader.text_corpus_loader import TextCorpusLoader"
   ]
  },
  {
   "cell_type": "code",
   "execution_count": 2,
   "metadata": {},
   "outputs": [],
   "source": [
    "import numpy as np\n",
    "import matplotlib.pyplot as plt\n",
    "import plotly.express as px\n",
    "import plotly.graph_objects as go\n",
    "from matplotlib_venn import venn2, venn3"
   ]
  },
  {
   "cell_type": "code",
   "execution_count": 3,
   "metadata": {},
   "outputs": [],
   "source": [
    "nlp = spacy.load(\"en_core_web_lg\")"
   ]
  },
  {
   "cell_type": "code",
   "execution_count": 4,
   "metadata": {},
   "outputs": [],
   "source": [
    "import torch, gc\n",
    "def free_gpu():\n",
    "    \"\"\"\n",
    "    frees up the GPU cache for other calculations. \n",
    "    \"\"\"\n",
    "    gc.collect()\n",
    "    torch.cuda.empty_cache()\n",
    "\n",
    "free_gpu()"
   ]
  },
  {
   "cell_type": "markdown",
   "metadata": {},
   "source": [
    "# Select Corpus"
   ]
  },
  {
   "cell_type": "code",
   "execution_count": 5,
   "metadata": {},
   "outputs": [],
   "source": [
    "corpus_path = \"../data/GC10-DET_doc.txt\"\n",
    "corpus_loader = TextCorpusLoader(corpus_path)"
   ]
  },
  {
   "cell_type": "markdown",
   "metadata": {},
   "source": [
    "# Select manually and create relevent relation from the corpus.\n"
   ]
  },
  {
   "cell_type": "code",
   "execution_count": 6,
   "metadata": {},
   "outputs": [
    {
     "data": {
      "text/plain": [
       "{(steel strip, has abnormal, appearance),\n",
       " (product, has abnormal, appearance),\n",
       " (crease, has appearance, vertical),\n",
       " (rolled pit, has appearance, periodic bulges or pits),\n",
       " (defect, has appearance, appearance),\n",
       " (crescent gap, has appearance, half circle),\n",
       " (silk spot, has appearance, wave like plaque),\n",
       " (inclusion, has appearance, spot),\n",
       " (waist folding, has appearance, wrinkles like),\n",
       " (punching, is caused by, mechanical failure),\n",
       " (crease, is caused by, local yield),\n",
       " (crescent gap, is caused by, cutting),\n",
       " (oil spot, is caused by, mechanical lubricant),\n",
       " (waist folding, is caused by, low carbon),\n",
       " (defect, is caused by, cause),\n",
       " (water spot, is caused by, drying),\n",
       " (roller, is part of, machine),\n",
       " (machine, is part of, factory),\n",
       " (factory, is part of, factory),\n",
       " (production line, is part of, factory),\n",
       " (steel strip, is produced by, machine),\n",
       " (product, is produced by, factory)}"
      ]
     },
     "execution_count": 6,
     "metadata": {},
     "output_type": "execute_result"
    }
   ],
   "source": [
    "import json\n",
    "import re\n",
    "\n",
    "def format_concept_or_label(text: str) -> str:\n",
    "    \"\"\"\n",
    "    Replace underscores with spaces and convert to lower case\n",
    "    \"\"\"\n",
    "    \n",
    "    return text.replace('_', ' ').lower()\n",
    "\n",
    "def format_camel_case(text: str) -> str:\n",
    "    \"\"\"Replace underscores with spaces and convert to lower case, \n",
    "    add spaces between words in camel case.\n",
    "    \"\"\"\n",
    "    text = text.replace('_', ' ')\n",
    "    return re.sub(r'(?<!^)(?=[A-Z])', ' ', text).lower()\n",
    "\n",
    "expected_concepts = []\n",
    "with open(\"concepts.txt\", 'r') as f:\n",
    "    lines = f.readlines()\n",
    "    expected_concepts = [concept.rstrip(\"\\n\") for concept in lines]\n",
    "    expected_concepts = [Concept(concept) for concept in expected_concepts]\n",
    "    f.close()\n",
    "\n",
    "\n",
    "with open(\"../data/relations.json\", 'r', encoding='utf-8') as file:\n",
    "    expected_relations = json.load(file)\n",
    "\n",
    "expected_relations = [(format_concept_or_label(concept_source),\n",
    "                       format_camel_case(relation_label),\n",
    "                       format_concept_or_label(concept_destination))\n",
    "                      for concept_source, relation_label, concept_destination in expected_relations]\n",
    "\n",
    "\n",
    "expected_relations = { Relation(relation[1], Concept(relation[0]), Concept(relation[2])) for relation in expected_relations}\n",
    "expected_relations"
   ]
  },
  {
   "cell_type": "code",
   "execution_count": 7,
   "metadata": {},
   "outputs": [
    {
     "data": {
      "text/plain": [
       "{'has abnormal',\n",
       " 'has appearance',\n",
       " 'is caused by',\n",
       " 'is part of',\n",
       " 'is produced by'}"
      ]
     },
     "execution_count": 7,
     "metadata": {},
     "output_type": "execute_result"
    }
   ],
   "source": [
    "labels = set([relation.label for relation in expected_relations])\n",
    "labels"
   ]
  },
  {
   "cell_type": "markdown",
   "metadata": {},
   "source": [
    "# Testing relation ratio function"
   ]
  },
  {
   "cell_type": "code",
   "execution_count": 8,
   "metadata": {},
   "outputs": [],
   "source": [
    "from sklearn.metrics.pairwise import cosine_similarity\n",
    "from sentence_transformers import SentenceTransformer, util\n",
    "\n",
    "\n",
    "\n",
    "\n",
    "sentence_transformer_model = SentenceTransformer(\"sentence-transformers/all-MiniLM-L6-v2\")\n",
    "comparator_args={\"threshold\": 0.6}\n",
    "\n",
    "def hg_lm_similaritiry(embedding_a : np.ndarray, embedding_b: np.ndarray, threshold :float=.8):\n",
    "    \"\"\"compute the cosine similarity between two vectors\n",
    "    \"\"\"\n",
    "    return util.pytorch_cos_sim(embedding_a, embedding_b) > threshold\n",
    "\n",
    "def create_concepts_embedings(concepts: List[Concept], model=sentence_transformer_model) -> List[np.ndarray]:\n",
    "    \"\"\"\n",
    "    Create a embedding list of concepts label from a list of Concepts.\n",
    "    \"\"\"\n",
    "    concept_labels = [concept.label for concept in concepts]\n",
    "    return model.encode(concept_labels)\n",
    "\n",
    "\n",
    "def create_relations_embedings(relations: List[Relation], model=sentence_transformer_model) -> List[np.ndarray]:\n",
    "    \"\"\"Create a embedding list of relation relation  source concept \n",
    "    and destination concept from a list of Relation.\n",
    "    \"\"\"\n",
    "    return [\n",
    "            (\n",
    "                model.encode(relation.source_concept.label), \n",
    "                # model.encode(relation.label), \n",
    "                model.encode(relation.destination_concept.label)\n",
    "            ) for relation in relations\n",
    "            ]\n",
    "\n",
    "\n",
    "def get_unexpected_concepts(concepts: List[Concept], expected_concepts : List[Concept]):\n",
    "    \"\"\"\n",
    "        Return all the concepts obtained that do not appear in those expected.\n",
    "    \"\"\"\n",
    "    concepts = list(concepts)\n",
    "    concepts_embedings = create_concepts_embedings(concepts)\n",
    "    expected_concepts_embeding = create_concepts_embedings(expected_concepts)\n",
    "    return [\n",
    "        concepts[idc]\n",
    "        for idc, concept_embeding in enumerate(concepts_embedings)\n",
    "        if all(\n",
    "            hg_lm_similaritiry(concept_embeding, expected_concept_embeding)\n",
    "            <= 0.7\n",
    "            for expected_concept_embeding in expected_concepts_embeding\n",
    "        )\n",
    "    ]\n",
    "\n",
    "def is_valid_relation(relation : Relation):\n",
    "    \"\"\"Check relation validity\n",
    "    \"\"\"\n",
    "    return relation.source_concept is not None and relation.destination_concept is not None\n",
    "\n",
    "\n",
    "def are_equivalent(rel_embeding_a : np.ndarray, rel_embeding_b : np.ndarray) -> bool:\n",
    "    return all(hg_lm_similaritiry(embeding_a, embeding_b) for embeding_a, embeding_b in zip(rel_embeding_a, rel_embeding_b)) \\\n",
    "        or all(hg_lm_similaritiry(embeding_a, embeding_b) for embeding_a, embeding_b in zip(rel_embeding_b, rel_embeding_a))\n",
    "\n",
    "\n",
    "def get_relation_ratio(pipeline : Pipeline, expected_relations : List[Relation], comparator = hg_lm_similaritiry, comparator_args:dict={}, verbose=False) -> tuple:\n",
    "    \"\"\"\n",
    "    Calculates pipeline performance using precision, recall and f-score\n",
    "    \n",
    "    Parameters\n",
    "    ----------\n",
    "    pipeline : Pipeline\n",
    "        The pipeline object containing relations.\n",
    "    expected_relations : List[Relation]\n",
    "        A list of expected relations.kwargs\n",
    "\n",
    "    Returns\n",
    "    -------\n",
    "    Tuple[float, float, float]: A tuple containing:\n",
    "        precision\n",
    "        recall\n",
    "        f-score\n",
    "    \"\"\"\n",
    "    \n",
    "    \n",
    "    found_relations = pipeline.kr.relations\n",
    "    if len(found_relations) <= 0:\n",
    "        return (0, 0, 0)\n",
    "    found_relations = [relation for relation in found_relations if is_valid_relation(relation)]\n",
    "    expected_relations = list(expected_relations)\n",
    "    cooccurrence_count = 0\n",
    "\n",
    "    found_relations_embedings =  create_relations_embedings(found_relations)\n",
    "    expected_relations_embeding =  create_relations_embedings(expected_relations)\n",
    "\n",
    "    for idx1, r1 in enumerate(expected_relations_embeding):\n",
    "        if verbose:\n",
    "            print(f\"\\n{str(expected_relations[idx1])} : \", end= \"\")\n",
    "        for idx2, r2 in enumerate(found_relations_embedings):\n",
    "            if are_equivalent(r1, r2) :\n",
    "                if verbose:\n",
    "                    print(f\"{found_relations[idx2]}, \", end= \"\")\n",
    "                cooccurrence_count += 1\n",
    "    if cooccurrence_count == 0:\n",
    "        return (0, 0, 0)\n",
    "    recall = cooccurrence_count/len(expected_relations)\n",
    "    precision = cooccurrence_count/len(found_relations)\n",
    "    f1 = 2*(precision * recall)/(precision+recall)\n",
    "    return (precision, recall, f1)"
   ]
  },
  {
   "cell_type": "code",
   "execution_count": 10,
   "metadata": {},
   "outputs": [],
   "source": [
    "from olaf.pipeline.pipeline_component.term_extraction.manual_candidate_terms import (\n",
    "    ManualCandidateTermExtraction,\n",
    ")\n",
    "from olaf.pipeline.pipeline_component.concept_relation_extraction.candidate_terms_to_concepts import CTsToConceptExtraction\n",
    "\n",
    "from olaf.pipeline.pipeline_component.concept_relation_extraction.candidate_terms_to_relations import CTsToRelationExtraction\n",
    "\n",
    "\n",
    "# a list of candidate terms by a LLM to create concepts\n",
    "concepts = [\n",
    "    \"defect type\",\n",
    "    \"steel strip surface\",\n",
    "    \"punching\",\n",
    "    \"mechanical failure\",\n",
    "    \"welding line\",\n",
    "    \"coil\",\n",
    "    \"weld line\",\n",
    "    \"crescent gap\",\n",
    "    \"cutting\",\n",
    "    \"water spot\",\n",
    "    \"drying\",\n",
    "    \"oil spot\",\n",
    "    \"mechanical lubricant\",\n",
    "    \"silk spot\",\n",
    "    \"plaque\",\n",
    "    \"strip surface\",\n",
    "    \"roller\",\n",
    "    \"pressure\",\n",
    "    \"inclusion\",\n",
    "    \"metal surface\",\n",
    "    \"spots\",\n",
    "    \"fish scale shape\",\n",
    "    \"block irregular distribution\",\n",
    "    \"rolled pit\",\n",
    "    \"bulges\",\n",
    "    \"pits\",\n",
    "    \"steel plate\",\n",
    "    \"work roll\",\n",
    "    \"tension roll\",\n",
    "    \"damage\",\n",
    "    \"crease\",\n",
    "    \"fold\",\n",
    "    \"uncoiling process\",\n",
    "    \"waist folding\",\n",
    "    \"deformation\",\n",
    "    \"low-carbon\"\n",
    "]\n",
    "\n",
    "\"\"\" prompt\n",
    "    You are an helpful assistant helping building an ontology of technical documentation of quality defects.\n",
    "    Extract the most meaningful words describing defects ans their causes, appearance of products. \n",
    "    we will use this list of relations to extract relations between concepts : ['has abnormal', 'has appearance', 'is caused by', 'is part of', 'is produced by']\n",
    "    Keep only words that could be relations and not concepts.\n",
    "    Write them as a python list of string with double quotes.\n",
    "    \n",
    "    Text: \n",
    "\"\"\"\n",
    "\n",
    "# a list of candidate terms by a LLM to create relation\n",
    "relations = [\n",
    "    \"needs to be punched\",\n",
    "    \"may lead to\",\n",
    "    \"resulting in\",\n",
    "    \"fold\",\n",
    "    \"moving\",\n",
    "    \"produced by\",\n",
    "    \"are different\",\n",
    "    \"detected by mistake\",\n",
    "    \"described in detail\",\n",
    "    \"explaining\",\n",
    "    \"appears\",\n",
    "    \"showing\",\n",
    "    \"accompanied by\",\n",
    "    \"fall off\",\n",
    "    \"pressed into\",\n",
    "    \"changed\",\n",
    "    \"weld\",\n",
    "    \"needs to be detected\",\n",
    "    \"tracked\",\n",
    "    \"circumvented\",\n",
    "    \"indicating\",\n",
    "    \"caused by\",\n",
    "    \"affect\",\n",
    "    \"distributed\",\n",
    "    \"cutting\",\n",
    "    \"appear\"\n",
    "]\n",
    "\n",
    "\n",
    "ct_concept_label = { concept : {concept} for concept in concepts}\n",
    "\n",
    "manuel_concept_extraction = ManualCandidateTermExtraction(\n",
    "    ct_label_strings_map=ct_concept_label\n",
    ")\n",
    "\n",
    "concept_extraction = CTsToConceptExtraction(\n",
    ")\n"
   ]
  },
  {
   "cell_type": "markdown",
   "metadata": {},
   "source": [
    "# Usefull function"
   ]
  },
  {
   "cell_type": "code",
   "execution_count": 11,
   "metadata": {},
   "outputs": [],
   "source": [
    "def display_concept(kr : KnowledgeRepresentation) -> None:\n",
    "    \"\"\"\n",
    "    Display the concepts contained in a KnowledgeRepresentation\n",
    "\n",
    "    Parameters\n",
    "    ----------\n",
    "    kr : KnowledgeRepresentation\n",
    "        The Knowledge Representation containing the concepts and relations.\n",
    "\n",
    "    Returns\n",
    "    -------\n",
    "    None.\n",
    "    \"\"\"\n",
    "    print(\"Concepts in KR:\")\n",
    "    for concept in kr.concepts:\n",
    "        print(concept.label)\n",
    "\n",
    "\n",
    "def display_relation(kr: KnowledgeRepresentation) -> None:\n",
    "    \"\"\"\n",
    "    Display the relations contained in a KnowledgeRepresentation\n",
    "\n",
    "    Parameters\n",
    "    ----------\n",
    "    kr : KnowledgeRepresentation\n",
    "        The Knowledge Representation containing the concepts and relations.\n",
    "\n",
    "    Returns\n",
    "    -------\n",
    "    None.\n",
    "    \"\"\"\n",
    "    print(\"Relations in KR:\")\n",
    "    for relation in kr.relations:\n",
    "        if (\n",
    "            relation.source_concept is not None\n",
    "            or relation.destination_concept is not None\n",
    "        ):\n",
    "            print(\n",
    "                (\n",
    "                    relation.source_concept.label,\n",
    "                    relation.label,\n",
    "                    relation.destination_concept.label,\n",
    "                )\n",
    "            )\n",
    "\n",
    "def describe_pipeline(pipeline: Pipeline) -> None:\n",
    "    \"\"\"\n",
    "    Display all pipeline components class names\n",
    "\n",
    "    Parameters\n",
    "    ----------\n",
    "    pipeline : Pipeline\n",
    "        the pipeline to describe.\n",
    "\n",
    "    Returns\n",
    "    -------\n",
    "    None.\n",
    "    \"\"\"\n",
    "    print(pipeline.__class__.__name__)\n",
    "    for component in pipeline.pipeline_components:\n",
    "        print(f\"\\t {component.__class__.__name__}\")"
   ]
  },
  {
   "cell_type": "code",
   "execution_count": 12,
   "metadata": {},
   "outputs": [],
   "source": [
    "\n",
    "\n",
    "def create_bar_chart(index_name, pipelines_scores):\n",
    "    data = pipelines_scores.reset_index().melt(id_vars='index', var_name=['Composant', 'Métrique'], value_name='Score')\n",
    "    data.rename(columns={'index': 'Extraction'}, inplace=True)\n",
    "\n",
    "    df = data[data['Extraction'] == index_name]\n",
    "    fig = px.bar(df, x='Composant', y='Score', color='Métrique', barmode='group',\n",
    "                 title=f'Scores de Précision, Rappel et F1 pour {index_name}')\n",
    "    \n",
    "    fig.update_layout(\n",
    "        xaxis_title='Composants',\n",
    "        yaxis_title='Scores'\n",
    "    )\n",
    "    fig.update_layout(width=1000, height=600)\n",
    "    fig.show()\n",
    "\n"
   ]
  },
  {
   "cell_type": "markdown",
   "metadata": {},
   "source": [
    "# Creating pipelines"
   ]
  },
  {
   "cell_type": "code",
   "execution_count": 13,
   "metadata": {},
   "outputs": [
    {
     "data": {
      "text/html": [
       "<div>\n",
       "<style scoped>\n",
       "    .dataframe tbody tr th:only-of-type {\n",
       "        vertical-align: middle;\n",
       "    }\n",
       "\n",
       "    .dataframe tbody tr th {\n",
       "        vertical-align: top;\n",
       "    }\n",
       "\n",
       "    .dataframe thead tr th {\n",
       "        text-align: left;\n",
       "    }\n",
       "</style>\n",
       "<table border=\"1\" class=\"dataframe\">\n",
       "  <thead>\n",
       "    <tr>\n",
       "      <th></th>\n",
       "      <th colspan=\"3\" halign=\"left\">CandidatToRelation</th>\n",
       "      <th colspan=\"3\" halign=\"left\">SynonymToRelation</th>\n",
       "      <th colspan=\"3\" halign=\"left\">AgglomerativeClustering</th>\n",
       "    </tr>\n",
       "    <tr>\n",
       "      <th></th>\n",
       "      <th>Precision</th>\n",
       "      <th>Rappel</th>\n",
       "      <th>F1</th>\n",
       "      <th>Precision</th>\n",
       "      <th>Rappel</th>\n",
       "      <th>F1</th>\n",
       "      <th>Precision</th>\n",
       "      <th>Rappel</th>\n",
       "      <th>F1</th>\n",
       "    </tr>\n",
       "  </thead>\n",
       "  <tbody>\n",
       "    <tr>\n",
       "      <th>LLM Term Extraction</th>\n",
       "      <td>NaN</td>\n",
       "      <td>NaN</td>\n",
       "      <td>NaN</td>\n",
       "      <td>NaN</td>\n",
       "      <td>NaN</td>\n",
       "      <td>NaN</td>\n",
       "      <td>NaN</td>\n",
       "      <td>NaN</td>\n",
       "      <td>NaN</td>\n",
       "    </tr>\n",
       "    <tr>\n",
       "      <th>POStag Term Extraction</th>\n",
       "      <td>NaN</td>\n",
       "      <td>NaN</td>\n",
       "      <td>NaN</td>\n",
       "      <td>NaN</td>\n",
       "      <td>NaN</td>\n",
       "      <td>NaN</td>\n",
       "      <td>NaN</td>\n",
       "      <td>NaN</td>\n",
       "      <td>NaN</td>\n",
       "    </tr>\n",
       "    <tr>\n",
       "      <th>TFIDF Term Extraction</th>\n",
       "      <td>NaN</td>\n",
       "      <td>NaN</td>\n",
       "      <td>NaN</td>\n",
       "      <td>NaN</td>\n",
       "      <td>NaN</td>\n",
       "      <td>NaN</td>\n",
       "      <td>NaN</td>\n",
       "      <td>NaN</td>\n",
       "      <td>NaN</td>\n",
       "    </tr>\n",
       "  </tbody>\n",
       "</table>\n",
       "</div>"
      ],
      "text/plain": [
       "                       CandidatToRelation             SynonymToRelation  \\\n",
       "                                Precision Rappel   F1         Precision   \n",
       "LLM Term Extraction                   NaN    NaN  NaN               NaN   \n",
       "POStag Term Extraction                NaN    NaN  NaN               NaN   \n",
       "TFIDF Term Extraction                 NaN    NaN  NaN               NaN   \n",
       "\n",
       "                                   AgglomerativeClustering              \n",
       "                       Rappel   F1               Precision Rappel   F1  \n",
       "LLM Term Extraction       NaN  NaN                     NaN    NaN  NaN  \n",
       "POStag Term Extraction    NaN  NaN                     NaN    NaN  NaN  \n",
       "TFIDF Term Extraction     NaN  NaN                     NaN    NaN  NaN  "
      ]
     },
     "execution_count": 13,
     "metadata": {},
     "output_type": "execute_result"
    }
   ],
   "source": [
    "relation_extraction_components = [\"CandidatToRelation\", \"SynonymToRelation\", \"AgglomerativeClustering\"]\n",
    "term_extraction_components = [\"LLM Term Extraction\", \"POStag Term Extraction\", \"TFIDF Term Extraction\"]\n",
    "results = pd.DataFrame(\n",
    "    index=relation_extraction_components,\n",
    "    columns=term_extraction_components\n",
    "    )\n",
    "\n",
    "multi_index = pd.MultiIndex.from_product([\n",
    "    relation_extraction_components, \n",
    "    [\"Precision\", \"Rappel\", \"F1\"]\n",
    "    ])\n",
    "pipelines_scores = pd.DataFrame(index=term_extraction_components, columns=multi_index)\n",
    "\n",
    "pipelines_scores"
   ]
  },
  {
   "cell_type": "markdown",
   "metadata": {},
   "source": [
    "## LLM Term  Extraction"
   ]
  },
  {
   "cell_type": "code",
   "execution_count": 14,
   "metadata": {},
   "outputs": [],
   "source": [
    "llm_pipelines = [None, None, None]\n",
    "llm_results = np.zeros(9)\n"
   ]
  },
  {
   "cell_type": "markdown",
   "metadata": {},
   "source": [
    "### LLM Term  Extraction and Candidat To Relation Extraction"
   ]
  },
  {
   "cell_type": "code",
   "execution_count": 15,
   "metadata": {},
   "outputs": [],
   "source": [
    "idx = 0"
   ]
  },
  {
   "cell_type": "code",
   "execution_count": 17,
   "metadata": {},
   "outputs": [
    {
     "name": "stderr",
     "output_type": "stream",
     "text": [
      "[2024-07-18 14:19:31,887] [WARNING] [agglomerative_clustering_concept_extraction] [_check_parameters] [No value given for embedding_model parameter, default will be set to all-mpnet-base-v2.]\n",
      "[2024-07-18 14:19:31,889] [WARNING] [agglomerative_clustering_concept_extraction] [_check_parameters] [No value given for metric option, default will be set to cosine.]\n"
     ]
    },
    {
     "name": "stdout",
     "output_type": "stream",
     "text": [
      "\n",
      "is caused by : \n",
      "has appearance : \n",
      "has appearance : \n",
      "is caused by : \n",
      "has appearance : \n",
      "is part of : \n",
      "has appearance : \n",
      "has appearance : \n",
      "is caused by : \n",
      "has abnormal : \n",
      "has appearance : \n",
      "is produced by : \n",
      "is part of : \n",
      "has appearance : \n",
      "is caused by : caused by, \n",
      "has abnormal : \n",
      "is part of : \n",
      "is caused by : \n",
      "is caused by : \n",
      "is part of : \n",
      "is produced by : \n",
      "is caused by : produced by, (0.4, 0.09090909090909091, 0.14814814814814814)\n"
     ]
    }
   ],
   "source": [
    "\n",
    "# a list of candidate terms by a LLM to create concepts\n",
    "concepts = [\n",
    "    \"defect type\",\n",
    "    \"steel strip surface\",\n",
    "    \"punching\",\n",
    "    \"mechanical failure\",\n",
    "    \"welding line\",\n",
    "    \"coil\",\n",
    "    \"weld line\",\n",
    "    \"crescent gap\",\n",
    "    \"cutting\",\n",
    "    \"water spot\",\n",
    "    \"drying\",\n",
    "    \"oil spot\",\n",
    "    \"mechanical lubricant\",\n",
    "    \"silk spot\",\n",
    "    \"plaque\",\n",
    "    \"strip surface\",\n",
    "    \"roller\",\n",
    "    \"pressure\",\n",
    "    \"inclusion\",\n",
    "    \"metal surface\",\n",
    "    \"spots\",\n",
    "    \"fish scale shape\",\n",
    "    \"block irregular distribution\",\n",
    "    \"rolled pit\",\n",
    "    \"bulges\",\n",
    "    \"pits\",\n",
    "    \"steel plate\",\n",
    "    \"work roll\",\n",
    "    \"tension roll\",\n",
    "    \"damage\",\n",
    "    \"crease\",\n",
    "    \"fold\",\n",
    "    \"uncoiling process\",\n",
    "    \"waist folding\",\n",
    "    \"deformation\",\n",
    "    \"low-carbon\"\n",
    "]\n",
    "\n",
    "ct_concept_label = { concept : {concept} for concept in concepts}\n",
    "\n",
    "\n",
    "\n",
    "llm_pipelines[idx] = Pipeline(\n",
    "        spacy_model=nlp,\n",
    "        pipeline_components=[\n",
    "            ManualCandidateTermExtraction(\n",
    "                ct_label_strings_map=ct_concept_label\n",
    "            ),\n",
    "            AgglomerativeClusteringConceptExtraction(\n",
    "                distance_threshold=.4\n",
    "            ),\n",
    "            ManualCandidateTermExtraction(\n",
    "                ct_label_strings_map={ relation : {relation} for relation in relations}\n",
    "            ),\n",
    "            CTsToRelationExtraction(\n",
    "                concept_max_distance=5\n",
    "            )\n",
    "        ],\n",
    "        corpus_loader=corpus_loader\n",
    "    )\n",
    "\n",
    "\n",
    "free_gpu()\n",
    "current_pipeline = llm_pipelines[idx]\n",
    "current_pipeline.run()\n",
    "\n",
    "\n",
    "llm_results[3*idx: 3*idx + 3]= list(\n",
    "    results:=get_relation_ratio(current_pipeline, expected_relations, comparator_args=comparator_args, verbose=True)\n",
    "    )\n",
    "\n",
    "print(results)"
   ]
  },
  {
   "cell_type": "code",
   "execution_count": 19,
   "metadata": {},
   "outputs": [
    {
     "name": "stdout",
     "output_type": "stream",
     "text": [
      "Relations in KR:\n",
      "('water spot', 'produced by', 'drying')\n",
      "('oil spot', 'caused by', 'mechanical lubricant')\n",
      "('metal surface', 'showing', 'water spot')\n",
      "('mechanical failure', 'may lead to', 'punching')\n",
      "('punching', 'resulting in', 'punching')\n"
     ]
    }
   ],
   "source": [
    "display_relation(current_pipeline.kr)"
   ]
  },
  {
   "cell_type": "code",
   "execution_count": null,
   "metadata": {},
   "outputs": [],
   "source": [
    "idx += 1"
   ]
  },
  {
   "cell_type": "markdown",
   "metadata": {},
   "source": [
    "### LLM Term  Extraction and Synonym Relation Extraction"
   ]
  },
  {
   "cell_type": "code",
   "execution_count": null,
   "metadata": {},
   "outputs": [
    {
     "name": "stderr",
     "output_type": "stream",
     "text": [
      "[2024-07-12 00:20:04,730] [WARNING] [agglomerative_clustering_concept_extraction] [_check_parameters] [No value given for embedding_model parameter, default will be set to all-mpnet-base-v2.]\n",
      "[2024-07-12 00:20:04,731] [WARNING] [agglomerative_clustering_concept_extraction] [_check_parameters] [No value given for metric option, default will be set to cosine.]\n"
     ]
    },
    {
     "name": "stdout",
     "output_type": "stream",
     "text": [
      "(0.4, 0.09090909090909091, 0.14814814814814814)\n"
     ]
    }
   ],
   "source": [
    "\n",
    "\n",
    "llm_pipelines[idx] = Pipeline(\n",
    "        spacy_model=nlp,\n",
    "        pipeline_components=[\n",
    "           ManualCandidateTermExtraction(\n",
    "                ct_label_strings_map=ct_concept_label\n",
    "            ),\n",
    "            AgglomerativeClusteringConceptExtraction(\n",
    "                distance_threshold=.4\n",
    "            ),\n",
    "            ManualCandidateTermExtraction(\n",
    "                ct_label_strings_map={ relation : {relation} for relation in relations}\n",
    "            ),\n",
    "           SynonymRelationExtraction(\n",
    "               concept_max_distance=5\n",
    "           )\n",
    "        ],\n",
    "        corpus_loader=corpus_loader\n",
    "    )\n",
    "\n",
    "\n",
    "\n",
    "free_gpu()\n",
    "current_pipeline = llm_pipelines[idx]\n",
    "current_pipeline.run()\n",
    "\n",
    "\n",
    "llm_results[3*idx: 3*idx + 3]= list(\n",
    "    results:=get_relation_ratio(current_pipeline, expected_relations, comparator_args=comparator_args)\n",
    "    )\n",
    "\n",
    "print(results)"
   ]
  },
  {
   "cell_type": "code",
   "execution_count": null,
   "metadata": {},
   "outputs": [],
   "source": [
    "idx += 1"
   ]
  },
  {
   "cell_type": "markdown",
   "metadata": {},
   "source": [
    "### LLM Term  Extraction and Agglomerative Clustering Reltation Extraction"
   ]
  },
  {
   "cell_type": "code",
   "execution_count": null,
   "metadata": {},
   "outputs": [
    {
     "name": "stderr",
     "output_type": "stream",
     "text": [
      "[2024-07-12 00:22:31,249] [WARNING] [agglomerative_clustering_concept_extraction] [_check_parameters] [No value given for embedding_model parameter, default will be set to all-mpnet-base-v2.]\n",
      "[2024-07-12 00:22:31,251] [WARNING] [agglomerative_clustering_concept_extraction] [_check_parameters] [No value given for metric option, default will be set to cosine.]\n",
      "[2024-07-12 00:22:31,252] [WARNING] [agglomerative_clustering_relation_extraction] [_check_parameters] [No value given for embedding_model parameter, default will be set to all-mpnet-base-v2.]\n",
      "[2024-07-12 00:22:31,253] [WARNING] [agglomerative_clustering_relation_extraction] [_check_parameters] [No value given for nb_clusters option, default will be set to 2.]\n",
      "[2024-07-12 00:22:31,254] [WARNING] [agglomerative_clustering_relation_extraction] [_check_parameters] [No value given for metric option, default will be set to cosine.]\n"
     ]
    },
    {
     "name": "stdout",
     "output_type": "stream",
     "text": [
      "(0.2857142857142857, 0.09090909090909091, 0.13793103448275862)\n"
     ]
    }
   ],
   "source": [
    "llm_pipelines[idx] = Pipeline(\n",
    "        spacy_model=nlp,\n",
    "        pipeline_components=[\n",
    "            ManualCandidateTermExtraction(\n",
    "                ct_label_strings_map=ct_concept_label\n",
    "            ),\n",
    "            AgglomerativeClusteringConceptExtraction(\n",
    "                distance_threshold=.4\n",
    "            ),\n",
    "            ManualCandidateTermExtraction(\n",
    "                ct_label_strings_map={ relation : {relation} for relation in relations}\n",
    "            ),\n",
    "            AgglomerativeClusteringRelationExtraction(\n",
    "                concept_max_distance=8\n",
    "            )\n",
    "        ],\n",
    "        corpus_loader=corpus_loader\n",
    "    )\n",
    "\n",
    "free_gpu()\n",
    "current_pipeline = llm_pipelines[idx]\n",
    "current_pipeline.run()\n",
    "\n",
    "\n",
    "llm_results[3*idx: 3*idx + 3] = list(\n",
    "    results:=get_relation_ratio(current_pipeline, expected_relations, comparator_args=comparator_args)\n",
    "    )\n",
    "\n",
    "print(results)"
   ]
  },
  {
   "cell_type": "markdown",
   "metadata": {},
   "source": [
    "### Score des pipelines"
   ]
  },
  {
   "cell_type": "code",
   "execution_count": null,
   "metadata": {},
   "outputs": [
    {
     "data": {
      "text/plain": [
       "array([0.4       , 0.09090909, 0.14814815, 0.4       , 0.09090909,\n",
       "       0.14814815, 0.28571429, 0.09090909, 0.13793103])"
      ]
     },
     "execution_count": 179,
     "metadata": {},
     "output_type": "execute_result"
    }
   ],
   "source": [
    "llm_results"
   ]
  },
  {
   "cell_type": "code",
   "execution_count": null,
   "metadata": {},
   "outputs": [
    {
     "data": {
      "text/html": [
       "<div>\n",
       "<style scoped>\n",
       "    .dataframe tbody tr th:only-of-type {\n",
       "        vertical-align: middle;\n",
       "    }\n",
       "\n",
       "    .dataframe tbody tr th {\n",
       "        vertical-align: top;\n",
       "    }\n",
       "\n",
       "    .dataframe thead tr th {\n",
       "        text-align: left;\n",
       "    }\n",
       "</style>\n",
       "<table border=\"1\" class=\"dataframe\">\n",
       "  <thead>\n",
       "    <tr>\n",
       "      <th></th>\n",
       "      <th colspan=\"3\" halign=\"left\">CandidatToRelation</th>\n",
       "      <th colspan=\"3\" halign=\"left\">SynonymToRelation</th>\n",
       "      <th colspan=\"3\" halign=\"left\">AgglomerativeClustering</th>\n",
       "    </tr>\n",
       "    <tr>\n",
       "      <th></th>\n",
       "      <th>Precision</th>\n",
       "      <th>Rappel</th>\n",
       "      <th>F1</th>\n",
       "      <th>Precision</th>\n",
       "      <th>Rappel</th>\n",
       "      <th>F1</th>\n",
       "      <th>Precision</th>\n",
       "      <th>Rappel</th>\n",
       "      <th>F1</th>\n",
       "    </tr>\n",
       "  </thead>\n",
       "  <tbody>\n",
       "    <tr>\n",
       "      <th>LLM Term Extraction</th>\n",
       "      <td>0.4</td>\n",
       "      <td>0.090909</td>\n",
       "      <td>0.148148</td>\n",
       "      <td>0.4</td>\n",
       "      <td>0.090909</td>\n",
       "      <td>0.148148</td>\n",
       "      <td>0.285714</td>\n",
       "      <td>0.090909</td>\n",
       "      <td>0.137931</td>\n",
       "    </tr>\n",
       "    <tr>\n",
       "      <th>POStag Term Extraction</th>\n",
       "      <td>0.0</td>\n",
       "      <td>0.0</td>\n",
       "      <td>0.0</td>\n",
       "      <td>0.090909</td>\n",
       "      <td>0.045455</td>\n",
       "      <td>0.060606</td>\n",
       "      <td>0.1</td>\n",
       "      <td>0.045455</td>\n",
       "      <td>0.0625</td>\n",
       "    </tr>\n",
       "    <tr>\n",
       "      <th>TFIDF Term Extraction</th>\n",
       "      <td>0.090909</td>\n",
       "      <td>0.136364</td>\n",
       "      <td>0.109091</td>\n",
       "      <td>0.242424</td>\n",
       "      <td>0.363636</td>\n",
       "      <td>0.290909</td>\n",
       "      <td>0.058824</td>\n",
       "      <td>0.045455</td>\n",
       "      <td>0.051282</td>\n",
       "    </tr>\n",
       "  </tbody>\n",
       "</table>\n",
       "</div>"
      ],
      "text/plain": [
       "                       CandidatToRelation                      \\\n",
       "                                Precision    Rappel        F1   \n",
       "LLM Term Extraction                   0.4  0.090909  0.148148   \n",
       "POStag Term Extraction                0.0       0.0       0.0   \n",
       "TFIDF Term Extraction            0.090909  0.136364  0.109091   \n",
       "\n",
       "                       SynonymToRelation                      \\\n",
       "                               Precision    Rappel        F1   \n",
       "LLM Term Extraction                  0.4  0.090909  0.148148   \n",
       "POStag Term Extraction          0.090909  0.045455  0.060606   \n",
       "TFIDF Term Extraction           0.242424  0.363636  0.290909   \n",
       "\n",
       "                       AgglomerativeClustering                      \n",
       "                                     Precision    Rappel        F1  \n",
       "LLM Term Extraction                   0.285714  0.090909  0.137931  \n",
       "POStag Term Extraction                     0.1  0.045455    0.0625  \n",
       "TFIDF Term Extraction                 0.058824  0.045455  0.051282  "
      ]
     },
     "execution_count": 180,
     "metadata": {},
     "output_type": "execute_result"
    }
   ],
   "source": [
    "pipelines_scores.loc[term_extraction_components[0]] = llm_results\n",
    "pipelines_scores"
   ]
  },
  {
   "cell_type": "code",
   "execution_count": null,
   "metadata": {},
   "outputs": [
    {
     "data": {
      "application/vnd.plotly.v1+json": {
       "config": {
        "plotlyServerURL": "https://plot.ly"
       },
       "data": [
        {
         "alignmentgroup": "True",
         "hovertemplate": "Métrique=Precision<br>Composant=%{x}<br>Score=%{y}<extra></extra>",
         "legendgroup": "Precision",
         "marker": {
          "color": "#636efa",
          "pattern": {
           "shape": ""
          }
         },
         "name": "Precision",
         "offsetgroup": "Precision",
         "orientation": "v",
         "showlegend": true,
         "textposition": "auto",
         "type": "bar",
         "x": [
          "CandidatToRelation",
          "SynonymToRelation",
          "AgglomerativeClustering"
         ],
         "xaxis": "x",
         "y": [
          0.4,
          0.4,
          0.2857142857142857
         ],
         "yaxis": "y"
        },
        {
         "alignmentgroup": "True",
         "hovertemplate": "Métrique=Rappel<br>Composant=%{x}<br>Score=%{y}<extra></extra>",
         "legendgroup": "Rappel",
         "marker": {
          "color": "#EF553B",
          "pattern": {
           "shape": ""
          }
         },
         "name": "Rappel",
         "offsetgroup": "Rappel",
         "orientation": "v",
         "showlegend": true,
         "textposition": "auto",
         "type": "bar",
         "x": [
          "CandidatToRelation",
          "SynonymToRelation",
          "AgglomerativeClustering"
         ],
         "xaxis": "x",
         "y": [
          0.09090909090909091,
          0.09090909090909091,
          0.09090909090909091
         ],
         "yaxis": "y"
        },
        {
         "alignmentgroup": "True",
         "hovertemplate": "Métrique=F1<br>Composant=%{x}<br>Score=%{y}<extra></extra>",
         "legendgroup": "F1",
         "marker": {
          "color": "#00cc96",
          "pattern": {
           "shape": ""
          }
         },
         "name": "F1",
         "offsetgroup": "F1",
         "orientation": "v",
         "showlegend": true,
         "textposition": "auto",
         "type": "bar",
         "x": [
          "CandidatToRelation",
          "SynonymToRelation",
          "AgglomerativeClustering"
         ],
         "xaxis": "x",
         "y": [
          0.14814814814814814,
          0.14814814814814814,
          0.13793103448275862
         ],
         "yaxis": "y"
        }
       ],
       "layout": {
        "barmode": "group",
        "height": 600,
        "legend": {
         "title": {
          "text": "Métrique"
         },
         "tracegroupgap": 0
        },
        "template": {
         "data": {
          "bar": [
           {
            "error_x": {
             "color": "#2a3f5f"
            },
            "error_y": {
             "color": "#2a3f5f"
            },
            "marker": {
             "line": {
              "color": "#E5ECF6",
              "width": 0.5
             },
             "pattern": {
              "fillmode": "overlay",
              "size": 10,
              "solidity": 0.2
             }
            },
            "type": "bar"
           }
          ],
          "barpolar": [
           {
            "marker": {
             "line": {
              "color": "#E5ECF6",
              "width": 0.5
             },
             "pattern": {
              "fillmode": "overlay",
              "size": 10,
              "solidity": 0.2
             }
            },
            "type": "barpolar"
           }
          ],
          "carpet": [
           {
            "aaxis": {
             "endlinecolor": "#2a3f5f",
             "gridcolor": "white",
             "linecolor": "white",
             "minorgridcolor": "white",
             "startlinecolor": "#2a3f5f"
            },
            "baxis": {
             "endlinecolor": "#2a3f5f",
             "gridcolor": "white",
             "linecolor": "white",
             "minorgridcolor": "white",
             "startlinecolor": "#2a3f5f"
            },
            "type": "carpet"
           }
          ],
          "choropleth": [
           {
            "colorbar": {
             "outlinewidth": 0,
             "ticks": ""
            },
            "type": "choropleth"
           }
          ],
          "contour": [
           {
            "colorbar": {
             "outlinewidth": 0,
             "ticks": ""
            },
            "colorscale": [
             [
              0,
              "#0d0887"
             ],
             [
              0.1111111111111111,
              "#46039f"
             ],
             [
              0.2222222222222222,
              "#7201a8"
             ],
             [
              0.3333333333333333,
              "#9c179e"
             ],
             [
              0.4444444444444444,
              "#bd3786"
             ],
             [
              0.5555555555555556,
              "#d8576b"
             ],
             [
              0.6666666666666666,
              "#ed7953"
             ],
             [
              0.7777777777777778,
              "#fb9f3a"
             ],
             [
              0.8888888888888888,
              "#fdca26"
             ],
             [
              1,
              "#f0f921"
             ]
            ],
            "type": "contour"
           }
          ],
          "contourcarpet": [
           {
            "colorbar": {
             "outlinewidth": 0,
             "ticks": ""
            },
            "type": "contourcarpet"
           }
          ],
          "heatmap": [
           {
            "colorbar": {
             "outlinewidth": 0,
             "ticks": ""
            },
            "colorscale": [
             [
              0,
              "#0d0887"
             ],
             [
              0.1111111111111111,
              "#46039f"
             ],
             [
              0.2222222222222222,
              "#7201a8"
             ],
             [
              0.3333333333333333,
              "#9c179e"
             ],
             [
              0.4444444444444444,
              "#bd3786"
             ],
             [
              0.5555555555555556,
              "#d8576b"
             ],
             [
              0.6666666666666666,
              "#ed7953"
             ],
             [
              0.7777777777777778,
              "#fb9f3a"
             ],
             [
              0.8888888888888888,
              "#fdca26"
             ],
             [
              1,
              "#f0f921"
             ]
            ],
            "type": "heatmap"
           }
          ],
          "heatmapgl": [
           {
            "colorbar": {
             "outlinewidth": 0,
             "ticks": ""
            },
            "colorscale": [
             [
              0,
              "#0d0887"
             ],
             [
              0.1111111111111111,
              "#46039f"
             ],
             [
              0.2222222222222222,
              "#7201a8"
             ],
             [
              0.3333333333333333,
              "#9c179e"
             ],
             [
              0.4444444444444444,
              "#bd3786"
             ],
             [
              0.5555555555555556,
              "#d8576b"
             ],
             [
              0.6666666666666666,
              "#ed7953"
             ],
             [
              0.7777777777777778,
              "#fb9f3a"
             ],
             [
              0.8888888888888888,
              "#fdca26"
             ],
             [
              1,
              "#f0f921"
             ]
            ],
            "type": "heatmapgl"
           }
          ],
          "histogram": [
           {
            "marker": {
             "pattern": {
              "fillmode": "overlay",
              "size": 10,
              "solidity": 0.2
             }
            },
            "type": "histogram"
           }
          ],
          "histogram2d": [
           {
            "colorbar": {
             "outlinewidth": 0,
             "ticks": ""
            },
            "colorscale": [
             [
              0,
              "#0d0887"
             ],
             [
              0.1111111111111111,
              "#46039f"
             ],
             [
              0.2222222222222222,
              "#7201a8"
             ],
             [
              0.3333333333333333,
              "#9c179e"
             ],
             [
              0.4444444444444444,
              "#bd3786"
             ],
             [
              0.5555555555555556,
              "#d8576b"
             ],
             [
              0.6666666666666666,
              "#ed7953"
             ],
             [
              0.7777777777777778,
              "#fb9f3a"
             ],
             [
              0.8888888888888888,
              "#fdca26"
             ],
             [
              1,
              "#f0f921"
             ]
            ],
            "type": "histogram2d"
           }
          ],
          "histogram2dcontour": [
           {
            "colorbar": {
             "outlinewidth": 0,
             "ticks": ""
            },
            "colorscale": [
             [
              0,
              "#0d0887"
             ],
             [
              0.1111111111111111,
              "#46039f"
             ],
             [
              0.2222222222222222,
              "#7201a8"
             ],
             [
              0.3333333333333333,
              "#9c179e"
             ],
             [
              0.4444444444444444,
              "#bd3786"
             ],
             [
              0.5555555555555556,
              "#d8576b"
             ],
             [
              0.6666666666666666,
              "#ed7953"
             ],
             [
              0.7777777777777778,
              "#fb9f3a"
             ],
             [
              0.8888888888888888,
              "#fdca26"
             ],
             [
              1,
              "#f0f921"
             ]
            ],
            "type": "histogram2dcontour"
           }
          ],
          "mesh3d": [
           {
            "colorbar": {
             "outlinewidth": 0,
             "ticks": ""
            },
            "type": "mesh3d"
           }
          ],
          "parcoords": [
           {
            "line": {
             "colorbar": {
              "outlinewidth": 0,
              "ticks": ""
             }
            },
            "type": "parcoords"
           }
          ],
          "pie": [
           {
            "automargin": true,
            "type": "pie"
           }
          ],
          "scatter": [
           {
            "fillpattern": {
             "fillmode": "overlay",
             "size": 10,
             "solidity": 0.2
            },
            "type": "scatter"
           }
          ],
          "scatter3d": [
           {
            "line": {
             "colorbar": {
              "outlinewidth": 0,
              "ticks": ""
             }
            },
            "marker": {
             "colorbar": {
              "outlinewidth": 0,
              "ticks": ""
             }
            },
            "type": "scatter3d"
           }
          ],
          "scattercarpet": [
           {
            "marker": {
             "colorbar": {
              "outlinewidth": 0,
              "ticks": ""
             }
            },
            "type": "scattercarpet"
           }
          ],
          "scattergeo": [
           {
            "marker": {
             "colorbar": {
              "outlinewidth": 0,
              "ticks": ""
             }
            },
            "type": "scattergeo"
           }
          ],
          "scattergl": [
           {
            "marker": {
             "colorbar": {
              "outlinewidth": 0,
              "ticks": ""
             }
            },
            "type": "scattergl"
           }
          ],
          "scattermapbox": [
           {
            "marker": {
             "colorbar": {
              "outlinewidth": 0,
              "ticks": ""
             }
            },
            "type": "scattermapbox"
           }
          ],
          "scatterpolar": [
           {
            "marker": {
             "colorbar": {
              "outlinewidth": 0,
              "ticks": ""
             }
            },
            "type": "scatterpolar"
           }
          ],
          "scatterpolargl": [
           {
            "marker": {
             "colorbar": {
              "outlinewidth": 0,
              "ticks": ""
             }
            },
            "type": "scatterpolargl"
           }
          ],
          "scatterternary": [
           {
            "marker": {
             "colorbar": {
              "outlinewidth": 0,
              "ticks": ""
             }
            },
            "type": "scatterternary"
           }
          ],
          "surface": [
           {
            "colorbar": {
             "outlinewidth": 0,
             "ticks": ""
            },
            "colorscale": [
             [
              0,
              "#0d0887"
             ],
             [
              0.1111111111111111,
              "#46039f"
             ],
             [
              0.2222222222222222,
              "#7201a8"
             ],
             [
              0.3333333333333333,
              "#9c179e"
             ],
             [
              0.4444444444444444,
              "#bd3786"
             ],
             [
              0.5555555555555556,
              "#d8576b"
             ],
             [
              0.6666666666666666,
              "#ed7953"
             ],
             [
              0.7777777777777778,
              "#fb9f3a"
             ],
             [
              0.8888888888888888,
              "#fdca26"
             ],
             [
              1,
              "#f0f921"
             ]
            ],
            "type": "surface"
           }
          ],
          "table": [
           {
            "cells": {
             "fill": {
              "color": "#EBF0F8"
             },
             "line": {
              "color": "white"
             }
            },
            "header": {
             "fill": {
              "color": "#C8D4E3"
             },
             "line": {
              "color": "white"
             }
            },
            "type": "table"
           }
          ]
         },
         "layout": {
          "annotationdefaults": {
           "arrowcolor": "#2a3f5f",
           "arrowhead": 0,
           "arrowwidth": 1
          },
          "autotypenumbers": "strict",
          "coloraxis": {
           "colorbar": {
            "outlinewidth": 0,
            "ticks": ""
           }
          },
          "colorscale": {
           "diverging": [
            [
             0,
             "#8e0152"
            ],
            [
             0.1,
             "#c51b7d"
            ],
            [
             0.2,
             "#de77ae"
            ],
            [
             0.3,
             "#f1b6da"
            ],
            [
             0.4,
             "#fde0ef"
            ],
            [
             0.5,
             "#f7f7f7"
            ],
            [
             0.6,
             "#e6f5d0"
            ],
            [
             0.7,
             "#b8e186"
            ],
            [
             0.8,
             "#7fbc41"
            ],
            [
             0.9,
             "#4d9221"
            ],
            [
             1,
             "#276419"
            ]
           ],
           "sequential": [
            [
             0,
             "#0d0887"
            ],
            [
             0.1111111111111111,
             "#46039f"
            ],
            [
             0.2222222222222222,
             "#7201a8"
            ],
            [
             0.3333333333333333,
             "#9c179e"
            ],
            [
             0.4444444444444444,
             "#bd3786"
            ],
            [
             0.5555555555555556,
             "#d8576b"
            ],
            [
             0.6666666666666666,
             "#ed7953"
            ],
            [
             0.7777777777777778,
             "#fb9f3a"
            ],
            [
             0.8888888888888888,
             "#fdca26"
            ],
            [
             1,
             "#f0f921"
            ]
           ],
           "sequentialminus": [
            [
             0,
             "#0d0887"
            ],
            [
             0.1111111111111111,
             "#46039f"
            ],
            [
             0.2222222222222222,
             "#7201a8"
            ],
            [
             0.3333333333333333,
             "#9c179e"
            ],
            [
             0.4444444444444444,
             "#bd3786"
            ],
            [
             0.5555555555555556,
             "#d8576b"
            ],
            [
             0.6666666666666666,
             "#ed7953"
            ],
            [
             0.7777777777777778,
             "#fb9f3a"
            ],
            [
             0.8888888888888888,
             "#fdca26"
            ],
            [
             1,
             "#f0f921"
            ]
           ]
          },
          "colorway": [
           "#636efa",
           "#EF553B",
           "#00cc96",
           "#ab63fa",
           "#FFA15A",
           "#19d3f3",
           "#FF6692",
           "#B6E880",
           "#FF97FF",
           "#FECB52"
          ],
          "font": {
           "color": "#2a3f5f"
          },
          "geo": {
           "bgcolor": "white",
           "lakecolor": "white",
           "landcolor": "#E5ECF6",
           "showlakes": true,
           "showland": true,
           "subunitcolor": "white"
          },
          "hoverlabel": {
           "align": "left"
          },
          "hovermode": "closest",
          "mapbox": {
           "style": "light"
          },
          "paper_bgcolor": "white",
          "plot_bgcolor": "#E5ECF6",
          "polar": {
           "angularaxis": {
            "gridcolor": "white",
            "linecolor": "white",
            "ticks": ""
           },
           "bgcolor": "#E5ECF6",
           "radialaxis": {
            "gridcolor": "white",
            "linecolor": "white",
            "ticks": ""
           }
          },
          "scene": {
           "xaxis": {
            "backgroundcolor": "#E5ECF6",
            "gridcolor": "white",
            "gridwidth": 2,
            "linecolor": "white",
            "showbackground": true,
            "ticks": "",
            "zerolinecolor": "white"
           },
           "yaxis": {
            "backgroundcolor": "#E5ECF6",
            "gridcolor": "white",
            "gridwidth": 2,
            "linecolor": "white",
            "showbackground": true,
            "ticks": "",
            "zerolinecolor": "white"
           },
           "zaxis": {
            "backgroundcolor": "#E5ECF6",
            "gridcolor": "white",
            "gridwidth": 2,
            "linecolor": "white",
            "showbackground": true,
            "ticks": "",
            "zerolinecolor": "white"
           }
          },
          "shapedefaults": {
           "line": {
            "color": "#2a3f5f"
           }
          },
          "ternary": {
           "aaxis": {
            "gridcolor": "white",
            "linecolor": "white",
            "ticks": ""
           },
           "baxis": {
            "gridcolor": "white",
            "linecolor": "white",
            "ticks": ""
           },
           "bgcolor": "#E5ECF6",
           "caxis": {
            "gridcolor": "white",
            "linecolor": "white",
            "ticks": ""
           }
          },
          "title": {
           "x": 0.05
          },
          "xaxis": {
           "automargin": true,
           "gridcolor": "white",
           "linecolor": "white",
           "ticks": "",
           "title": {
            "standoff": 15
           },
           "zerolinecolor": "white",
           "zerolinewidth": 2
          },
          "yaxis": {
           "automargin": true,
           "gridcolor": "white",
           "linecolor": "white",
           "ticks": "",
           "title": {
            "standoff": 15
           },
           "zerolinecolor": "white",
           "zerolinewidth": 2
          }
         }
        },
        "title": {
         "text": "Scores de Précision, Rappel et F1 pour LLM Term Extraction"
        },
        "width": 1000,
        "xaxis": {
         "anchor": "y",
         "domain": [
          0,
          1
         ],
         "title": {
          "text": "Composants"
         }
        },
        "yaxis": {
         "anchor": "x",
         "domain": [
          0,
          1
         ],
         "title": {
          "text": "Scores"
         }
        }
       }
      }
     },
     "metadata": {},
     "output_type": "display_data"
    }
   ],
   "source": [
    "create_bar_chart(\"LLM Term Extraction\", pipelines_scores)"
   ]
  },
  {
   "cell_type": "markdown",
   "metadata": {},
   "source": [
    "## POS tag Term Extraction"
   ]
  },
  {
   "cell_type": "code",
   "execution_count": null,
   "metadata": {},
   "outputs": [],
   "source": [
    "postag_pipelines = [None, None, None]\n",
    "pos_results = np.ones(9)\n",
    "idx = 0"
   ]
  },
  {
   "cell_type": "markdown",
   "metadata": {},
   "source": [
    "### POS tag Term  extraction and Candidat To Concept Extraction"
   ]
  },
  {
   "cell_type": "code",
   "execution_count": null,
   "metadata": {},
   "outputs": [
    {
     "name": "stderr",
     "output_type": "stream",
     "text": [
      "[2024-07-12 00:43:11,793] [WARNING] [agglomerative_clustering_concept_extraction] [_check_parameters] [No value given for embedding_model parameter, default will be set to all-mpnet-base-v2.]\n",
      "[2024-07-12 00:43:11,794] [WARNING] [agglomerative_clustering_concept_extraction] [_check_parameters] [No value given for metric option, default will be set to cosine.]\n",
      "[2024-07-12 00:43:11,795] [WARNING] [pos_term_extraction] [__init__] [No preprocessing function provided for spans. Using the default one.]\n",
      "[2024-07-12 00:43:11,795] [WARNING] [pos_term_extraction] [_check_parameters] [POS term extraction token sequence attribute not set by the user.\n",
      "               By default the system will use the entire content of the document.]\n"
     ]
    },
    {
     "name": "stdout",
     "output_type": "stream",
     "text": [
      "(0.08333333333333333, 0.09090909090909091, 0.08695652173913043)\n"
     ]
    }
   ],
   "source": [
    "\n",
    "postag_pipelines[idx] = Pipeline(\n",
    "        spacy_model=nlp,\n",
    "        pipeline_components=[\n",
    "            ManualCandidateTermExtraction(\n",
    "            ct_label_strings_map=ct_concept_label\n",
    "            ),\n",
    "            AgglomerativeClusteringConceptExtraction(\n",
    "                distance_threshold=.4\n",
    "            ),\n",
    "            POSTermExtraction(\n",
    "                pos_selection=[\"VERB\", \"ADJ\"]\n",
    "            ),\n",
    "            CTsToRelationExtraction(\n",
    "                concept_max_distance=8\n",
    "            )\n",
    "        ],\n",
    "        corpus_loader=corpus_loader\n",
    "    )\n",
    "\n",
    "\n",
    "free_gpu()\n",
    "current_pipeline = postag_pipelines[idx]\n",
    "current_pipeline.run()\n",
    "\n",
    "\n",
    "pos_results[3*idx: 3*idx + 3]= list(\n",
    "    results:=get_relation_ratio(current_pipeline, expected_relations, comparator_args=comparator_args)\n",
    "    )\n",
    "\n",
    "print(results)"
   ]
  },
  {
   "cell_type": "code",
   "execution_count": null,
   "metadata": {},
   "outputs": [
    {
     "name": "stdout",
     "output_type": "stream",
     "text": [
      "Relations in KR:\n",
      "('crease', 'vertical', 'waist folding')\n",
      "('inclusion', 'typical', 'metal surface')\n",
      "('mechanical failure', 'unwanted', 'punching')\n",
      "('rolled pit', 'rolled', 'pits')\n",
      "('pits', 'periodic', 'pits')\n",
      "('pits', 'periodic', 'bulges')\n",
      "('mechanical failure', 'lead', 'punching')\n",
      "('crease', 'transverse', 'waist folding')\n",
      "('rolled pit', 'rolled', 'bulges')\n",
      "('spots', 'produced', 'drying')\n",
      "('punching', 'resulting', 'punching')\n",
      "('roller', 'uneven', 'pressure')\n",
      "('metal surface', 'showing', 'spots')\n"
     ]
    }
   ],
   "source": [
    "display_relation(current_pipeline.kr)"
   ]
  },
  {
   "cell_type": "code",
   "execution_count": null,
   "metadata": {},
   "outputs": [],
   "source": [
    "idx += 1"
   ]
  },
  {
   "cell_type": "markdown",
   "metadata": {},
   "source": [
    "### POS tag Term  extraction and Synonym Concept Extraction"
   ]
  },
  {
   "cell_type": "code",
   "execution_count": null,
   "metadata": {},
   "outputs": [
    {
     "name": "stderr",
     "output_type": "stream",
     "text": [
      "[2024-07-12 00:43:22,386] [WARNING] [agglomerative_clustering_concept_extraction] [_check_parameters] [No value given for embedding_model parameter, default will be set to all-mpnet-base-v2.]\n",
      "[2024-07-12 00:43:22,387] [WARNING] [agglomerative_clustering_concept_extraction] [_check_parameters] [No value given for metric option, default will be set to cosine.]\n",
      "[2024-07-12 00:43:22,388] [WARNING] [pos_term_extraction] [__init__] [No preprocessing function provided for spans. Using the default one.]\n",
      "[2024-07-12 00:43:22,389] [WARNING] [pos_term_extraction] [_check_parameters] [POS term extraction token sequence attribute not set by the user.\n",
      "               By default the system will use the entire content of the document.]\n"
     ]
    },
    {
     "name": "stdout",
     "output_type": "stream",
     "text": [
      "(0.08333333333333333, 0.09090909090909091, 0.08695652173913043)\n"
     ]
    }
   ],
   "source": [
    "postag_pipelines[idx] = Pipeline(\n",
    "    spacy_model=nlp,\n",
    "    pipeline_components=[\n",
    "        ManualCandidateTermExtraction(\n",
    "            ct_label_strings_map=ct_concept_label\n",
    "        ),\n",
    "        AgglomerativeClusteringConceptExtraction(\n",
    "            distance_threshold=.4\n",
    "        ),\n",
    "        POSTermExtraction(\n",
    "            pos_selection=[\"VERB\", \"ADJ\"]\n",
    "        ),\n",
    "        SynonymRelationExtraction(\n",
    "            concept_max_distance=8\n",
    "        )\n",
    "    ],\n",
    "    corpus_loader=corpus_loader\n",
    ")\n",
    "\n",
    "free_gpu()\n",
    "current_pipeline = postag_pipelines[idx]\n",
    "current_pipeline.run()\n",
    "\n",
    "\n",
    "pos_results[3*idx: 3*idx + 3]= list(\n",
    "    result:=get_relation_ratio(current_pipeline, expected_relations, comparator_args=comparator_args)\n",
    "    )\n",
    "\n",
    "print(results)"
   ]
  },
  {
   "cell_type": "code",
   "execution_count": null,
   "metadata": {},
   "outputs": [],
   "source": [
    "idx += 1"
   ]
  },
  {
   "cell_type": "markdown",
   "metadata": {},
   "source": [
    "### POS tag Term  extraction and Agglomerative clustering Extraction"
   ]
  },
  {
   "cell_type": "code",
   "execution_count": null,
   "metadata": {},
   "outputs": [
    {
     "name": "stderr",
     "output_type": "stream",
     "text": [
      "[2024-07-12 00:43:29,213] [WARNING] [agglomerative_clustering_concept_extraction] [_check_parameters] [No value given for embedding_model parameter, default will be set to all-mpnet-base-v2.]\n",
      "[2024-07-12 00:43:29,213] [WARNING] [agglomerative_clustering_concept_extraction] [_check_parameters] [No value given for metric option, default will be set to cosine.]\n",
      "[2024-07-12 00:43:29,214] [WARNING] [pos_term_extraction] [__init__] [No preprocessing function provided for spans. Using the default one.]\n",
      "[2024-07-12 00:43:29,215] [WARNING] [pos_term_extraction] [_check_parameters] [POS term extraction token sequence attribute not set by the user.\n",
      "               By default the system will use the entire content of the document.]\n",
      "[2024-07-12 00:43:29,216] [WARNING] [agglomerative_clustering_relation_extraction] [_check_parameters] [No value given for embedding_model parameter, default will be set to all-mpnet-base-v2.]\n",
      "[2024-07-12 00:43:29,216] [WARNING] [agglomerative_clustering_relation_extraction] [_check_parameters] [No value given for nb_clusters option, default will be set to 2.]\n",
      "[2024-07-12 00:43:29,217] [WARNING] [agglomerative_clustering_relation_extraction] [_check_parameters] [No value given for metric option, default will be set to cosine.]\n"
     ]
    },
    {
     "name": "stdout",
     "output_type": "stream",
     "text": [
      "(0.10526315789473684, 0.09090909090909091, 0.0975609756097561)\n"
     ]
    }
   ],
   "source": [
    "postag_pipelines[idx] = Pipeline(\n",
    "        spacy_model=nlp,\n",
    "        pipeline_components=[\n",
    "            ManualCandidateTermExtraction(\n",
    "                ct_label_strings_map=ct_concept_label\n",
    "            ),\n",
    "            AgglomerativeClusteringConceptExtraction(\n",
    "                distance_threshold=.4\n",
    "            ),\n",
    "            POSTermExtraction(\n",
    "                pos_selection=[\"VERB\", \"ADJ\"]\n",
    "            ),\n",
    "            AgglomerativeClusteringRelationExtraction(\n",
    "               concept_max_distance=8\n",
    "           )\n",
    "        ],\n",
    "        corpus_loader=corpus_loader\n",
    "    )\n",
    "\n",
    "\n",
    "\n",
    "free_gpu()\n",
    "current_pipeline = postag_pipelines[idx]\n",
    "current_pipeline.run()\n",
    "\n",
    "\n",
    "pos_results[3*idx: 3*idx + 3]= list(\n",
    "    results:=get_relation_ratio(current_pipeline, expected_relations, comparator_args=comparator_args)\n",
    "    )\n",
    "\n",
    "print(results)"
   ]
  },
  {
   "cell_type": "code",
   "execution_count": null,
   "metadata": {},
   "outputs": [
    {
     "data": {
      "text/plain": [
       "array([0.08333333, 0.09090909, 0.08695652, 0.08333333, 0.09090909,\n",
       "       0.08695652, 0.10526316, 0.09090909, 0.09756098])"
      ]
     },
     "execution_count": 218,
     "metadata": {},
     "output_type": "execute_result"
    }
   ],
   "source": [
    "pos_results"
   ]
  },
  {
   "cell_type": "markdown",
   "metadata": {},
   "source": [
    "### Score des pipelines"
   ]
  },
  {
   "cell_type": "code",
   "execution_count": null,
   "metadata": {},
   "outputs": [
    {
     "data": {
      "text/html": [
       "<div>\n",
       "<style scoped>\n",
       "    .dataframe tbody tr th:only-of-type {\n",
       "        vertical-align: middle;\n",
       "    }\n",
       "\n",
       "    .dataframe tbody tr th {\n",
       "        vertical-align: top;\n",
       "    }\n",
       "\n",
       "    .dataframe thead tr th {\n",
       "        text-align: left;\n",
       "    }\n",
       "</style>\n",
       "<table border=\"1\" class=\"dataframe\">\n",
       "  <thead>\n",
       "    <tr>\n",
       "      <th></th>\n",
       "      <th colspan=\"3\" halign=\"left\">CandidatToRelation</th>\n",
       "      <th colspan=\"3\" halign=\"left\">SynonymToRelation</th>\n",
       "      <th colspan=\"3\" halign=\"left\">AgglomerativeClustering</th>\n",
       "    </tr>\n",
       "    <tr>\n",
       "      <th></th>\n",
       "      <th>Precision</th>\n",
       "      <th>Rappel</th>\n",
       "      <th>F1</th>\n",
       "      <th>Precision</th>\n",
       "      <th>Rappel</th>\n",
       "      <th>F1</th>\n",
       "      <th>Precision</th>\n",
       "      <th>Rappel</th>\n",
       "      <th>F1</th>\n",
       "    </tr>\n",
       "  </thead>\n",
       "  <tbody>\n",
       "    <tr>\n",
       "      <th>LLM Term Extraction</th>\n",
       "      <td>0.4</td>\n",
       "      <td>0.090909</td>\n",
       "      <td>0.148148</td>\n",
       "      <td>0.4</td>\n",
       "      <td>0.090909</td>\n",
       "      <td>0.148148</td>\n",
       "      <td>0.285714</td>\n",
       "      <td>0.090909</td>\n",
       "      <td>0.137931</td>\n",
       "    </tr>\n",
       "    <tr>\n",
       "      <th>POStag Term Extraction</th>\n",
       "      <td>0.083333</td>\n",
       "      <td>0.090909</td>\n",
       "      <td>0.086957</td>\n",
       "      <td>0.083333</td>\n",
       "      <td>0.090909</td>\n",
       "      <td>0.086957</td>\n",
       "      <td>0.105263</td>\n",
       "      <td>0.090909</td>\n",
       "      <td>0.097561</td>\n",
       "    </tr>\n",
       "    <tr>\n",
       "      <th>TFIDF Term Extraction</th>\n",
       "      <td>0.090909</td>\n",
       "      <td>0.136364</td>\n",
       "      <td>0.109091</td>\n",
       "      <td>0.242424</td>\n",
       "      <td>0.363636</td>\n",
       "      <td>0.290909</td>\n",
       "      <td>0.058824</td>\n",
       "      <td>0.045455</td>\n",
       "      <td>0.051282</td>\n",
       "    </tr>\n",
       "  </tbody>\n",
       "</table>\n",
       "</div>"
      ],
      "text/plain": [
       "                       CandidatToRelation                      \\\n",
       "                                Precision    Rappel        F1   \n",
       "LLM Term Extraction                   0.4  0.090909  0.148148   \n",
       "POStag Term Extraction           0.083333  0.090909  0.086957   \n",
       "TFIDF Term Extraction            0.090909  0.136364  0.109091   \n",
       "\n",
       "                       SynonymToRelation                      \\\n",
       "                               Precision    Rappel        F1   \n",
       "LLM Term Extraction                  0.4  0.090909  0.148148   \n",
       "POStag Term Extraction          0.083333  0.090909  0.086957   \n",
       "TFIDF Term Extraction           0.242424  0.363636  0.290909   \n",
       "\n",
       "                       AgglomerativeClustering                      \n",
       "                                     Precision    Rappel        F1  \n",
       "LLM Term Extraction                   0.285714  0.090909  0.137931  \n",
       "POStag Term Extraction                0.105263  0.090909  0.097561  \n",
       "TFIDF Term Extraction                 0.058824  0.045455  0.051282  "
      ]
     },
     "execution_count": 219,
     "metadata": {},
     "output_type": "execute_result"
    }
   ],
   "source": [
    "pipelines_scores.loc[term_extraction_components[1]] = pos_results\n",
    "pipelines_scores"
   ]
  },
  {
   "cell_type": "code",
   "execution_count": null,
   "metadata": {},
   "outputs": [
    {
     "data": {
      "application/vnd.plotly.v1+json": {
       "config": {
        "plotlyServerURL": "https://plot.ly"
       },
       "data": [
        {
         "alignmentgroup": "True",
         "hovertemplate": "Métrique=Precision<br>Composant=%{x}<br>Score=%{y}<extra></extra>",
         "legendgroup": "Precision",
         "marker": {
          "color": "#636efa",
          "pattern": {
           "shape": ""
          }
         },
         "name": "Precision",
         "offsetgroup": "Precision",
         "orientation": "v",
         "showlegend": true,
         "textposition": "auto",
         "type": "bar",
         "x": [
          "CandidatToRelation",
          "SynonymToRelation",
          "AgglomerativeClustering"
         ],
         "xaxis": "x",
         "y": [
          0.08333333333333333,
          0.08333333333333333,
          0.10526315789473684
         ],
         "yaxis": "y"
        },
        {
         "alignmentgroup": "True",
         "hovertemplate": "Métrique=Rappel<br>Composant=%{x}<br>Score=%{y}<extra></extra>",
         "legendgroup": "Rappel",
         "marker": {
          "color": "#EF553B",
          "pattern": {
           "shape": ""
          }
         },
         "name": "Rappel",
         "offsetgroup": "Rappel",
         "orientation": "v",
         "showlegend": true,
         "textposition": "auto",
         "type": "bar",
         "x": [
          "CandidatToRelation",
          "SynonymToRelation",
          "AgglomerativeClustering"
         ],
         "xaxis": "x",
         "y": [
          0.09090909090909091,
          0.09090909090909091,
          0.09090909090909091
         ],
         "yaxis": "y"
        },
        {
         "alignmentgroup": "True",
         "hovertemplate": "Métrique=F1<br>Composant=%{x}<br>Score=%{y}<extra></extra>",
         "legendgroup": "F1",
         "marker": {
          "color": "#00cc96",
          "pattern": {
           "shape": ""
          }
         },
         "name": "F1",
         "offsetgroup": "F1",
         "orientation": "v",
         "showlegend": true,
         "textposition": "auto",
         "type": "bar",
         "x": [
          "CandidatToRelation",
          "SynonymToRelation",
          "AgglomerativeClustering"
         ],
         "xaxis": "x",
         "y": [
          0.08695652173913043,
          0.08695652173913043,
          0.0975609756097561
         ],
         "yaxis": "y"
        }
       ],
       "layout": {
        "barmode": "group",
        "height": 600,
        "legend": {
         "title": {
          "text": "Métrique"
         },
         "tracegroupgap": 0
        },
        "template": {
         "data": {
          "bar": [
           {
            "error_x": {
             "color": "#2a3f5f"
            },
            "error_y": {
             "color": "#2a3f5f"
            },
            "marker": {
             "line": {
              "color": "#E5ECF6",
              "width": 0.5
             },
             "pattern": {
              "fillmode": "overlay",
              "size": 10,
              "solidity": 0.2
             }
            },
            "type": "bar"
           }
          ],
          "barpolar": [
           {
            "marker": {
             "line": {
              "color": "#E5ECF6",
              "width": 0.5
             },
             "pattern": {
              "fillmode": "overlay",
              "size": 10,
              "solidity": 0.2
             }
            },
            "type": "barpolar"
           }
          ],
          "carpet": [
           {
            "aaxis": {
             "endlinecolor": "#2a3f5f",
             "gridcolor": "white",
             "linecolor": "white",
             "minorgridcolor": "white",
             "startlinecolor": "#2a3f5f"
            },
            "baxis": {
             "endlinecolor": "#2a3f5f",
             "gridcolor": "white",
             "linecolor": "white",
             "minorgridcolor": "white",
             "startlinecolor": "#2a3f5f"
            },
            "type": "carpet"
           }
          ],
          "choropleth": [
           {
            "colorbar": {
             "outlinewidth": 0,
             "ticks": ""
            },
            "type": "choropleth"
           }
          ],
          "contour": [
           {
            "colorbar": {
             "outlinewidth": 0,
             "ticks": ""
            },
            "colorscale": [
             [
              0,
              "#0d0887"
             ],
             [
              0.1111111111111111,
              "#46039f"
             ],
             [
              0.2222222222222222,
              "#7201a8"
             ],
             [
              0.3333333333333333,
              "#9c179e"
             ],
             [
              0.4444444444444444,
              "#bd3786"
             ],
             [
              0.5555555555555556,
              "#d8576b"
             ],
             [
              0.6666666666666666,
              "#ed7953"
             ],
             [
              0.7777777777777778,
              "#fb9f3a"
             ],
             [
              0.8888888888888888,
              "#fdca26"
             ],
             [
              1,
              "#f0f921"
             ]
            ],
            "type": "contour"
           }
          ],
          "contourcarpet": [
           {
            "colorbar": {
             "outlinewidth": 0,
             "ticks": ""
            },
            "type": "contourcarpet"
           }
          ],
          "heatmap": [
           {
            "colorbar": {
             "outlinewidth": 0,
             "ticks": ""
            },
            "colorscale": [
             [
              0,
              "#0d0887"
             ],
             [
              0.1111111111111111,
              "#46039f"
             ],
             [
              0.2222222222222222,
              "#7201a8"
             ],
             [
              0.3333333333333333,
              "#9c179e"
             ],
             [
              0.4444444444444444,
              "#bd3786"
             ],
             [
              0.5555555555555556,
              "#d8576b"
             ],
             [
              0.6666666666666666,
              "#ed7953"
             ],
             [
              0.7777777777777778,
              "#fb9f3a"
             ],
             [
              0.8888888888888888,
              "#fdca26"
             ],
             [
              1,
              "#f0f921"
             ]
            ],
            "type": "heatmap"
           }
          ],
          "heatmapgl": [
           {
            "colorbar": {
             "outlinewidth": 0,
             "ticks": ""
            },
            "colorscale": [
             [
              0,
              "#0d0887"
             ],
             [
              0.1111111111111111,
              "#46039f"
             ],
             [
              0.2222222222222222,
              "#7201a8"
             ],
             [
              0.3333333333333333,
              "#9c179e"
             ],
             [
              0.4444444444444444,
              "#bd3786"
             ],
             [
              0.5555555555555556,
              "#d8576b"
             ],
             [
              0.6666666666666666,
              "#ed7953"
             ],
             [
              0.7777777777777778,
              "#fb9f3a"
             ],
             [
              0.8888888888888888,
              "#fdca26"
             ],
             [
              1,
              "#f0f921"
             ]
            ],
            "type": "heatmapgl"
           }
          ],
          "histogram": [
           {
            "marker": {
             "pattern": {
              "fillmode": "overlay",
              "size": 10,
              "solidity": 0.2
             }
            },
            "type": "histogram"
           }
          ],
          "histogram2d": [
           {
            "colorbar": {
             "outlinewidth": 0,
             "ticks": ""
            },
            "colorscale": [
             [
              0,
              "#0d0887"
             ],
             [
              0.1111111111111111,
              "#46039f"
             ],
             [
              0.2222222222222222,
              "#7201a8"
             ],
             [
              0.3333333333333333,
              "#9c179e"
             ],
             [
              0.4444444444444444,
              "#bd3786"
             ],
             [
              0.5555555555555556,
              "#d8576b"
             ],
             [
              0.6666666666666666,
              "#ed7953"
             ],
             [
              0.7777777777777778,
              "#fb9f3a"
             ],
             [
              0.8888888888888888,
              "#fdca26"
             ],
             [
              1,
              "#f0f921"
             ]
            ],
            "type": "histogram2d"
           }
          ],
          "histogram2dcontour": [
           {
            "colorbar": {
             "outlinewidth": 0,
             "ticks": ""
            },
            "colorscale": [
             [
              0,
              "#0d0887"
             ],
             [
              0.1111111111111111,
              "#46039f"
             ],
             [
              0.2222222222222222,
              "#7201a8"
             ],
             [
              0.3333333333333333,
              "#9c179e"
             ],
             [
              0.4444444444444444,
              "#bd3786"
             ],
             [
              0.5555555555555556,
              "#d8576b"
             ],
             [
              0.6666666666666666,
              "#ed7953"
             ],
             [
              0.7777777777777778,
              "#fb9f3a"
             ],
             [
              0.8888888888888888,
              "#fdca26"
             ],
             [
              1,
              "#f0f921"
             ]
            ],
            "type": "histogram2dcontour"
           }
          ],
          "mesh3d": [
           {
            "colorbar": {
             "outlinewidth": 0,
             "ticks": ""
            },
            "type": "mesh3d"
           }
          ],
          "parcoords": [
           {
            "line": {
             "colorbar": {
              "outlinewidth": 0,
              "ticks": ""
             }
            },
            "type": "parcoords"
           }
          ],
          "pie": [
           {
            "automargin": true,
            "type": "pie"
           }
          ],
          "scatter": [
           {
            "fillpattern": {
             "fillmode": "overlay",
             "size": 10,
             "solidity": 0.2
            },
            "type": "scatter"
           }
          ],
          "scatter3d": [
           {
            "line": {
             "colorbar": {
              "outlinewidth": 0,
              "ticks": ""
             }
            },
            "marker": {
             "colorbar": {
              "outlinewidth": 0,
              "ticks": ""
             }
            },
            "type": "scatter3d"
           }
          ],
          "scattercarpet": [
           {
            "marker": {
             "colorbar": {
              "outlinewidth": 0,
              "ticks": ""
             }
            },
            "type": "scattercarpet"
           }
          ],
          "scattergeo": [
           {
            "marker": {
             "colorbar": {
              "outlinewidth": 0,
              "ticks": ""
             }
            },
            "type": "scattergeo"
           }
          ],
          "scattergl": [
           {
            "marker": {
             "colorbar": {
              "outlinewidth": 0,
              "ticks": ""
             }
            },
            "type": "scattergl"
           }
          ],
          "scattermapbox": [
           {
            "marker": {
             "colorbar": {
              "outlinewidth": 0,
              "ticks": ""
             }
            },
            "type": "scattermapbox"
           }
          ],
          "scatterpolar": [
           {
            "marker": {
             "colorbar": {
              "outlinewidth": 0,
              "ticks": ""
             }
            },
            "type": "scatterpolar"
           }
          ],
          "scatterpolargl": [
           {
            "marker": {
             "colorbar": {
              "outlinewidth": 0,
              "ticks": ""
             }
            },
            "type": "scatterpolargl"
           }
          ],
          "scatterternary": [
           {
            "marker": {
             "colorbar": {
              "outlinewidth": 0,
              "ticks": ""
             }
            },
            "type": "scatterternary"
           }
          ],
          "surface": [
           {
            "colorbar": {
             "outlinewidth": 0,
             "ticks": ""
            },
            "colorscale": [
             [
              0,
              "#0d0887"
             ],
             [
              0.1111111111111111,
              "#46039f"
             ],
             [
              0.2222222222222222,
              "#7201a8"
             ],
             [
              0.3333333333333333,
              "#9c179e"
             ],
             [
              0.4444444444444444,
              "#bd3786"
             ],
             [
              0.5555555555555556,
              "#d8576b"
             ],
             [
              0.6666666666666666,
              "#ed7953"
             ],
             [
              0.7777777777777778,
              "#fb9f3a"
             ],
             [
              0.8888888888888888,
              "#fdca26"
             ],
             [
              1,
              "#f0f921"
             ]
            ],
            "type": "surface"
           }
          ],
          "table": [
           {
            "cells": {
             "fill": {
              "color": "#EBF0F8"
             },
             "line": {
              "color": "white"
             }
            },
            "header": {
             "fill": {
              "color": "#C8D4E3"
             },
             "line": {
              "color": "white"
             }
            },
            "type": "table"
           }
          ]
         },
         "layout": {
          "annotationdefaults": {
           "arrowcolor": "#2a3f5f",
           "arrowhead": 0,
           "arrowwidth": 1
          },
          "autotypenumbers": "strict",
          "coloraxis": {
           "colorbar": {
            "outlinewidth": 0,
            "ticks": ""
           }
          },
          "colorscale": {
           "diverging": [
            [
             0,
             "#8e0152"
            ],
            [
             0.1,
             "#c51b7d"
            ],
            [
             0.2,
             "#de77ae"
            ],
            [
             0.3,
             "#f1b6da"
            ],
            [
             0.4,
             "#fde0ef"
            ],
            [
             0.5,
             "#f7f7f7"
            ],
            [
             0.6,
             "#e6f5d0"
            ],
            [
             0.7,
             "#b8e186"
            ],
            [
             0.8,
             "#7fbc41"
            ],
            [
             0.9,
             "#4d9221"
            ],
            [
             1,
             "#276419"
            ]
           ],
           "sequential": [
            [
             0,
             "#0d0887"
            ],
            [
             0.1111111111111111,
             "#46039f"
            ],
            [
             0.2222222222222222,
             "#7201a8"
            ],
            [
             0.3333333333333333,
             "#9c179e"
            ],
            [
             0.4444444444444444,
             "#bd3786"
            ],
            [
             0.5555555555555556,
             "#d8576b"
            ],
            [
             0.6666666666666666,
             "#ed7953"
            ],
            [
             0.7777777777777778,
             "#fb9f3a"
            ],
            [
             0.8888888888888888,
             "#fdca26"
            ],
            [
             1,
             "#f0f921"
            ]
           ],
           "sequentialminus": [
            [
             0,
             "#0d0887"
            ],
            [
             0.1111111111111111,
             "#46039f"
            ],
            [
             0.2222222222222222,
             "#7201a8"
            ],
            [
             0.3333333333333333,
             "#9c179e"
            ],
            [
             0.4444444444444444,
             "#bd3786"
            ],
            [
             0.5555555555555556,
             "#d8576b"
            ],
            [
             0.6666666666666666,
             "#ed7953"
            ],
            [
             0.7777777777777778,
             "#fb9f3a"
            ],
            [
             0.8888888888888888,
             "#fdca26"
            ],
            [
             1,
             "#f0f921"
            ]
           ]
          },
          "colorway": [
           "#636efa",
           "#EF553B",
           "#00cc96",
           "#ab63fa",
           "#FFA15A",
           "#19d3f3",
           "#FF6692",
           "#B6E880",
           "#FF97FF",
           "#FECB52"
          ],
          "font": {
           "color": "#2a3f5f"
          },
          "geo": {
           "bgcolor": "white",
           "lakecolor": "white",
           "landcolor": "#E5ECF6",
           "showlakes": true,
           "showland": true,
           "subunitcolor": "white"
          },
          "hoverlabel": {
           "align": "left"
          },
          "hovermode": "closest",
          "mapbox": {
           "style": "light"
          },
          "paper_bgcolor": "white",
          "plot_bgcolor": "#E5ECF6",
          "polar": {
           "angularaxis": {
            "gridcolor": "white",
            "linecolor": "white",
            "ticks": ""
           },
           "bgcolor": "#E5ECF6",
           "radialaxis": {
            "gridcolor": "white",
            "linecolor": "white",
            "ticks": ""
           }
          },
          "scene": {
           "xaxis": {
            "backgroundcolor": "#E5ECF6",
            "gridcolor": "white",
            "gridwidth": 2,
            "linecolor": "white",
            "showbackground": true,
            "ticks": "",
            "zerolinecolor": "white"
           },
           "yaxis": {
            "backgroundcolor": "#E5ECF6",
            "gridcolor": "white",
            "gridwidth": 2,
            "linecolor": "white",
            "showbackground": true,
            "ticks": "",
            "zerolinecolor": "white"
           },
           "zaxis": {
            "backgroundcolor": "#E5ECF6",
            "gridcolor": "white",
            "gridwidth": 2,
            "linecolor": "white",
            "showbackground": true,
            "ticks": "",
            "zerolinecolor": "white"
           }
          },
          "shapedefaults": {
           "line": {
            "color": "#2a3f5f"
           }
          },
          "ternary": {
           "aaxis": {
            "gridcolor": "white",
            "linecolor": "white",
            "ticks": ""
           },
           "baxis": {
            "gridcolor": "white",
            "linecolor": "white",
            "ticks": ""
           },
           "bgcolor": "#E5ECF6",
           "caxis": {
            "gridcolor": "white",
            "linecolor": "white",
            "ticks": ""
           }
          },
          "title": {
           "x": 0.05
          },
          "xaxis": {
           "automargin": true,
           "gridcolor": "white",
           "linecolor": "white",
           "ticks": "",
           "title": {
            "standoff": 15
           },
           "zerolinecolor": "white",
           "zerolinewidth": 2
          },
          "yaxis": {
           "automargin": true,
           "gridcolor": "white",
           "linecolor": "white",
           "ticks": "",
           "title": {
            "standoff": 15
           },
           "zerolinecolor": "white",
           "zerolinewidth": 2
          }
         }
        },
        "title": {
         "text": "Scores de Précision, Rappel et F1 pour POStag Term Extraction"
        },
        "width": 1000,
        "xaxis": {
         "anchor": "y",
         "domain": [
          0,
          1
         ],
         "title": {
          "text": "Composants"
         }
        },
        "yaxis": {
         "anchor": "x",
         "domain": [
          0,
          1
         ],
         "title": {
          "text": "Scores"
         }
        }
       }
      }
     },
     "metadata": {},
     "output_type": "display_data"
    }
   ],
   "source": [
    "create_bar_chart(\"POStag Term Extraction\", pipelines_scores)"
   ]
  },
  {
   "cell_type": "markdown",
   "metadata": {},
   "source": [
    "## TFIDF  Term Extraction"
   ]
  },
  {
   "cell_type": "code",
   "execution_count": 33,
   "metadata": {},
   "outputs": [],
   "source": [
    "tfidf_pipelines = [None, None, None]\n",
    "tfidf_results = np.ones(9)\n",
    "idx = 0"
   ]
  },
  {
   "cell_type": "code",
   "execution_count": 21,
   "metadata": {},
   "outputs": [],
   "source": [
    "from spacy.matcher import Matcher\n",
    "\n",
    "def relation_postprocessor(relations : Set[Relation], nlp=nlp) -> Set[Relation]:\n",
    "    \"\"\"Filters relationships based on a set of spacy patterns.\n",
    "\n",
    "    Parameters\n",
    "    ----------\n",
    "    relations : Set[Relation]\n",
    "        A set of relation to filter\n",
    "    nlp : spacy.Language\n",
    "        the spacy language\n",
    "\n",
    "    Returns\n",
    "    -------\n",
    "    Set[Relation]\n",
    "        A set of Relation\n",
    "    \"\"\"\n",
    "    correct_relations = set()\n",
    "    relation_patterns = [\n",
    "        [{\"POS\": \"AUX\", \"DEP\": \"ROOT\"}],\n",
    "        [{\"POS\": \"AUX\", \"OP\": \"?\"}, {\"POS\": \"ADV\", \"OP\": \"?\"},{\"POS\": \"VERB\"}, {\"POS\": \"ADP\", \"OP\": \"?\"}],\n",
    "        [{\"POS\": \"AUX\"}, {\"POS\": \"ADJ\", \"OP\": \"+\"}, {\"POS\": \"ADP\"}],\n",
    "        [{\"POS\": \"AUX\"}, {\"POS\": \"VERB\", \"OP\": \"+\"}, {\"POS\": \"ADP\", \"OP\": \"?\"}],\n",
    "        ]\n",
    "    matcher = Matcher(nlp.vocab)\n",
    "\n",
    "    matcher.add(\"REALTION_PATTERN\", relation_patterns)\n",
    "\n",
    "    for relation in relations:\n",
    "        relation_doc = nlp(relation.label)\n",
    "        matches = matcher(relation_doc)\n",
    "        if any(\n",
    "            len(relation_doc[start_idx:end_idx]) == len(relation_doc)\n",
    "            for _, start_idx, end_idx in matches\n",
    "        ):\n",
    "            correct_relations.add(relation)\n",
    "    \n",
    "    return correct_relations\n"
   ]
  },
  {
   "cell_type": "markdown",
   "metadata": {},
   "source": [
    "### TFIDF Term Extraction and Candidat To Concept Extraction"
   ]
  },
  {
   "cell_type": "code",
   "execution_count": 34,
   "metadata": {},
   "outputs": [
    {
     "name": "stderr",
     "output_type": "stream",
     "text": [
      "[2024-07-18 14:22:39,922] [WARNING] [agglomerative_clustering_concept_extraction] [_check_parameters] [No value given for embedding_model parameter, default will be set to all-mpnet-base-v2.]\n",
      "[2024-07-18 14:22:39,924] [WARNING] [agglomerative_clustering_concept_extraction] [_check_parameters] [No value given for metric option, default will be set to cosine.]\n",
      "[2024-07-18 14:22:39,924] [WARNING] [tfidf_term_extraction] [_check_parameters] [Selected token sequence document attribute not set by the user.\n",
      "                By default the system will use the entire content of the document.]\n",
      "/home/oumar/Bureau/ontology-learning/env/lib/python3.10/site-packages/sklearn/feature_extraction/text.py:525: UserWarning:\n",
      "\n",
      "The parameter 'token_pattern' will not be used since 'tokenizer' is not None'\n",
      "\n"
     ]
    },
    {
     "name": "stdout",
     "output_type": "stream",
     "text": [
      "(0.13725490196078433, 0.3181818181818182, 0.19178082191780824)\n"
     ]
    }
   ],
   "source": [
    "\n",
    "tfidf_pipelines[idx] = Pipeline(\n",
    "        spacy_model=nlp,\n",
    "        pipeline_components=[\n",
    "           ManualCandidateTermExtraction(\n",
    "                ct_label_strings_map=ct_concept_label\n",
    "            ),\n",
    "            AgglomerativeClusteringConceptExtraction(\n",
    "                distance_threshold=.4\n",
    "            ),\n",
    "            TFIDFTermExtraction(max_term_token_length=4, cts_post_processing_functions=[relation_postprocessor]),\n",
    "            CTsToRelationExtraction(\n",
    "               concept_max_distance=8\n",
    "           )\n",
    "        ],\n",
    "        corpus_loader=corpus_loader\n",
    "    )\n",
    "\n",
    "\n",
    "free_gpu()\n",
    "current_pipeline = tfidf_pipelines[idx]\n",
    "current_pipeline.run()\n",
    "\n",
    "\n",
    "tfidf_results[3*idx: 3*idx + 3]= list(\n",
    "    results:=get_relation_ratio(current_pipeline, expected_relations, comparator_args=comparator_args)\n",
    "    )\n",
    "\n",
    "print(results)"
   ]
  },
  {
   "cell_type": "code",
   "execution_count": 35,
   "metadata": {},
   "outputs": [
    {
     "name": "stdout",
     "output_type": "stream",
     "text": [
      "Relations in KR:\n",
      "('metal surface', 'usually showing', 'fish scale shape')\n",
      "('defect type', 'explaining', 'steel strip surface')\n",
      "('metal surface', 'showing', 'spots')\n",
      "('spots', 'is produced by', 'drying')\n",
      "('pits', 'are', 'bulges')\n",
      "('pits', 'bulges', 'pits')\n",
      "('metal surface', 'usually showing', 'spots')\n",
      "('inclusion', 'surface', 'spots')\n",
      "('mechanical failure', 'may lead', 'punching')\n",
      "('pits', 'are', 'pits')\n",
      "('mechanical failure', 'lead', 'punching')\n",
      "('rolled pit', 'rolled', 'pits')\n",
      "('punching', 'resulting in', 'punching')\n",
      "('bulges', 'surface', 'steel plate')\n",
      "('spots', 'is produced', 'drying')\n",
      "('work roll', 'roll', 'work roll')\n",
      "('crease', 'crease', 'waist folding')\n",
      "('mechanical failure', 'may', 'punching')\n",
      "('rolled pit', 'are', 'pits')\n",
      "('spots', 'scale', 'block irregular distribution')\n",
      "('oil spot', 'is usually caused', 'mechanical lubricant')\n",
      "('spots', 'produced', 'drying')\n",
      "('mechanical failure', 'may lead to', 'punching')\n",
      "('mechanical failure', 'resulting', 'punching')\n",
      "('spots', 'are', 'spots')\n",
      "('spots', 'is', 'drying')\n",
      "('spots', 'shape', 'block irregular distribution')\n",
      "('oil spot', 'usually caused', 'mechanical lubricant')\n",
      "('fish scale shape', 'shape', 'block irregular distribution')\n",
      "('crease', 'is', 'waist folding')\n",
      "('mechanical failure', 'lead to', 'punching')\n",
      "('crease', 'transverse', 'waist folding')\n",
      "('rolled pit', 'are', 'bulges')\n",
      "('oil spot', 'is', 'mechanical lubricant')\n",
      "('work roll', 'roll', 'damage')\n",
      "('inclusion', 'is', 'metal surface')\n",
      "('oil spot', 'caused by', 'mechanical lubricant')\n",
      "('spots', 'are similar to', 'spots')\n",
      "('oil spot', 'is usually caused by', 'mechanical lubricant')\n",
      "('spots', 'produced by', 'drying')\n",
      "('mechanical failure', 'resulting in', 'punching')\n",
      "('oil spot', 'usually caused by', 'mechanical lubricant')\n",
      "('metal surface', 'surface', 'spots')\n",
      "('rolled pit', 'bulges', 'pits')\n",
      "('metal surface', 'showing', 'fish scale shape')\n",
      "('oil spot', 'caused', 'mechanical lubricant')\n",
      "('rolled pit', 'rolled', 'bulges')\n",
      "('pits', 'surface', 'steel plate')\n",
      "('punching', 'resulting', 'punching')\n",
      "('inclusion', 'defect', 'metal surface')\n",
      "('fish scale shape', 'scale', 'block irregular distribution')\n"
     ]
    },
    {
     "ename": "",
     "evalue": "",
     "output_type": "error",
     "traceback": [
      "\u001b[1;31mThe Kernel crashed while executing code in the current cell or a previous cell. \n",
      "\u001b[1;31mPlease review the code in the cell(s) to identify a possible cause of the failure. \n",
      "\u001b[1;31mClick <a href='https://aka.ms/vscodeJupyterKernelCrash'>here</a> for more info. \n",
      "\u001b[1;31mView Jupyter <a href='command:jupyter.viewOutput'>log</a> for further details."
     ]
    }
   ],
   "source": [
    "display_relation(current_pipeline.kr)"
   ]
  },
  {
   "cell_type": "code",
   "execution_count": 23,
   "metadata": {},
   "outputs": [],
   "source": [
    "idx += 1"
   ]
  },
  {
   "cell_type": "markdown",
   "metadata": {},
   "source": [
    "### TFIDF Term Extraction and Synonym Relation Extraction"
   ]
  },
  {
   "cell_type": "code",
   "execution_count": null,
   "metadata": {},
   "outputs": [
    {
     "name": "stderr",
     "output_type": "stream",
     "text": [
      "[2024-07-18 14:21:02,118] [WARNING] [agglomerative_clustering_concept_extraction] [_check_parameters] [No value given for embedding_model parameter, default will be set to all-mpnet-base-v2.]\n",
      "[2024-07-18 14:21:02,120] [WARNING] [agglomerative_clustering_concept_extraction] [_check_parameters] [No value given for metric option, default will be set to cosine.]\n",
      "[2024-07-18 14:21:02,121] [WARNING] [tfidf_term_extraction] [_check_parameters] [Selected token sequence document attribute not set by the user.\n",
      "                By default the system will use the entire content of the document.]\n",
      "/home/oumar/Bureau/ontology-learning/env/lib/python3.10/site-packages/sklearn/feature_extraction/text.py:525: UserWarning: The parameter 'token_pattern' will not be used since 'tokenizer' is not None'\n",
      "  warnings.warn(\n"
     ]
    },
    {
     "name": "stdout",
     "output_type": "stream",
     "text": [
      "(0.13725490196078433, 0.3181818181818182, 0.19178082191780824)\n"
     ]
    }
   ],
   "source": [
    "\n",
    "tfidf_pipelines[idx] = Pipeline(\n",
    "        spacy_model=nlp,\n",
    "        pipeline_components=[\n",
    "            ManualCandidateTermExtraction(\n",
    "                ct_label_strings_map=ct_concept_label\n",
    "            ),\n",
    "            AgglomerativeClusteringConceptExtraction(\n",
    "                distance_threshold=.4\n",
    "            ),\n",
    "            TFIDFTermExtraction(\n",
    "                max_term_token_length=4,\n",
    "                candidate_term_threshold=.01,\n",
    "                cts_post_processing_functions=[relation_postprocessor]\n",
    "            ),\n",
    "            SynonymRelationExtraction(\n",
    "                concept_max_distance=8\n",
    "            )\n",
    "        ],\n",
    "        corpus_loader=corpus_loader\n",
    "    )\n",
    "\n",
    "\n",
    "free_gpu()\n",
    "current_pipeline = tfidf_pipelines[idx]\n",
    "current_pipeline.run()\n",
    "\n",
    "\n",
    "tfidf_results[3*idx: 3*idx + 3]= list(\n",
    "    results:=get_relation_ratio(current_pipeline, expected_relations, comparator_args=comparator_args)\n",
    "    )\n",
    "\n",
    "print(results)"
   ]
  },
  {
   "cell_type": "code",
   "execution_count": 25,
   "metadata": {},
   "outputs": [],
   "source": [
    "idx += 1"
   ]
  },
  {
   "cell_type": "markdown",
   "metadata": {},
   "source": [
    "### TFIDF Term Extraction and Agglomerative clustering Relation Extraction"
   ]
  },
  {
   "cell_type": "code",
   "execution_count": 26,
   "metadata": {},
   "outputs": [
    {
     "name": "stderr",
     "output_type": "stream",
     "text": [
      "[2024-07-18 14:21:16,597] [WARNING] [agglomerative_clustering_concept_extraction] [_check_parameters] [No value given for embedding_model parameter, default will be set to all-mpnet-base-v2.]\n",
      "[2024-07-18 14:21:16,599] [WARNING] [agglomerative_clustering_concept_extraction] [_check_parameters] [No value given for metric option, default will be set to cosine.]\n",
      "[2024-07-18 14:21:16,600] [WARNING] [tfidf_term_extraction] [_check_parameters] [Selected token sequence document attribute not set by the user.\n",
      "                By default the system will use the entire content of the document.]\n",
      "[2024-07-18 14:21:16,601] [WARNING] [agglomerative_clustering_relation_extraction] [_check_parameters] [No value given for embedding_model parameter, default will be set to all-mpnet-base-v2.]\n",
      "[2024-07-18 14:21:16,602] [WARNING] [agglomerative_clustering_relation_extraction] [_check_parameters] [No value given for nb_clusters option, default will be set to 2.]\n",
      "[2024-07-18 14:21:16,603] [WARNING] [agglomerative_clustering_relation_extraction] [_check_parameters] [No value given for metric option, default will be set to cosine.]\n",
      "/home/oumar/Bureau/ontology-learning/env/lib/python3.10/site-packages/sklearn/feature_extraction/text.py:525: UserWarning: The parameter 'token_pattern' will not be used since 'tokenizer' is not None'\n",
      "  warnings.warn(\n"
     ]
    },
    {
     "name": "stdout",
     "output_type": "stream",
     "text": [
      "(0.11764705882352941, 0.09090909090909091, 0.10256410256410256)\n"
     ]
    }
   ],
   "source": [
    "\n",
    "tfidf_pipelines[idx] = Pipeline(\n",
    "        spacy_model=nlp,\n",
    "        pipeline_components=[\n",
    "            ManualCandidateTermExtraction(\n",
    "                ct_label_strings_map=ct_concept_label\n",
    "            ),\n",
    "            AgglomerativeClusteringConceptExtraction(\n",
    "                distance_threshold=.4\n",
    "            ),\n",
    "            TFIDFTermExtraction(\n",
    "                max_term_token_length=4, \n",
    "                candidate_term_threshold=.01,\n",
    "                cts_post_processing_functions=[relation_postprocessor]\n",
    "            ),\n",
    "            AgglomerativeClusteringRelationExtraction(\n",
    "                concept_max_distance=6\n",
    "            )\n",
    "        ],\n",
    "        corpus_loader=corpus_loader\n",
    "    )\n",
    "\n",
    "\n",
    "free_gpu()\n",
    "current_pipeline = tfidf_pipelines[idx]\n",
    "current_pipeline.run()\n",
    "\n",
    "\n",
    "tfidf_results[3*idx: 3*idx + 3]= list(\n",
    "    results:=get_relation_ratio(current_pipeline, expected_relations, comparator_args=comparator_args)\n",
    "    )\n",
    "\n",
    "print(results)"
   ]
  },
  {
   "cell_type": "code",
   "execution_count": 27,
   "metadata": {},
   "outputs": [
    {
     "name": "stdout",
     "output_type": "stream",
     "text": [
      "Relations in KR:\n",
      "('inclusion', 'defect', 'metal surface')\n",
      "('fish scale shape', 'shape', 'block irregular distribution')\n",
      "('tension roll', 'roll', 'damage')\n",
      "('rolled pit', 'are', 'pits')\n",
      "('crease', 'crease', 'waist folding')\n",
      "('water spot', 'is produced by', 'drying')\n",
      "('tension roll', 'roll', 'tension roll')\n",
      "('metal surface', 'showing', 'water spot')\n",
      "('metal surface', 'usually showing', 'fish scale shape')\n",
      "('rolled pit', 'are', 'bulges')\n",
      "('mechanical failure', 'lead to', 'punching')\n",
      "('punching', 'resulting', 'punching')\n",
      "('pits', 'are', 'bulges')\n",
      "('pits', 'surface', 'steel plate')\n",
      "('pits', 'bulges', 'pits')\n",
      "('bulges', 'surface', 'steel plate')\n",
      "('oil spot', 'caused by', 'mechanical lubricant')\n"
     ]
    }
   ],
   "source": [
    "display_relation(current_pipeline.kr)"
   ]
  },
  {
   "cell_type": "code",
   "execution_count": 28,
   "metadata": {},
   "outputs": [
    {
     "data": {
      "text/plain": [
       "2"
      ]
     },
     "execution_count": 28,
     "metadata": {},
     "output_type": "execute_result"
    }
   ],
   "source": [
    "idx"
   ]
  },
  {
   "cell_type": "markdown",
   "metadata": {},
   "source": [
    "### Scores des pipelines"
   ]
  },
  {
   "cell_type": "code",
   "execution_count": 29,
   "metadata": {},
   "outputs": [
    {
     "data": {
      "text/html": [
       "<div>\n",
       "<style scoped>\n",
       "    .dataframe tbody tr th:only-of-type {\n",
       "        vertical-align: middle;\n",
       "    }\n",
       "\n",
       "    .dataframe tbody tr th {\n",
       "        vertical-align: top;\n",
       "    }\n",
       "\n",
       "    .dataframe thead tr th {\n",
       "        text-align: left;\n",
       "    }\n",
       "</style>\n",
       "<table border=\"1\" class=\"dataframe\">\n",
       "  <thead>\n",
       "    <tr>\n",
       "      <th></th>\n",
       "      <th colspan=\"3\" halign=\"left\">CandidatToRelation</th>\n",
       "      <th colspan=\"3\" halign=\"left\">SynonymToRelation</th>\n",
       "      <th colspan=\"3\" halign=\"left\">AgglomerativeClustering</th>\n",
       "    </tr>\n",
       "    <tr>\n",
       "      <th></th>\n",
       "      <th>Precision</th>\n",
       "      <th>Rappel</th>\n",
       "      <th>F1</th>\n",
       "      <th>Precision</th>\n",
       "      <th>Rappel</th>\n",
       "      <th>F1</th>\n",
       "      <th>Precision</th>\n",
       "      <th>Rappel</th>\n",
       "      <th>F1</th>\n",
       "    </tr>\n",
       "  </thead>\n",
       "  <tbody>\n",
       "    <tr>\n",
       "      <th>LLM Term Extraction</th>\n",
       "      <td>NaN</td>\n",
       "      <td>NaN</td>\n",
       "      <td>NaN</td>\n",
       "      <td>NaN</td>\n",
       "      <td>NaN</td>\n",
       "      <td>NaN</td>\n",
       "      <td>NaN</td>\n",
       "      <td>NaN</td>\n",
       "      <td>NaN</td>\n",
       "    </tr>\n",
       "    <tr>\n",
       "      <th>POStag Term Extraction</th>\n",
       "      <td>NaN</td>\n",
       "      <td>NaN</td>\n",
       "      <td>NaN</td>\n",
       "      <td>NaN</td>\n",
       "      <td>NaN</td>\n",
       "      <td>NaN</td>\n",
       "      <td>NaN</td>\n",
       "      <td>NaN</td>\n",
       "      <td>NaN</td>\n",
       "    </tr>\n",
       "    <tr>\n",
       "      <th>TFIDF Term Extraction</th>\n",
       "      <td>0.235294</td>\n",
       "      <td>0.545455</td>\n",
       "      <td>0.328767</td>\n",
       "      <td>0.137255</td>\n",
       "      <td>0.318182</td>\n",
       "      <td>0.191781</td>\n",
       "      <td>0.117647</td>\n",
       "      <td>0.090909</td>\n",
       "      <td>0.102564</td>\n",
       "    </tr>\n",
       "  </tbody>\n",
       "</table>\n",
       "</div>"
      ],
      "text/plain": [
       "                       CandidatToRelation                      \\\n",
       "                                Precision    Rappel        F1   \n",
       "LLM Term Extraction                   NaN       NaN       NaN   \n",
       "POStag Term Extraction                NaN       NaN       NaN   \n",
       "TFIDF Term Extraction            0.235294  0.545455  0.328767   \n",
       "\n",
       "                       SynonymToRelation                      \\\n",
       "                               Precision    Rappel        F1   \n",
       "LLM Term Extraction                  NaN       NaN       NaN   \n",
       "POStag Term Extraction               NaN       NaN       NaN   \n",
       "TFIDF Term Extraction           0.137255  0.318182  0.191781   \n",
       "\n",
       "                       AgglomerativeClustering                      \n",
       "                                     Precision    Rappel        F1  \n",
       "LLM Term Extraction                        NaN       NaN       NaN  \n",
       "POStag Term Extraction                     NaN       NaN       NaN  \n",
       "TFIDF Term Extraction                 0.117647  0.090909  0.102564  "
      ]
     },
     "execution_count": 29,
     "metadata": {},
     "output_type": "execute_result"
    }
   ],
   "source": [
    "pipelines_scores.loc[term_extraction_components[2]] = tfidf_results\n",
    "pipelines_scores"
   ]
  },
  {
   "cell_type": "code",
   "execution_count": 31,
   "metadata": {},
   "outputs": [
    {
     "data": {
      "application/vnd.plotly.v1+json": {
       "config": {
        "plotlyServerURL": "https://plot.ly"
       },
       "data": [
        {
         "alignmentgroup": "True",
         "hovertemplate": "Métrique=Precision<br>Composant=%{x}<br>Score=%{y}<extra></extra>",
         "legendgroup": "Precision",
         "marker": {
          "color": "#636efa",
          "pattern": {
           "shape": ""
          }
         },
         "name": "Precision",
         "offsetgroup": "Precision",
         "orientation": "v",
         "showlegend": true,
         "textposition": "auto",
         "type": "bar",
         "x": [
          "CandidatToRelation",
          "SynonymToRelation",
          "AgglomerativeClustering"
         ],
         "xaxis": "x",
         "y": [
          0.23529411764705882,
          0.13725490196078433,
          0.11764705882352941
         ],
         "yaxis": "y"
        },
        {
         "alignmentgroup": "True",
         "hovertemplate": "Métrique=Rappel<br>Composant=%{x}<br>Score=%{y}<extra></extra>",
         "legendgroup": "Rappel",
         "marker": {
          "color": "#EF553B",
          "pattern": {
           "shape": ""
          }
         },
         "name": "Rappel",
         "offsetgroup": "Rappel",
         "orientation": "v",
         "showlegend": true,
         "textposition": "auto",
         "type": "bar",
         "x": [
          "CandidatToRelation",
          "SynonymToRelation",
          "AgglomerativeClustering"
         ],
         "xaxis": "x",
         "y": [
          0.5454545454545454,
          0.3181818181818182,
          0.09090909090909091
         ],
         "yaxis": "y"
        },
        {
         "alignmentgroup": "True",
         "hovertemplate": "Métrique=F1<br>Composant=%{x}<br>Score=%{y}<extra></extra>",
         "legendgroup": "F1",
         "marker": {
          "color": "#00cc96",
          "pattern": {
           "shape": ""
          }
         },
         "name": "F1",
         "offsetgroup": "F1",
         "orientation": "v",
         "showlegend": true,
         "textposition": "auto",
         "type": "bar",
         "x": [
          "CandidatToRelation",
          "SynonymToRelation",
          "AgglomerativeClustering"
         ],
         "xaxis": "x",
         "y": [
          0.3287671232876712,
          0.19178082191780824,
          0.10256410256410256
         ],
         "yaxis": "y"
        }
       ],
       "layout": {
        "barmode": "group",
        "height": 600,
        "legend": {
         "title": {
          "text": "Métrique"
         },
         "tracegroupgap": 0
        },
        "template": {
         "data": {
          "bar": [
           {
            "error_x": {
             "color": "#2a3f5f"
            },
            "error_y": {
             "color": "#2a3f5f"
            },
            "marker": {
             "line": {
              "color": "#E5ECF6",
              "width": 0.5
             },
             "pattern": {
              "fillmode": "overlay",
              "size": 10,
              "solidity": 0.2
             }
            },
            "type": "bar"
           }
          ],
          "barpolar": [
           {
            "marker": {
             "line": {
              "color": "#E5ECF6",
              "width": 0.5
             },
             "pattern": {
              "fillmode": "overlay",
              "size": 10,
              "solidity": 0.2
             }
            },
            "type": "barpolar"
           }
          ],
          "carpet": [
           {
            "aaxis": {
             "endlinecolor": "#2a3f5f",
             "gridcolor": "white",
             "linecolor": "white",
             "minorgridcolor": "white",
             "startlinecolor": "#2a3f5f"
            },
            "baxis": {
             "endlinecolor": "#2a3f5f",
             "gridcolor": "white",
             "linecolor": "white",
             "minorgridcolor": "white",
             "startlinecolor": "#2a3f5f"
            },
            "type": "carpet"
           }
          ],
          "choropleth": [
           {
            "colorbar": {
             "outlinewidth": 0,
             "ticks": ""
            },
            "type": "choropleth"
           }
          ],
          "contour": [
           {
            "colorbar": {
             "outlinewidth": 0,
             "ticks": ""
            },
            "colorscale": [
             [
              0,
              "#0d0887"
             ],
             [
              0.1111111111111111,
              "#46039f"
             ],
             [
              0.2222222222222222,
              "#7201a8"
             ],
             [
              0.3333333333333333,
              "#9c179e"
             ],
             [
              0.4444444444444444,
              "#bd3786"
             ],
             [
              0.5555555555555556,
              "#d8576b"
             ],
             [
              0.6666666666666666,
              "#ed7953"
             ],
             [
              0.7777777777777778,
              "#fb9f3a"
             ],
             [
              0.8888888888888888,
              "#fdca26"
             ],
             [
              1,
              "#f0f921"
             ]
            ],
            "type": "contour"
           }
          ],
          "contourcarpet": [
           {
            "colorbar": {
             "outlinewidth": 0,
             "ticks": ""
            },
            "type": "contourcarpet"
           }
          ],
          "heatmap": [
           {
            "colorbar": {
             "outlinewidth": 0,
             "ticks": ""
            },
            "colorscale": [
             [
              0,
              "#0d0887"
             ],
             [
              0.1111111111111111,
              "#46039f"
             ],
             [
              0.2222222222222222,
              "#7201a8"
             ],
             [
              0.3333333333333333,
              "#9c179e"
             ],
             [
              0.4444444444444444,
              "#bd3786"
             ],
             [
              0.5555555555555556,
              "#d8576b"
             ],
             [
              0.6666666666666666,
              "#ed7953"
             ],
             [
              0.7777777777777778,
              "#fb9f3a"
             ],
             [
              0.8888888888888888,
              "#fdca26"
             ],
             [
              1,
              "#f0f921"
             ]
            ],
            "type": "heatmap"
           }
          ],
          "heatmapgl": [
           {
            "colorbar": {
             "outlinewidth": 0,
             "ticks": ""
            },
            "colorscale": [
             [
              0,
              "#0d0887"
             ],
             [
              0.1111111111111111,
              "#46039f"
             ],
             [
              0.2222222222222222,
              "#7201a8"
             ],
             [
              0.3333333333333333,
              "#9c179e"
             ],
             [
              0.4444444444444444,
              "#bd3786"
             ],
             [
              0.5555555555555556,
              "#d8576b"
             ],
             [
              0.6666666666666666,
              "#ed7953"
             ],
             [
              0.7777777777777778,
              "#fb9f3a"
             ],
             [
              0.8888888888888888,
              "#fdca26"
             ],
             [
              1,
              "#f0f921"
             ]
            ],
            "type": "heatmapgl"
           }
          ],
          "histogram": [
           {
            "marker": {
             "pattern": {
              "fillmode": "overlay",
              "size": 10,
              "solidity": 0.2
             }
            },
            "type": "histogram"
           }
          ],
          "histogram2d": [
           {
            "colorbar": {
             "outlinewidth": 0,
             "ticks": ""
            },
            "colorscale": [
             [
              0,
              "#0d0887"
             ],
             [
              0.1111111111111111,
              "#46039f"
             ],
             [
              0.2222222222222222,
              "#7201a8"
             ],
             [
              0.3333333333333333,
              "#9c179e"
             ],
             [
              0.4444444444444444,
              "#bd3786"
             ],
             [
              0.5555555555555556,
              "#d8576b"
             ],
             [
              0.6666666666666666,
              "#ed7953"
             ],
             [
              0.7777777777777778,
              "#fb9f3a"
             ],
             [
              0.8888888888888888,
              "#fdca26"
             ],
             [
              1,
              "#f0f921"
             ]
            ],
            "type": "histogram2d"
           }
          ],
          "histogram2dcontour": [
           {
            "colorbar": {
             "outlinewidth": 0,
             "ticks": ""
            },
            "colorscale": [
             [
              0,
              "#0d0887"
             ],
             [
              0.1111111111111111,
              "#46039f"
             ],
             [
              0.2222222222222222,
              "#7201a8"
             ],
             [
              0.3333333333333333,
              "#9c179e"
             ],
             [
              0.4444444444444444,
              "#bd3786"
             ],
             [
              0.5555555555555556,
              "#d8576b"
             ],
             [
              0.6666666666666666,
              "#ed7953"
             ],
             [
              0.7777777777777778,
              "#fb9f3a"
             ],
             [
              0.8888888888888888,
              "#fdca26"
             ],
             [
              1,
              "#f0f921"
             ]
            ],
            "type": "histogram2dcontour"
           }
          ],
          "mesh3d": [
           {
            "colorbar": {
             "outlinewidth": 0,
             "ticks": ""
            },
            "type": "mesh3d"
           }
          ],
          "parcoords": [
           {
            "line": {
             "colorbar": {
              "outlinewidth": 0,
              "ticks": ""
             }
            },
            "type": "parcoords"
           }
          ],
          "pie": [
           {
            "automargin": true,
            "type": "pie"
           }
          ],
          "scatter": [
           {
            "fillpattern": {
             "fillmode": "overlay",
             "size": 10,
             "solidity": 0.2
            },
            "type": "scatter"
           }
          ],
          "scatter3d": [
           {
            "line": {
             "colorbar": {
              "outlinewidth": 0,
              "ticks": ""
             }
            },
            "marker": {
             "colorbar": {
              "outlinewidth": 0,
              "ticks": ""
             }
            },
            "type": "scatter3d"
           }
          ],
          "scattercarpet": [
           {
            "marker": {
             "colorbar": {
              "outlinewidth": 0,
              "ticks": ""
             }
            },
            "type": "scattercarpet"
           }
          ],
          "scattergeo": [
           {
            "marker": {
             "colorbar": {
              "outlinewidth": 0,
              "ticks": ""
             }
            },
            "type": "scattergeo"
           }
          ],
          "scattergl": [
           {
            "marker": {
             "colorbar": {
              "outlinewidth": 0,
              "ticks": ""
             }
            },
            "type": "scattergl"
           }
          ],
          "scattermapbox": [
           {
            "marker": {
             "colorbar": {
              "outlinewidth": 0,
              "ticks": ""
             }
            },
            "type": "scattermapbox"
           }
          ],
          "scatterpolar": [
           {
            "marker": {
             "colorbar": {
              "outlinewidth": 0,
              "ticks": ""
             }
            },
            "type": "scatterpolar"
           }
          ],
          "scatterpolargl": [
           {
            "marker": {
             "colorbar": {
              "outlinewidth": 0,
              "ticks": ""
             }
            },
            "type": "scatterpolargl"
           }
          ],
          "scatterternary": [
           {
            "marker": {
             "colorbar": {
              "outlinewidth": 0,
              "ticks": ""
             }
            },
            "type": "scatterternary"
           }
          ],
          "surface": [
           {
            "colorbar": {
             "outlinewidth": 0,
             "ticks": ""
            },
            "colorscale": [
             [
              0,
              "#0d0887"
             ],
             [
              0.1111111111111111,
              "#46039f"
             ],
             [
              0.2222222222222222,
              "#7201a8"
             ],
             [
              0.3333333333333333,
              "#9c179e"
             ],
             [
              0.4444444444444444,
              "#bd3786"
             ],
             [
              0.5555555555555556,
              "#d8576b"
             ],
             [
              0.6666666666666666,
              "#ed7953"
             ],
             [
              0.7777777777777778,
              "#fb9f3a"
             ],
             [
              0.8888888888888888,
              "#fdca26"
             ],
             [
              1,
              "#f0f921"
             ]
            ],
            "type": "surface"
           }
          ],
          "table": [
           {
            "cells": {
             "fill": {
              "color": "#EBF0F8"
             },
             "line": {
              "color": "white"
             }
            },
            "header": {
             "fill": {
              "color": "#C8D4E3"
             },
             "line": {
              "color": "white"
             }
            },
            "type": "table"
           }
          ]
         },
         "layout": {
          "annotationdefaults": {
           "arrowcolor": "#2a3f5f",
           "arrowhead": 0,
           "arrowwidth": 1
          },
          "autotypenumbers": "strict",
          "coloraxis": {
           "colorbar": {
            "outlinewidth": 0,
            "ticks": ""
           }
          },
          "colorscale": {
           "diverging": [
            [
             0,
             "#8e0152"
            ],
            [
             0.1,
             "#c51b7d"
            ],
            [
             0.2,
             "#de77ae"
            ],
            [
             0.3,
             "#f1b6da"
            ],
            [
             0.4,
             "#fde0ef"
            ],
            [
             0.5,
             "#f7f7f7"
            ],
            [
             0.6,
             "#e6f5d0"
            ],
            [
             0.7,
             "#b8e186"
            ],
            [
             0.8,
             "#7fbc41"
            ],
            [
             0.9,
             "#4d9221"
            ],
            [
             1,
             "#276419"
            ]
           ],
           "sequential": [
            [
             0,
             "#0d0887"
            ],
            [
             0.1111111111111111,
             "#46039f"
            ],
            [
             0.2222222222222222,
             "#7201a8"
            ],
            [
             0.3333333333333333,
             "#9c179e"
            ],
            [
             0.4444444444444444,
             "#bd3786"
            ],
            [
             0.5555555555555556,
             "#d8576b"
            ],
            [
             0.6666666666666666,
             "#ed7953"
            ],
            [
             0.7777777777777778,
             "#fb9f3a"
            ],
            [
             0.8888888888888888,
             "#fdca26"
            ],
            [
             1,
             "#f0f921"
            ]
           ],
           "sequentialminus": [
            [
             0,
             "#0d0887"
            ],
            [
             0.1111111111111111,
             "#46039f"
            ],
            [
             0.2222222222222222,
             "#7201a8"
            ],
            [
             0.3333333333333333,
             "#9c179e"
            ],
            [
             0.4444444444444444,
             "#bd3786"
            ],
            [
             0.5555555555555556,
             "#d8576b"
            ],
            [
             0.6666666666666666,
             "#ed7953"
            ],
            [
             0.7777777777777778,
             "#fb9f3a"
            ],
            [
             0.8888888888888888,
             "#fdca26"
            ],
            [
             1,
             "#f0f921"
            ]
           ]
          },
          "colorway": [
           "#636efa",
           "#EF553B",
           "#00cc96",
           "#ab63fa",
           "#FFA15A",
           "#19d3f3",
           "#FF6692",
           "#B6E880",
           "#FF97FF",
           "#FECB52"
          ],
          "font": {
           "color": "#2a3f5f"
          },
          "geo": {
           "bgcolor": "white",
           "lakecolor": "white",
           "landcolor": "#E5ECF6",
           "showlakes": true,
           "showland": true,
           "subunitcolor": "white"
          },
          "hoverlabel": {
           "align": "left"
          },
          "hovermode": "closest",
          "mapbox": {
           "style": "light"
          },
          "paper_bgcolor": "white",
          "plot_bgcolor": "#E5ECF6",
          "polar": {
           "angularaxis": {
            "gridcolor": "white",
            "linecolor": "white",
            "ticks": ""
           },
           "bgcolor": "#E5ECF6",
           "radialaxis": {
            "gridcolor": "white",
            "linecolor": "white",
            "ticks": ""
           }
          },
          "scene": {
           "xaxis": {
            "backgroundcolor": "#E5ECF6",
            "gridcolor": "white",
            "gridwidth": 2,
            "linecolor": "white",
            "showbackground": true,
            "ticks": "",
            "zerolinecolor": "white"
           },
           "yaxis": {
            "backgroundcolor": "#E5ECF6",
            "gridcolor": "white",
            "gridwidth": 2,
            "linecolor": "white",
            "showbackground": true,
            "ticks": "",
            "zerolinecolor": "white"
           },
           "zaxis": {
            "backgroundcolor": "#E5ECF6",
            "gridcolor": "white",
            "gridwidth": 2,
            "linecolor": "white",
            "showbackground": true,
            "ticks": "",
            "zerolinecolor": "white"
           }
          },
          "shapedefaults": {
           "line": {
            "color": "#2a3f5f"
           }
          },
          "ternary": {
           "aaxis": {
            "gridcolor": "white",
            "linecolor": "white",
            "ticks": ""
           },
           "baxis": {
            "gridcolor": "white",
            "linecolor": "white",
            "ticks": ""
           },
           "bgcolor": "#E5ECF6",
           "caxis": {
            "gridcolor": "white",
            "linecolor": "white",
            "ticks": ""
           }
          },
          "title": {
           "x": 0.05
          },
          "xaxis": {
           "automargin": true,
           "gridcolor": "white",
           "linecolor": "white",
           "ticks": "",
           "title": {
            "standoff": 15
           },
           "zerolinecolor": "white",
           "zerolinewidth": 2
          },
          "yaxis": {
           "automargin": true,
           "gridcolor": "white",
           "linecolor": "white",
           "ticks": "",
           "title": {
            "standoff": 15
           },
           "zerolinecolor": "white",
           "zerolinewidth": 2
          }
         }
        },
        "title": {
         "text": "Scores de Précision, Rappel et F1 pour TFIDF Term Extraction"
        },
        "width": 1000,
        "xaxis": {
         "anchor": "y",
         "domain": [
          0,
          1
         ],
         "title": {
          "text": "Composants"
         }
        },
        "yaxis": {
         "anchor": "x",
         "domain": [
          0,
          1
         ],
         "title": {
          "text": "Scores"
         }
        }
       }
      }
     },
     "metadata": {},
     "output_type": "display_data"
    }
   ],
   "source": [
    "create_bar_chart(\"TFIDF Term Extraction\", pipelines_scores)"
   ]
  },
  {
   "cell_type": "markdown",
   "metadata": {},
   "source": [
    "# last attempt"
   ]
  },
  {
   "cell_type": "markdown",
   "metadata": {},
   "source": [
    "In this attempt we submit the concepts, the relation labels would like to have and the corpus ."
   ]
  },
  {
   "cell_type": "code",
   "execution_count": null,
   "metadata": {},
   "outputs": [],
   "source": [
    "llm_output = [\n",
    "    [\"water spot\", \"is produced by\", \"drying\"],\n",
    "    [\"water spot\", \"is produced by\", \"production\"],\n",
    "    [\"oil spot\", \"is caused by\", \"contamination\"],\n",
    "    [\"contamination\", \"is caused by\", \"mechanical lubricant\"],\n",
    "    [\"oil spot\", \"has appearance\", \"product\"],\n",
    "    [\"crescent gap\", \"is caused by\", \"cutting\"],\n",
    "    [\"weld line\", \"is part of\", \"strip\"],\n",
    "    [\"inclusion\", \"has appearance\", \"small spots\"],\n",
    "    [\"inclusion\", \"has appearance\", \"fish scale shape\"],\n",
    "    [\"inclusion\", \"has appearance\", \"strip shape\"],\n",
    "    [\"inclusion\", \"has appearance\", \"block irregular distribution\"],\n",
    "    [\"inclusion\", \"is part of\", \"upper surface\"],\n",
    "    [\"inclusion\", \"is part of\", \"lower surface\"],\n",
    "    [\"inclusion\", \"is accompanied by\", \"rough pockmarked surfaces\"],\n",
    "    [\"crease\", \"has appearance\", \"vertical transverse fold\"],\n",
    "    [\"crease\", \"has abnormal\", \"spacing\"],\n",
    "    [\"crease\", \"is caused by\", \"local yield\"],\n",
    "    [\"crease\", \"is part of\", \"strip\"],\n",
    "    [\"silk spot\", \"has appearance\", \"plaque\"],\n",
    "    [\"silk spot\", \"is caused by\", \"uneven temperature\"],\n",
    "    [\"silk spot\", \"is caused by\", \"uneven pressure\"],\n",
    "    [\"waist folding\", \"has appearance\", \"obvious folds\"],\n",
    "    [\"waist folding\", \"has appearance\", \"wrinkles\"],\n",
    "    [\"waist folding\", \"is caused by\", \"local deformation\"],\n",
    "    [\"waist folding\", \"is caused by\", \"low-carbon\"],\n",
    "    [\"punching\", \"is produced by\", \"production line\"],\n",
    "    [\"punching\", \"is produced by\", \"strip\"],\n",
    "    [\"punching\", \"is caused by\", \"mechanical failure\"],\n",
    "    [\"punctate\", \"is part of\", \"rolled pit\"],\n",
    "    [\"rolled pit\", \"has appearance\", \"bulges\"],\n",
    "    [\"rolled pit\", \"has appearance\", \"pits\"],\n",
    "    [\"rolled pit\", \"is caused by\", \"work roll\"],\n",
    "    [\"rolled pit\", \"is caused by\", \"tension roll\"],\n",
    "    [\"rolled pit\", \"is part of\", \"steel plate\"]\n",
    "]\n"
   ]
  },
  {
   "cell_type": "code",
   "execution_count": null,
   "metadata": {},
   "outputs": [
    {
     "data": {
      "text/plain": [
       "{(product, has abnormal, appearance),\n",
       " (steel strip, has abnormal, appearance),\n",
       " (crease, has appearance, vertical),\n",
       " (waist folding, has appearance, wrinkles like),\n",
       " (silk spot, has appearance, wave like plaque),\n",
       " (defect, has appearance, appearance),\n",
       " (inclusion, has appearance, spot),\n",
       " (crescent gap, has appearance, half circle),\n",
       " (rolled pit, has appearance, periodic bulges or pits),\n",
       " (defect, is caused by, cause),\n",
       " (punching, is caused by, mechanical failure),\n",
       " (crescent gap, is caused by, cutting),\n",
       " (crease, is caused by, local yield),\n",
       " (waist folding, is caused by, low carbon),\n",
       " (oil spot, is caused by, mechanical lubricant),\n",
       " (water spot, is caused by, drying),\n",
       " (factory, is part of, factory),\n",
       " (roller, is part of, machine),\n",
       " (machine, is part of, factory),\n",
       " (production line, is part of, factory),\n",
       " (product, is produced by, factory),\n",
       " (steel strip, is produced by, machine)}"
      ]
     },
     "execution_count": 237,
     "metadata": {},
     "output_type": "execute_result"
    }
   ],
   "source": [
    "expected_relations"
   ]
  },
  {
   "cell_type": "code",
   "execution_count": null,
   "metadata": {},
   "outputs": [
    {
     "name": "stderr",
     "output_type": "stream",
     "text": [
      "[2024-07-12 00:51:16,158] [WARNING] [agglomerative_clustering_concept_extraction] [_check_parameters] [No value given for embedding_model parameter, default will be set to all-mpnet-base-v2.]\n",
      "[2024-07-12 00:51:16,160] [WARNING] [agglomerative_clustering_concept_extraction] [_check_parameters] [No value given for metric option, default will be set to cosine.]\n"
     ]
    },
    {
     "data": {
      "text/plain": [
       "(0.058823529411764705, 0.045454545454545456, 0.05128205128205128)"
      ]
     },
     "execution_count": 239,
     "metadata": {},
     "output_type": "execute_result"
    }
   ],
   "source": [
    "found_relations = {\n",
    "   Relation(\n",
    "       relation[1], \n",
    "       Concept(relation[0]), \n",
    "       Concept(relation[2])\n",
    "       ) for relation in llm_output\n",
    "}\n",
    "\n",
    "\n",
    "pipeline = Pipeline(\n",
    "    spacy_model=nlp,\n",
    "    pipeline_components=[\n",
    "        ManualCandidateTermExtraction(\n",
    "            ct_label_strings_map=ct_concept_label\n",
    "        ),\n",
    "        AgglomerativeClusteringConceptExtraction(\n",
    "            distance_threshold=.4\n",
    "        )\n",
    "    ],\n",
    "    corpus_loader=corpus_loader\n",
    ")\n",
    "\n",
    "pipeline.run()\n",
    "\n",
    "pipeline.kr.relations = found_relations\n",
    "\n",
    "get_relation_ratio(current_pipeline, expected_relations, comparator_args=comparator_args)"
   ]
  }
 ],
 "metadata": {
  "kernelspec": {
   "display_name": "env",
   "language": "python",
   "name": "python3"
  },
  "language_info": {
   "codemirror_mode": {
    "name": "ipython",
    "version": 3
   },
   "file_extension": ".py",
   "mimetype": "text/x-python",
   "name": "python",
   "nbconvert_exporter": "python",
   "pygments_lexer": "ipython3",
   "version": "3.10.12"
  }
 },
 "nbformat": 4,
 "nbformat_minor": 2
}
